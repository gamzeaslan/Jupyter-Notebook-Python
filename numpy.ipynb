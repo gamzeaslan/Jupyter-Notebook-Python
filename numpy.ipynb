{
  "nbformat": 4,
  "nbformat_minor": 0,
  "metadata": {
    "colab": {
      "provenance": []
    },
    "kernelspec": {
      "name": "python3",
      "display_name": "Python 3"
    },
    "language_info": {
      "name": "python"
    }
  },
  "cells": [
    {
      "cell_type": "code",
      "execution_count": 1,
      "metadata": {
        "id": "1tU8bE5ePOiv"
      },
      "outputs": [],
      "source": [
        "import numpy as np"
      ]
    },
    {
      "cell_type": "code",
      "source": [
        "arr=np.array([1,2,3,4])"
      ],
      "metadata": {
        "id": "LuIcIdKUQn0I"
      },
      "execution_count": 2,
      "outputs": []
    },
    {
      "cell_type": "code",
      "source": [
        "arr"
      ],
      "metadata": {
        "colab": {
          "base_uri": "https://localhost:8080/"
        },
        "id": "BHrU7QF0VHhu",
        "outputId": "158bfd83-83e2-4629-f831-7ad5c062c894"
      },
      "execution_count": 3,
      "outputs": [
        {
          "output_type": "execute_result",
          "data": {
            "text/plain": [
              "array([1, 2, 3, 4])"
            ]
          },
          "metadata": {},
          "execution_count": 3
        }
      ]
    },
    {
      "cell_type": "code",
      "source": [
        "liste=[\"Gamze\",12,True,12.3]"
      ],
      "metadata": {
        "id": "Lzue7eH_VH28"
      },
      "execution_count": 4,
      "outputs": []
    },
    {
      "cell_type": "code",
      "source": [
        "print(type(liste[0]))\n",
        "print(type(liste[1]))\n",
        "print(type(liste[2]))\n",
        "print(type(liste[3]))"
      ],
      "metadata": {
        "colab": {
          "base_uri": "https://localhost:8080/"
        },
        "id": "4q1Pb4LaVNU2",
        "outputId": "9063480f-a6b9-470f-832e-fe0b51372646"
      },
      "execution_count": 5,
      "outputs": [
        {
          "output_type": "stream",
          "name": "stdout",
          "text": [
            "<class 'str'>\n",
            "<class 'int'>\n",
            "<class 'bool'>\n",
            "<class 'float'>\n"
          ]
        }
      ]
    },
    {
      "cell_type": "code",
      "source": [
        "#listedeki elemanlar birbirinden farklı türde olabilirler fakat bu durum numpy arrayleri için geçerli değildir"
      ],
      "metadata": {
        "id": "oXlKMRomVYCB"
      },
      "execution_count": 6,
      "outputs": []
    },
    {
      "cell_type": "code",
      "source": [
        "arr1=np.array(liste)"
      ],
      "metadata": {
        "id": "QO8_lleCVg61"
      },
      "execution_count": 7,
      "outputs": []
    },
    {
      "cell_type": "code",
      "source": [
        "print(type(arr1[0]))\n",
        "print(type(arr1[1]))\n",
        "print(type(arr1[2]))\n",
        "print(type(arr1[3]))\n",
        "#buradaki hiyerarşi şu şekilde :\n",
        "#str>float>int>bool şeklindedir"
      ],
      "metadata": {
        "colab": {
          "base_uri": "https://localhost:8080/"
        },
        "id": "4oqrgb8MVlL5",
        "outputId": "4bb83b79-c0a4-4901-d731-966fc9f399eb"
      },
      "execution_count": 11,
      "outputs": [
        {
          "output_type": "stream",
          "name": "stdout",
          "text": [
            "<class 'numpy.str_'>\n",
            "<class 'numpy.str_'>\n",
            "<class 'numpy.str_'>\n",
            "<class 'numpy.str_'>\n"
          ]
        }
      ]
    },
    {
      "cell_type": "code",
      "source": [
        " arr2=np.array([1,2,3])"
      ],
      "metadata": {
        "id": "H4qn3OiGWauo"
      },
      "execution_count": 12,
      "outputs": []
    },
    {
      "cell_type": "code",
      "source": [
        "type(arr2)\n",
        "#numpy.ndarray şeklinde n boyutlu array anlamına gelmektedir\n"
      ],
      "metadata": {
        "colab": {
          "base_uri": "https://localhost:8080/"
        },
        "id": "PVNNiEsWXJE5",
        "outputId": "a93975fe-57aa-4784-99dc-2414c92f33b6"
      },
      "execution_count": 14,
      "outputs": [
        {
          "output_type": "execute_result",
          "data": {
            "text/plain": [
              "numpy.ndarray"
            ]
          },
          "metadata": {},
          "execution_count": 14
        }
      ]
    },
    {
      "cell_type": "code",
      "source": [
        "zerosarr=np.zeros([5,5])#numpy da floatta .0 yazılmaz . yazılır sadece "
      ],
      "metadata": {
        "id": "JqhEqREpXOZT"
      },
      "execution_count": 17,
      "outputs": []
    },
    {
      "cell_type": "code",
      "source": [
        "zerosarr"
      ],
      "metadata": {
        "colab": {
          "base_uri": "https://localhost:8080/"
        },
        "id": "2trsR9DdXdlA",
        "outputId": "ac7f1f97-fd3e-4aa1-d262-7912bf857c62"
      },
      "execution_count": 18,
      "outputs": [
        {
          "output_type": "execute_result",
          "data": {
            "text/plain": [
              "array([[0., 0., 0., 0., 0.],\n",
              "       [0., 0., 0., 0., 0.],\n",
              "       [0., 0., 0., 0., 0.],\n",
              "       [0., 0., 0., 0., 0.],\n",
              "       [0., 0., 0., 0., 0.]])"
            ]
          },
          "metadata": {},
          "execution_count": 18
        }
      ]
    },
    {
      "cell_type": "code",
      "source": [
        "onesarr=np.ones((5,5))"
      ],
      "metadata": {
        "id": "NKDShRAjXedn"
      },
      "execution_count": 19,
      "outputs": []
    },
    {
      "cell_type": "code",
      "source": [
        "onesarr"
      ],
      "metadata": {
        "colab": {
          "base_uri": "https://localhost:8080/"
        },
        "id": "Wew491eTXwTU",
        "outputId": "69cebae4-fed4-44d9-ac76-622429b5317e"
      },
      "execution_count": 20,
      "outputs": [
        {
          "output_type": "execute_result",
          "data": {
            "text/plain": [
              "array([[1., 1., 1., 1., 1.],\n",
              "       [1., 1., 1., 1., 1.],\n",
              "       [1., 1., 1., 1., 1.],\n",
              "       [1., 1., 1., 1., 1.],\n",
              "       [1., 1., 1., 1., 1.]])"
            ]
          },
          "metadata": {},
          "execution_count": 20
        }
      ]
    },
    {
      "cell_type": "code",
      "source": [
        "fullarr=np.full((5,5),3)#model oluşturmada kullanılır "
      ],
      "metadata": {
        "id": "sX_2XL5fXxlm"
      },
      "execution_count": 23,
      "outputs": []
    },
    {
      "cell_type": "code",
      "source": [
        "fullarr"
      ],
      "metadata": {
        "colab": {
          "base_uri": "https://localhost:8080/"
        },
        "id": "A1sAnS6UX_Vd",
        "outputId": "83ef995a-2507-4ec4-b4d5-8df3e0f521a7"
      },
      "execution_count": 24,
      "outputs": [
        {
          "output_type": "execute_result",
          "data": {
            "text/plain": [
              "array([[3, 3, 3, 3, 3],\n",
              "       [3, 3, 3, 3, 3],\n",
              "       [3, 3, 3, 3, 3],\n",
              "       [3, 3, 3, 3, 3],\n",
              "       [3, 3, 3, 3, 3]])"
            ]
          },
          "metadata": {},
          "execution_count": 24
        }
      ]
    },
    {
      "cell_type": "code",
      "source": [
        "np.random.randint(0,10,(10,10))"
      ],
      "metadata": {
        "colab": {
          "base_uri": "https://localhost:8080/"
        },
        "id": "X5NPiTilYAF0",
        "outputId": "19f44fd6-22d3-45de-f043-a725654ee029"
      },
      "execution_count": 26,
      "outputs": [
        {
          "output_type": "execute_result",
          "data": {
            "text/plain": [
              "array([[2, 4, 9, 8, 2, 1, 2, 9, 7, 7],\n",
              "       [7, 6, 7, 8, 6, 5, 0, 3, 2, 1],\n",
              "       [1, 5, 4, 5, 9, 1, 2, 3, 1, 4],\n",
              "       [9, 3, 4, 2, 6, 6, 9, 4, 6, 1],\n",
              "       [7, 3, 8, 4, 5, 4, 5, 9, 3, 7],\n",
              "       [2, 3, 5, 4, 8, 2, 5, 0, 0, 5],\n",
              "       [9, 0, 4, 6, 4, 3, 6, 2, 1, 4],\n",
              "       [6, 4, 9, 9, 6, 9, 9, 0, 1, 8],\n",
              "       [4, 1, 0, 6, 3, 6, 4, 0, 9, 8],\n",
              "       [5, 4, 4, 0, 8, 1, 8, 1, 6, 0]])"
            ]
          },
          "metadata": {},
          "execution_count": 26
        }
      ]
    },
    {
      "cell_type": "code",
      "source": [
        "np.eye(5)#birim matris oluşturuyor"
      ],
      "metadata": {
        "colab": {
          "base_uri": "https://localhost:8080/"
        },
        "id": "w_dKNP-NYRfU",
        "outputId": "9fd12a22-688b-4b59-b3dd-303c676331fb"
      },
      "execution_count": 29,
      "outputs": [
        {
          "output_type": "execute_result",
          "data": {
            "text/plain": [
              "array([[1., 0., 0., 0., 0.],\n",
              "       [0., 1., 0., 0., 0.],\n",
              "       [0., 0., 1., 0., 0.],\n",
              "       [0., 0., 0., 1., 0.],\n",
              "       [0., 0., 0., 0., 1.]])"
            ]
          },
          "metadata": {},
          "execution_count": 29
        }
      ]
    },
    {
      "cell_type": "code",
      "source": [
        "np.eye(100)#üç noktaya dikkat"
      ],
      "metadata": {
        "colab": {
          "base_uri": "https://localhost:8080/"
        },
        "id": "VRa7vi_gYiIt",
        "outputId": "63caf8b4-ca96-48de-fc49-266ff6e4c9d4"
      },
      "execution_count": 31,
      "outputs": [
        {
          "output_type": "execute_result",
          "data": {
            "text/plain": [
              "array([[1., 0., 0., ..., 0., 0., 0.],\n",
              "       [0., 1., 0., ..., 0., 0., 0.],\n",
              "       [0., 0., 1., ..., 0., 0., 0.],\n",
              "       ...,\n",
              "       [0., 0., 0., ..., 1., 0., 0.],\n",
              "       [0., 0., 0., ..., 0., 1., 0.],\n",
              "       [0., 0., 0., ..., 0., 0., 1.]])"
            ]
          },
          "metadata": {},
          "execution_count": 31
        }
      ]
    },
    {
      "cell_type": "code",
      "source": [
        "np.linspace(0,100,20)#belirtilen aralıktaki sayıları belirtilen sayı adeti kadar böler "
      ],
      "metadata": {
        "colab": {
          "base_uri": "https://localhost:8080/"
        },
        "id": "xHt21FOfYuai",
        "outputId": "94abdb4f-48c6-45e2-9ac6-a35f2e858f6f"
      },
      "execution_count": 34,
      "outputs": [
        {
          "output_type": "execute_result",
          "data": {
            "text/plain": [
              "array([  0.        ,   5.26315789,  10.52631579,  15.78947368,\n",
              "        21.05263158,  26.31578947,  31.57894737,  36.84210526,\n",
              "        42.10526316,  47.36842105,  52.63157895,  57.89473684,\n",
              "        63.15789474,  68.42105263,  73.68421053,  78.94736842,\n",
              "        84.21052632,  89.47368421,  94.73684211, 100.        ])"
            ]
          },
          "metadata": {},
          "execution_count": 34
        }
      ]
    },
    {
      "cell_type": "code",
      "source": [
        "arr=np.array([1.2, 2.3, 3.4, 4.5, 5.6], dtype=np.int8)#kayıplı tip dönüşümü söz konusu"
      ],
      "metadata": {
        "id": "wmW4usbIY-Oi"
      },
      "execution_count": 37,
      "outputs": []
    },
    {
      "cell_type": "code",
      "source": [
        "arr"
      ],
      "metadata": {
        "colab": {
          "base_uri": "https://localhost:8080/"
        },
        "id": "gMYIjLecd-3C",
        "outputId": "021b52dd-ed08-4c1e-968a-714257de5dd2"
      },
      "execution_count": 36,
      "outputs": [
        {
          "output_type": "execute_result",
          "data": {
            "text/plain": [
              "array([1, 2, 3, 4, 5], dtype=int8)"
            ]
          },
          "metadata": {},
          "execution_count": 36
        }
      ]
    },
    {
      "cell_type": "code",
      "source": [
        "arr=np.array([1,2,3,4,5],dtype=np.complex128)"
      ],
      "metadata": {
        "id": "Q2veA7rUd_S1"
      },
      "execution_count": 38,
      "outputs": []
    },
    {
      "cell_type": "code",
      "source": [
        "arr"
      ],
      "metadata": {
        "colab": {
          "base_uri": "https://localhost:8080/"
        },
        "id": "tHIdl-UTeTkG",
        "outputId": "33ff570d-db36-4ed0-b405-19ad2019c46d"
      },
      "execution_count": 39,
      "outputs": [
        {
          "output_type": "execute_result",
          "data": {
            "text/plain": [
              "array([1.+0.j, 2.+0.j, 3.+0.j, 4.+0.j, 5.+0.j])"
            ]
          },
          "metadata": {},
          "execution_count": 39
        }
      ]
    },
    {
      "cell_type": "code",
      "source": [
        "#array metotları"
      ],
      "metadata": {
        "id": "d6BnXtMneUJ6"
      },
      "execution_count": 40,
      "outputs": []
    },
    {
      "cell_type": "code",
      "source": [],
      "metadata": {
        "id": "Zw_uSZx5e6eg"
      },
      "execution_count": null,
      "outputs": []
    }
  ]
}