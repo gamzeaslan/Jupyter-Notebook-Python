{
 "cells": [
  {
   "cell_type": "code",
   "execution_count": 190,
   "id": "e296e709",
   "metadata": {},
   "outputs": [],
   "source": [
    "import numpy as np\n",
    "import pandas as pd"
   ]
  },
  {
   "cell_type": "markdown",
   "id": "06350e87",
   "metadata": {},
   "source": [
    "# SERIES/SERİLER\n"
   ]
  },
  {
   "cell_type": "markdown",
   "id": "e02caac5",
   "metadata": {},
   "source": [
    "numpy dizileri üzerinde inşa edilmiştir fakat burada biraz daha esnek davranabiliyoruz\n",
    "pandasa veri biliminin exceli derler\n",
    "\n",
    "Serileri birçok farklı şeyden oluşturabiliriz.Örneğin listelerden ,numpy dizilerinden,sözlüklerden gibi birçok şeyden oluşturabiliriz"
   ]
  },
  {
   "cell_type": "markdown",
   "id": "ea31320c",
   "metadata": {},
   "source": [
    "SÖZLÜKLER"
   ]
  },
  {
   "cell_type": "code",
   "execution_count": 191,
   "id": "535b2474",
   "metadata": {},
   "outputs": [],
   "source": [
    "myDic={\"Ayşe\":27,\"Aysun\":21,\"Nur\":35}"
   ]
  },
  {
   "cell_type": "code",
   "execution_count": 192,
   "id": "4ef299e9",
   "metadata": {},
   "outputs": [
    {
     "data": {
      "text/plain": [
       "Ayşe     27\n",
       "Aysun    21\n",
       "Nur      35\n",
       "dtype: int64"
      ]
     },
     "execution_count": 192,
     "metadata": {},
     "output_type": "execute_result"
    }
   ],
   "source": [
    "pd.Series(myDic)#veri biliminin exceli denmesindeki sebep verdiği çıktının düzeninden kaynaklanmaktadır"
   ]
  },
  {
   "cell_type": "markdown",
   "id": "67b4704f",
   "metadata": {},
   "source": [
    "LİSTELER"
   ]
  },
  {
   "cell_type": "code",
   "execution_count": 193,
   "id": "2ace0682",
   "metadata": {},
   "outputs": [],
   "source": [
    "myListData=[20,40,30]\n",
    "myListIndex=[\"Ayşe\",\"Mehmet\",\"Arzu\"]"
   ]
  },
  {
   "cell_type": "code",
   "execution_count": 194,
   "id": "40b9820e",
   "metadata": {},
   "outputs": [
    {
     "data": {
      "text/plain": [
       "0    20\n",
       "1    40\n",
       "2    30\n",
       "dtype: int64"
      ]
     },
     "execution_count": 194,
     "metadata": {},
     "output_type": "execute_result"
    }
   ],
   "source": [
    "pd.Series(myListData)#kendisi default olarak index atar"
   ]
  },
  {
   "cell_type": "code",
   "execution_count": 195,
   "id": "a296c926",
   "metadata": {},
   "outputs": [
    {
     "data": {
      "text/plain": [
       "Ayşe      20\n",
       "Mehmet    40\n",
       "Arzu      30\n",
       "dtype: int64"
      ]
     },
     "execution_count": 195,
     "metadata": {},
     "output_type": "execute_result"
    }
   ],
   "source": [
    "pd.Series(myListData,myListIndex)"
   ]
  },
  {
   "cell_type": "code",
   "execution_count": 196,
   "id": "5d1c9fcc",
   "metadata": {},
   "outputs": [
    {
     "data": {
      "text/plain": [
       "Ayşe      20\n",
       "Mehmet    40\n",
       "Arzu      30\n",
       "dtype: int64"
      ]
     },
     "execution_count": 196,
     "metadata": {},
     "output_type": "execute_result"
    }
   ],
   "source": [
    "pd.Series(data=myListData,index=myListIndex)#bu şeklide bir yazım şekli ile daha temiz bir kod yazmış oluruz"
   ]
  },
  {
   "cell_type": "markdown",
   "id": "5ca78fc9",
   "metadata": {},
   "source": [
    "NUMPY ARRAY"
   ]
  },
  {
   "cell_type": "code",
   "execution_count": 197,
   "id": "2d9f9a8b",
   "metadata": {},
   "outputs": [
    {
     "data": {
      "text/plain": [
       "[1, 2, 3, 4, 5, 6, 7]"
      ]
     },
     "execution_count": 197,
     "metadata": {},
     "output_type": "execute_result"
    }
   ],
   "source": [
    "myList=list(range(1,8))\n",
    "myList"
   ]
  },
  {
   "cell_type": "code",
   "execution_count": 198,
   "id": "6f3b2b4b",
   "metadata": {},
   "outputs": [
    {
     "data": {
      "text/plain": [
       "array([1, 2, 3, 4, 5, 6, 7])"
      ]
     },
     "execution_count": 198,
     "metadata": {},
     "output_type": "execute_result"
    }
   ],
   "source": [
    "myArray=np.array(myList)\n",
    "myArray"
   ]
  },
  {
   "cell_type": "code",
   "execution_count": 199,
   "id": "838aa36f",
   "metadata": {},
   "outputs": [
    {
     "data": {
      "text/plain": [
       "0    1\n",
       "1    2\n",
       "2    3\n",
       "3    4\n",
       "4    5\n",
       "5    6\n",
       "6    7\n",
       "dtype: int32"
      ]
     },
     "execution_count": 199,
     "metadata": {},
     "output_type": "execute_result"
    }
   ],
   "source": [
    "mySeries=pd.Series(myArray)\n",
    "mySeries"
   ]
  },
  {
   "cell_type": "code",
   "execution_count": 200,
   "id": "c8eeb612",
   "metadata": {},
   "outputs": [],
   "source": [
    "#eğer default index dışında index atamak istersek len(data)==len(index) olmalıdır\n",
    "#yoksa error verir\n",
    "mySeries=pd.Series(myArray)"
   ]
  },
  {
   "cell_type": "markdown",
   "id": "4d8104b2",
   "metadata": {},
   "source": [
    "# SERIES ÖZELLİKLERİ"
   ]
  },
  {
   "cell_type": "code",
   "execution_count": 201,
   "id": "ab06626c",
   "metadata": {},
   "outputs": [],
   "source": [
    "mySerıes2=pd.Series([\"ayşe\",\"fatma\",\"gül\"],[80,70,87])  "
   ]
  },
  {
   "cell_type": "code",
   "execution_count": 202,
   "id": "58dacaaa",
   "metadata": {},
   "outputs": [
    {
     "data": {
      "text/plain": [
       "80     ayşe\n",
       "70    fatma\n",
       "87      gül\n",
       "dtype: object"
      ]
     },
     "execution_count": 202,
     "metadata": {},
     "output_type": "execute_result"
    }
   ],
   "source": [
    "mySerıes2"
   ]
  },
  {
   "cell_type": "code",
   "execution_count": 203,
   "id": "746c7f0d",
   "metadata": {},
   "outputs": [],
   "source": [
    "diffSeries1=pd.Series([25,35,23],[\"ayşe\",\"nur\",\"elif\"])"
   ]
  },
  {
   "cell_type": "code",
   "execution_count": 204,
   "id": "86069bbd",
   "metadata": {},
   "outputs": [],
   "source": [
    "diffSeries2=pd.Series([12,24,12],[\"ayşe\",\"nur\",\"elif\"])"
   ]
  },
  {
   "cell_type": "code",
   "execution_count": 205,
   "id": "45c597a6",
   "metadata": {},
   "outputs": [],
   "source": [
    "additionSeries=diffSeries1+diffSeries2"
   ]
  },
  {
   "cell_type": "code",
   "execution_count": 206,
   "id": "b6a60f25",
   "metadata": {},
   "outputs": [
    {
     "data": {
      "text/plain": [
       "ayşe    37\n",
       "nur     59\n",
       "elif    35\n",
       "dtype: int64"
      ]
     },
     "execution_count": 206,
     "metadata": {},
     "output_type": "execute_result"
    }
   ],
   "source": [
    "additionSeries"
   ]
  },
  {
   "cell_type": "code",
   "execution_count": 207,
   "id": "6aefae84",
   "metadata": {},
   "outputs": [],
   "source": [
    "#eğer toplama işlemi yapılırken kesişmeyen elemanlar olursa\n"
   ]
  },
  {
   "cell_type": "code",
   "execution_count": 208,
   "id": "8a1d5467",
   "metadata": {},
   "outputs": [],
   "source": [
    "diffSeries3=pd.Series([12,13,24],[\"ayşe\",\"nur\",\"harun\"])\n",
    "diffSeries4=pd.Series([13,24,53],[\"ayşe\",\"güneş\",\"nur\"])"
   ]
  },
  {
   "cell_type": "code",
   "execution_count": 209,
   "id": "732d0664",
   "metadata": {},
   "outputs": [],
   "source": [
    "additionSeries2=diffSeries3+diffSeries4"
   ]
  },
  {
   "cell_type": "code",
   "execution_count": 210,
   "id": "1279aff9",
   "metadata": {},
   "outputs": [
    {
     "data": {
      "text/plain": [
       "ayşe     25.0\n",
       "güneş     NaN\n",
       "harun     NaN\n",
       "nur      66.0\n",
       "dtype: float64"
      ]
     },
     "execution_count": 210,
     "metadata": {},
     "output_type": "execute_result"
    }
   ],
   "source": [
    "additionSeries2"
   ]
  },
  {
   "cell_type": "markdown",
   "id": "015dadd1",
   "metadata": {},
   "source": [
    "# DATAFRAME(VERİ ÇERÇEVESİ)\n"
   ]
  },
  {
   "cell_type": "markdown",
   "id": "27f88d93",
   "metadata": {},
   "source": [
    "Aslında dateframeleri ,serilerin birleştirilmiş hali gibi düşünebiliyoruz\n",
    "Serilerin yanyana gelmesinden oluşturulmuş bir excel tablosu gibi düşünülebilinir"
   ]
  },
  {
   "cell_type": "code",
   "execution_count": 211,
   "id": "4f18e301",
   "metadata": {},
   "outputs": [],
   "source": [
    "#ilk başta random veriler üretelim"
   ]
  },
  {
   "cell_type": "code",
   "execution_count": 212,
   "id": "15c463a5",
   "metadata": {},
   "outputs": [],
   "source": [
    "data=np.random.randn(4,3)"
   ]
  },
  {
   "cell_type": "code",
   "execution_count": 213,
   "id": "d4273725",
   "metadata": {},
   "outputs": [],
   "source": [
    "dateFrame=pd.DataFrame(data)#üretilen bu veriler dataframe nesnesine dönüştürülüyr"
   ]
  },
  {
   "cell_type": "code",
   "execution_count": 214,
   "id": "3541ad29",
   "metadata": {},
   "outputs": [
    {
     "data": {
      "text/html": [
       "<div>\n",
       "<style scoped>\n",
       "    .dataframe tbody tr th:only-of-type {\n",
       "        vertical-align: middle;\n",
       "    }\n",
       "\n",
       "    .dataframe tbody tr th {\n",
       "        vertical-align: top;\n",
       "    }\n",
       "\n",
       "    .dataframe thead th {\n",
       "        text-align: right;\n",
       "    }\n",
       "</style>\n",
       "<table border=\"1\" class=\"dataframe\">\n",
       "  <thead>\n",
       "    <tr style=\"text-align: right;\">\n",
       "      <th></th>\n",
       "      <th>0</th>\n",
       "      <th>1</th>\n",
       "      <th>2</th>\n",
       "    </tr>\n",
       "  </thead>\n",
       "  <tbody>\n",
       "    <tr>\n",
       "      <th>0</th>\n",
       "      <td>1.753769</td>\n",
       "      <td>-0.152518</td>\n",
       "      <td>-0.068340</td>\n",
       "    </tr>\n",
       "    <tr>\n",
       "      <th>1</th>\n",
       "      <td>1.006860</td>\n",
       "      <td>0.856811</td>\n",
       "      <td>0.487538</td>\n",
       "    </tr>\n",
       "    <tr>\n",
       "      <th>2</th>\n",
       "      <td>1.300690</td>\n",
       "      <td>-0.713095</td>\n",
       "      <td>0.836333</td>\n",
       "    </tr>\n",
       "    <tr>\n",
       "      <th>3</th>\n",
       "      <td>-0.094269</td>\n",
       "      <td>-1.105592</td>\n",
       "      <td>1.594716</td>\n",
       "    </tr>\n",
       "  </tbody>\n",
       "</table>\n",
       "</div>"
      ],
      "text/plain": [
       "          0         1         2\n",
       "0  1.753769 -0.152518 -0.068340\n",
       "1  1.006860  0.856811  0.487538\n",
       "2  1.300690 -0.713095  0.836333\n",
       "3 -0.094269 -1.105592  1.594716"
      ]
     },
     "execution_count": 214,
     "metadata": {},
     "output_type": "execute_result"
    }
   ],
   "source": [
    "dateFrame"
   ]
  },
  {
   "cell_type": "code",
   "execution_count": 215,
   "id": "ca345166",
   "metadata": {},
   "outputs": [
    {
     "data": {
      "text/plain": [
       "0    1.753769\n",
       "1    1.006860\n",
       "2    1.300690\n",
       "3   -0.094269\n",
       "Name: 0, dtype: float64"
      ]
     },
     "execution_count": 215,
     "metadata": {},
     "output_type": "execute_result"
    }
   ],
   "source": [
    "dateFrame[0]#parametre kolon bazlı çalışır"
   ]
  },
  {
   "cell_type": "code",
   "execution_count": 216,
   "id": "465d0169",
   "metadata": {},
   "outputs": [],
   "source": [
    "#eğer bu row ve kolonların isimlerini değiştirmek istersek"
   ]
  },
  {
   "cell_type": "code",
   "execution_count": 217,
   "id": "9bda78e3",
   "metadata": {},
   "outputs": [],
   "source": [
    "newDateFrame=pd.DataFrame(data,index=[\"Atil\",\"Zeynep\",\"Atlas\",\"Mehmet\"],columns=[\"Maas\",\"Yas\",\"Calisma Saati\"])"
   ]
  },
  {
   "cell_type": "code",
   "execution_count": 218,
   "id": "ff55ed47",
   "metadata": {},
   "outputs": [
    {
     "data": {
      "text/html": [
       "<div>\n",
       "<style scoped>\n",
       "    .dataframe tbody tr th:only-of-type {\n",
       "        vertical-align: middle;\n",
       "    }\n",
       "\n",
       "    .dataframe tbody tr th {\n",
       "        vertical-align: top;\n",
       "    }\n",
       "\n",
       "    .dataframe thead th {\n",
       "        text-align: right;\n",
       "    }\n",
       "</style>\n",
       "<table border=\"1\" class=\"dataframe\">\n",
       "  <thead>\n",
       "    <tr style=\"text-align: right;\">\n",
       "      <th></th>\n",
       "      <th>Maas</th>\n",
       "      <th>Yas</th>\n",
       "      <th>Calisma Saati</th>\n",
       "    </tr>\n",
       "  </thead>\n",
       "  <tbody>\n",
       "    <tr>\n",
       "      <th>Atil</th>\n",
       "      <td>1.753769</td>\n",
       "      <td>-0.152518</td>\n",
       "      <td>-0.068340</td>\n",
       "    </tr>\n",
       "    <tr>\n",
       "      <th>Zeynep</th>\n",
       "      <td>1.006860</td>\n",
       "      <td>0.856811</td>\n",
       "      <td>0.487538</td>\n",
       "    </tr>\n",
       "    <tr>\n",
       "      <th>Atlas</th>\n",
       "      <td>1.300690</td>\n",
       "      <td>-0.713095</td>\n",
       "      <td>0.836333</td>\n",
       "    </tr>\n",
       "    <tr>\n",
       "      <th>Mehmet</th>\n",
       "      <td>-0.094269</td>\n",
       "      <td>-1.105592</td>\n",
       "      <td>1.594716</td>\n",
       "    </tr>\n",
       "  </tbody>\n",
       "</table>\n",
       "</div>"
      ],
      "text/plain": [
       "            Maas       Yas  Calisma Saati\n",
       "Atil    1.753769 -0.152518      -0.068340\n",
       "Zeynep  1.006860  0.856811       0.487538\n",
       "Atlas   1.300690 -0.713095       0.836333\n",
       "Mehmet -0.094269 -1.105592       1.594716"
      ]
     },
     "execution_count": 218,
     "metadata": {},
     "output_type": "execute_result"
    }
   ],
   "source": [
    "newDateFrame"
   ]
  },
  {
   "cell_type": "code",
   "execution_count": 219,
   "id": "7e5366c4",
   "metadata": {},
   "outputs": [
    {
     "data": {
      "text/plain": [
       "Atil     -0.152518\n",
       "Zeynep    0.856811\n",
       "Atlas    -0.713095\n",
       "Mehmet   -1.105592\n",
       "Name: Yas, dtype: float64"
      ]
     },
     "execution_count": 219,
     "metadata": {},
     "output_type": "execute_result"
    }
   ],
   "source": [
    "newDateFrame[\"Yas\"]"
   ]
  },
  {
   "cell_type": "code",
   "execution_count": 220,
   "id": "5733513a",
   "metadata": {},
   "outputs": [],
   "source": [
    "#birden fazla kolonu parametre olarak girebiliriz"
   ]
  },
  {
   "cell_type": "code",
   "execution_count": 221,
   "id": "ab924911",
   "metadata": {},
   "outputs": [
    {
     "data": {
      "text/html": [
       "<div>\n",
       "<style scoped>\n",
       "    .dataframe tbody tr th:only-of-type {\n",
       "        vertical-align: middle;\n",
       "    }\n",
       "\n",
       "    .dataframe tbody tr th {\n",
       "        vertical-align: top;\n",
       "    }\n",
       "\n",
       "    .dataframe thead th {\n",
       "        text-align: right;\n",
       "    }\n",
       "</style>\n",
       "<table border=\"1\" class=\"dataframe\">\n",
       "  <thead>\n",
       "    <tr style=\"text-align: right;\">\n",
       "      <th></th>\n",
       "      <th>Yas</th>\n",
       "      <th>Maas</th>\n",
       "    </tr>\n",
       "  </thead>\n",
       "  <tbody>\n",
       "    <tr>\n",
       "      <th>Atil</th>\n",
       "      <td>-0.152518</td>\n",
       "      <td>1.753769</td>\n",
       "    </tr>\n",
       "    <tr>\n",
       "      <th>Zeynep</th>\n",
       "      <td>0.856811</td>\n",
       "      <td>1.006860</td>\n",
       "    </tr>\n",
       "    <tr>\n",
       "      <th>Atlas</th>\n",
       "      <td>-0.713095</td>\n",
       "      <td>1.300690</td>\n",
       "    </tr>\n",
       "    <tr>\n",
       "      <th>Mehmet</th>\n",
       "      <td>-1.105592</td>\n",
       "      <td>-0.094269</td>\n",
       "    </tr>\n",
       "  </tbody>\n",
       "</table>\n",
       "</div>"
      ],
      "text/plain": [
       "             Yas      Maas\n",
       "Atil   -0.152518  1.753769\n",
       "Zeynep  0.856811  1.006860\n",
       "Atlas  -0.713095  1.300690\n",
       "Mehmet -1.105592 -0.094269"
      ]
     },
     "execution_count": 221,
     "metadata": {},
     "output_type": "execute_result"
    }
   ],
   "source": [
    "newDateFrame[[\"Yas\",\"Maas\"]]#ikinci köşeli parantezi unutma"
   ]
  },
  {
   "cell_type": "code",
   "execution_count": 222,
   "id": "be125b75",
   "metadata": {},
   "outputs": [],
   "source": [
    "#eğer kolon yerine satırlara  ulaşmak istersek"
   ]
  },
  {
   "cell_type": "code",
   "execution_count": 223,
   "id": "4158717d",
   "metadata": {},
   "outputs": [
    {
     "data": {
      "text/plain": [
       "Maas             1.753769\n",
       "Yas             -0.152518\n",
       "Calisma Saati   -0.068340\n",
       "Name: Atil, dtype: float64"
      ]
     },
     "execution_count": 223,
     "metadata": {},
     "output_type": "execute_result"
    }
   ],
   "source": [
    "newDateFrame.loc[\"Atil\"]#lokasyondan gelmektedir"
   ]
  },
  {
   "cell_type": "code",
   "execution_count": 224,
   "id": "751870b7",
   "metadata": {},
   "outputs": [],
   "source": [
    "#eğer index üzerinden ulaşmak istersek"
   ]
  },
  {
   "cell_type": "code",
   "execution_count": 225,
   "id": "fcd1804d",
   "metadata": {},
   "outputs": [
    {
     "data": {
      "text/plain": [
       "Maas             1.006860\n",
       "Yas              0.856811\n",
       "Calisma Saati    0.487538\n",
       "Name: Zeynep, dtype: float64"
      ]
     },
     "execution_count": 225,
     "metadata": {},
     "output_type": "execute_result"
    }
   ],
   "source": [
    "newDateFrame.iloc[1]"
   ]
  },
  {
   "cell_type": "markdown",
   "id": "c2fe5f83",
   "metadata": {},
   "source": [
    "DataFrame Indexleri"
   ]
  },
  {
   "cell_type": "code",
   "execution_count": 226,
   "id": "6729890f",
   "metadata": {},
   "outputs": [
    {
     "data": {
      "text/html": [
       "<div>\n",
       "<style scoped>\n",
       "    .dataframe tbody tr th:only-of-type {\n",
       "        vertical-align: middle;\n",
       "    }\n",
       "\n",
       "    .dataframe tbody tr th {\n",
       "        vertical-align: top;\n",
       "    }\n",
       "\n",
       "    .dataframe thead th {\n",
       "        text-align: right;\n",
       "    }\n",
       "</style>\n",
       "<table border=\"1\" class=\"dataframe\">\n",
       "  <thead>\n",
       "    <tr style=\"text-align: right;\">\n",
       "      <th></th>\n",
       "      <th>Maas</th>\n",
       "      <th>Yas</th>\n",
       "      <th>Calisma Saati</th>\n",
       "    </tr>\n",
       "  </thead>\n",
       "  <tbody>\n",
       "    <tr>\n",
       "      <th>Atil</th>\n",
       "      <td>1.753769</td>\n",
       "      <td>-0.152518</td>\n",
       "      <td>-0.068340</td>\n",
       "    </tr>\n",
       "    <tr>\n",
       "      <th>Zeynep</th>\n",
       "      <td>1.006860</td>\n",
       "      <td>0.856811</td>\n",
       "      <td>0.487538</td>\n",
       "    </tr>\n",
       "    <tr>\n",
       "      <th>Atlas</th>\n",
       "      <td>1.300690</td>\n",
       "      <td>-0.713095</td>\n",
       "      <td>0.836333</td>\n",
       "    </tr>\n",
       "    <tr>\n",
       "      <th>Mehmet</th>\n",
       "      <td>-0.094269</td>\n",
       "      <td>-1.105592</td>\n",
       "      <td>1.594716</td>\n",
       "    </tr>\n",
       "  </tbody>\n",
       "</table>\n",
       "</div>"
      ],
      "text/plain": [
       "            Maas       Yas  Calisma Saati\n",
       "Atil    1.753769 -0.152518      -0.068340\n",
       "Zeynep  1.006860  0.856811       0.487538\n",
       "Atlas   1.300690 -0.713095       0.836333\n",
       "Mehmet -0.094269 -1.105592       1.594716"
      ]
     },
     "execution_count": 226,
     "metadata": {},
     "output_type": "execute_result"
    }
   ],
   "source": [
    "newDateFrame"
   ]
  },
  {
   "cell_type": "code",
   "execution_count": 227,
   "id": "de22bc2d",
   "metadata": {},
   "outputs": [
    {
     "data": {
      "text/plain": [
       "Atil      1.753769\n",
       "Zeynep    1.006860\n",
       "Atlas     1.300690\n",
       "Mehmet   -0.094269\n",
       "Name: Maas, dtype: float64"
      ]
     },
     "execution_count": 227,
     "metadata": {},
     "output_type": "execute_result"
    }
   ],
   "source": [
    "newDateFrame[\"Maas\"]"
   ]
  },
  {
   "cell_type": "markdown",
   "id": "c11c056b",
   "metadata": {},
   "source": [
    "Aşağıdaki işlemle dataframe yeni bir kolon eklenmiş oldu"
   ]
  },
  {
   "cell_type": "code",
   "execution_count": 228,
   "id": "90f81104",
   "metadata": {},
   "outputs": [],
   "source": [
    "newDateFrame[\"Emeklilik Yasi\"]=pd.DataFrame([65,56,53,55],[\"Atil\",\"Zeynep\",\"Atlas\",\"Mehmet\"])"
   ]
  },
  {
   "cell_type": "code",
   "execution_count": 229,
   "id": "ff719682",
   "metadata": {},
   "outputs": [
    {
     "data": {
      "text/html": [
       "<div>\n",
       "<style scoped>\n",
       "    .dataframe tbody tr th:only-of-type {\n",
       "        vertical-align: middle;\n",
       "    }\n",
       "\n",
       "    .dataframe tbody tr th {\n",
       "        vertical-align: top;\n",
       "    }\n",
       "\n",
       "    .dataframe thead th {\n",
       "        text-align: right;\n",
       "    }\n",
       "</style>\n",
       "<table border=\"1\" class=\"dataframe\">\n",
       "  <thead>\n",
       "    <tr style=\"text-align: right;\">\n",
       "      <th></th>\n",
       "      <th>Maas</th>\n",
       "      <th>Yas</th>\n",
       "      <th>Calisma Saati</th>\n",
       "      <th>Emeklilik Yasi</th>\n",
       "    </tr>\n",
       "  </thead>\n",
       "  <tbody>\n",
       "    <tr>\n",
       "      <th>Atil</th>\n",
       "      <td>1.753769</td>\n",
       "      <td>-0.152518</td>\n",
       "      <td>-0.068340</td>\n",
       "      <td>65</td>\n",
       "    </tr>\n",
       "    <tr>\n",
       "      <th>Zeynep</th>\n",
       "      <td>1.006860</td>\n",
       "      <td>0.856811</td>\n",
       "      <td>0.487538</td>\n",
       "      <td>56</td>\n",
       "    </tr>\n",
       "    <tr>\n",
       "      <th>Atlas</th>\n",
       "      <td>1.300690</td>\n",
       "      <td>-0.713095</td>\n",
       "      <td>0.836333</td>\n",
       "      <td>53</td>\n",
       "    </tr>\n",
       "    <tr>\n",
       "      <th>Mehmet</th>\n",
       "      <td>-0.094269</td>\n",
       "      <td>-1.105592</td>\n",
       "      <td>1.594716</td>\n",
       "      <td>55</td>\n",
       "    </tr>\n",
       "  </tbody>\n",
       "</table>\n",
       "</div>"
      ],
      "text/plain": [
       "            Maas       Yas  Calisma Saati  Emeklilik Yasi\n",
       "Atil    1.753769 -0.152518      -0.068340              65\n",
       "Zeynep  1.006860  0.856811       0.487538              56\n",
       "Atlas   1.300690 -0.713095       0.836333              53\n",
       "Mehmet -0.094269 -1.105592       1.594716              55"
      ]
     },
     "execution_count": 229,
     "metadata": {},
     "output_type": "execute_result"
    }
   ],
   "source": [
    "newDateFrame"
   ]
  },
  {
   "cell_type": "markdown",
   "id": "4d7c20cf",
   "metadata": {},
   "source": [
    "Eğer bu dataframeden bir kolon silmek istersek"
   ]
  },
  {
   "cell_type": "code",
   "execution_count": 230,
   "id": "c7b2ed5c",
   "metadata": {},
   "outputs": [],
   "source": [
    "#newDateFrame.drop(\"Emeklilik Yasi\")#drop dediğimizde rowda aradığından \n",
    "#girdiğim parametrede bir kolon olduğundan\n",
    "#\"['Emeklilik Yasi'] not found in axis\" hatasını verir"
   ]
  },
  {
   "cell_type": "code",
   "execution_count": 231,
   "id": "7a6541de",
   "metadata": {},
   "outputs": [
    {
     "data": {
      "text/html": [
       "<div>\n",
       "<style scoped>\n",
       "    .dataframe tbody tr th:only-of-type {\n",
       "        vertical-align: middle;\n",
       "    }\n",
       "\n",
       "    .dataframe tbody tr th {\n",
       "        vertical-align: top;\n",
       "    }\n",
       "\n",
       "    .dataframe thead th {\n",
       "        text-align: right;\n",
       "    }\n",
       "</style>\n",
       "<table border=\"1\" class=\"dataframe\">\n",
       "  <thead>\n",
       "    <tr style=\"text-align: right;\">\n",
       "      <th></th>\n",
       "      <th>Maas</th>\n",
       "      <th>Yas</th>\n",
       "      <th>Calisma Saati</th>\n",
       "    </tr>\n",
       "  </thead>\n",
       "  <tbody>\n",
       "    <tr>\n",
       "      <th>Atil</th>\n",
       "      <td>1.753769</td>\n",
       "      <td>-0.152518</td>\n",
       "      <td>-0.068340</td>\n",
       "    </tr>\n",
       "    <tr>\n",
       "      <th>Zeynep</th>\n",
       "      <td>1.006860</td>\n",
       "      <td>0.856811</td>\n",
       "      <td>0.487538</td>\n",
       "    </tr>\n",
       "    <tr>\n",
       "      <th>Atlas</th>\n",
       "      <td>1.300690</td>\n",
       "      <td>-0.713095</td>\n",
       "      <td>0.836333</td>\n",
       "    </tr>\n",
       "    <tr>\n",
       "      <th>Mehmet</th>\n",
       "      <td>-0.094269</td>\n",
       "      <td>-1.105592</td>\n",
       "      <td>1.594716</td>\n",
       "    </tr>\n",
       "  </tbody>\n",
       "</table>\n",
       "</div>"
      ],
      "text/plain": [
       "            Maas       Yas  Calisma Saati\n",
       "Atil    1.753769 -0.152518      -0.068340\n",
       "Zeynep  1.006860  0.856811       0.487538\n",
       "Atlas   1.300690 -0.713095       0.836333\n",
       "Mehmet -0.094269 -1.105592       1.594716"
      ]
     },
     "execution_count": 231,
     "metadata": {},
     "output_type": "execute_result"
    }
   ],
   "source": [
    "newDateFrame.drop(\"Emeklilik Yasi\",axis=1)#axis=eksen demektir-->axis=1 kolondur"
   ]
  },
  {
   "cell_type": "code",
   "execution_count": 232,
   "id": "ff8a6b12",
   "metadata": {},
   "outputs": [],
   "source": [
    "#axis=0 ise row yani satırdır-->zaten drop fonk default axis=0 dır eğer \n",
    "#kolon düşürmek istersek axis=1 ifadesini belirtmek zorundayız"
   ]
  },
  {
   "cell_type": "code",
   "execution_count": 233,
   "id": "fa4e4cd9",
   "metadata": {},
   "outputs": [
    {
     "data": {
      "text/html": [
       "<div>\n",
       "<style scoped>\n",
       "    .dataframe tbody tr th:only-of-type {\n",
       "        vertical-align: middle;\n",
       "    }\n",
       "\n",
       "    .dataframe tbody tr th {\n",
       "        vertical-align: top;\n",
       "    }\n",
       "\n",
       "    .dataframe thead th {\n",
       "        text-align: right;\n",
       "    }\n",
       "</style>\n",
       "<table border=\"1\" class=\"dataframe\">\n",
       "  <thead>\n",
       "    <tr style=\"text-align: right;\">\n",
       "      <th></th>\n",
       "      <th>Maas</th>\n",
       "      <th>Yas</th>\n",
       "      <th>Calisma Saati</th>\n",
       "      <th>Emeklilik Yasi</th>\n",
       "    </tr>\n",
       "  </thead>\n",
       "  <tbody>\n",
       "    <tr>\n",
       "      <th>Atil</th>\n",
       "      <td>1.753769</td>\n",
       "      <td>-0.152518</td>\n",
       "      <td>-0.068340</td>\n",
       "      <td>65</td>\n",
       "    </tr>\n",
       "    <tr>\n",
       "      <th>Zeynep</th>\n",
       "      <td>1.006860</td>\n",
       "      <td>0.856811</td>\n",
       "      <td>0.487538</td>\n",
       "      <td>56</td>\n",
       "    </tr>\n",
       "    <tr>\n",
       "      <th>Atlas</th>\n",
       "      <td>1.300690</td>\n",
       "      <td>-0.713095</td>\n",
       "      <td>0.836333</td>\n",
       "      <td>53</td>\n",
       "    </tr>\n",
       "  </tbody>\n",
       "</table>\n",
       "</div>"
      ],
      "text/plain": [
       "            Maas       Yas  Calisma Saati  Emeklilik Yasi\n",
       "Atil    1.753769 -0.152518      -0.068340              65\n",
       "Zeynep  1.006860  0.856811       0.487538              56\n",
       "Atlas   1.300690 -0.713095       0.836333              53"
      ]
     },
     "execution_count": 233,
     "metadata": {},
     "output_type": "execute_result"
    }
   ],
   "source": [
    "newDateFrame.drop(\"Mehmet\")"
   ]
  },
  {
   "cell_type": "code",
   "execution_count": 234,
   "id": "e84eea2a",
   "metadata": {},
   "outputs": [
    {
     "data": {
      "text/html": [
       "<div>\n",
       "<style scoped>\n",
       "    .dataframe tbody tr th:only-of-type {\n",
       "        vertical-align: middle;\n",
       "    }\n",
       "\n",
       "    .dataframe tbody tr th {\n",
       "        vertical-align: top;\n",
       "    }\n",
       "\n",
       "    .dataframe thead th {\n",
       "        text-align: right;\n",
       "    }\n",
       "</style>\n",
       "<table border=\"1\" class=\"dataframe\">\n",
       "  <thead>\n",
       "    <tr style=\"text-align: right;\">\n",
       "      <th></th>\n",
       "      <th>Maas</th>\n",
       "      <th>Yas</th>\n",
       "      <th>Calisma Saati</th>\n",
       "      <th>Emeklilik Yasi</th>\n",
       "    </tr>\n",
       "  </thead>\n",
       "  <tbody>\n",
       "    <tr>\n",
       "      <th>Atil</th>\n",
       "      <td>1.753769</td>\n",
       "      <td>-0.152518</td>\n",
       "      <td>-0.068340</td>\n",
       "      <td>65</td>\n",
       "    </tr>\n",
       "    <tr>\n",
       "      <th>Zeynep</th>\n",
       "      <td>1.006860</td>\n",
       "      <td>0.856811</td>\n",
       "      <td>0.487538</td>\n",
       "      <td>56</td>\n",
       "    </tr>\n",
       "    <tr>\n",
       "      <th>Atlas</th>\n",
       "      <td>1.300690</td>\n",
       "      <td>-0.713095</td>\n",
       "      <td>0.836333</td>\n",
       "      <td>53</td>\n",
       "    </tr>\n",
       "    <tr>\n",
       "      <th>Mehmet</th>\n",
       "      <td>-0.094269</td>\n",
       "      <td>-1.105592</td>\n",
       "      <td>1.594716</td>\n",
       "      <td>55</td>\n",
       "    </tr>\n",
       "  </tbody>\n",
       "</table>\n",
       "</div>"
      ],
      "text/plain": [
       "            Maas       Yas  Calisma Saati  Emeklilik Yasi\n",
       "Atil    1.753769 -0.152518      -0.068340              65\n",
       "Zeynep  1.006860  0.856811       0.487538              56\n",
       "Atlas   1.300690 -0.713095       0.836333              53\n",
       "Mehmet -0.094269 -1.105592       1.594716              55"
      ]
     },
     "execution_count": 234,
     "metadata": {},
     "output_type": "execute_result"
    }
   ],
   "source": [
    "newDateFrame#buradan görüldüğü üzere yukarıda yaptığımız hiçbir değişiklik\n",
    "#yani satır ve kolon silme işlemlerinin hiçbirinin asıl dataframe üzerinde \n",
    "#kaydedilmediğini görüyoruz"
   ]
  },
  {
   "cell_type": "code",
   "execution_count": 235,
   "id": "19d42991",
   "metadata": {},
   "outputs": [],
   "source": [
    "#bu işlemlerin asıl dataframe üzerinde de gerçekleşmesini istiyorsak\n",
    "#bunu belirtmemiz gerekiyor "
   ]
  },
  {
   "cell_type": "code",
   "execution_count": 236,
   "id": "87f25b22",
   "metadata": {},
   "outputs": [],
   "source": [
    "newDateFrame.drop(\"Emeklilik Yasi\",axis=1,inplace=True)#inplace yerinde demektir\n",
    "#buradaki inplace in def değeri False dur\n",
    "#bu yüzden yapılan değişiklikler asıl dataframe üzerinde gerçekleştirilmez"
   ]
  },
  {
   "cell_type": "code",
   "execution_count": 237,
   "id": "450e2a49",
   "metadata": {},
   "outputs": [],
   "source": [
    "#silme işlemi sadece bir kez gerçekleştirileceğinden yukarıdaki hücrenin\n",
    "#birden fazla kez çağrılması hataya sebep olur"
   ]
  },
  {
   "cell_type": "code",
   "execution_count": 238,
   "id": "6d0a1795",
   "metadata": {},
   "outputs": [
    {
     "data": {
      "text/html": [
       "<div>\n",
       "<style scoped>\n",
       "    .dataframe tbody tr th:only-of-type {\n",
       "        vertical-align: middle;\n",
       "    }\n",
       "\n",
       "    .dataframe tbody tr th {\n",
       "        vertical-align: top;\n",
       "    }\n",
       "\n",
       "    .dataframe thead th {\n",
       "        text-align: right;\n",
       "    }\n",
       "</style>\n",
       "<table border=\"1\" class=\"dataframe\">\n",
       "  <thead>\n",
       "    <tr style=\"text-align: right;\">\n",
       "      <th></th>\n",
       "      <th>Maas</th>\n",
       "      <th>Yas</th>\n",
       "      <th>Calisma Saati</th>\n",
       "    </tr>\n",
       "  </thead>\n",
       "  <tbody>\n",
       "    <tr>\n",
       "      <th>Atil</th>\n",
       "      <td>1.753769</td>\n",
       "      <td>-0.152518</td>\n",
       "      <td>-0.068340</td>\n",
       "    </tr>\n",
       "    <tr>\n",
       "      <th>Zeynep</th>\n",
       "      <td>1.006860</td>\n",
       "      <td>0.856811</td>\n",
       "      <td>0.487538</td>\n",
       "    </tr>\n",
       "    <tr>\n",
       "      <th>Atlas</th>\n",
       "      <td>1.300690</td>\n",
       "      <td>-0.713095</td>\n",
       "      <td>0.836333</td>\n",
       "    </tr>\n",
       "    <tr>\n",
       "      <th>Mehmet</th>\n",
       "      <td>-0.094269</td>\n",
       "      <td>-1.105592</td>\n",
       "      <td>1.594716</td>\n",
       "    </tr>\n",
       "  </tbody>\n",
       "</table>\n",
       "</div>"
      ],
      "text/plain": [
       "            Maas       Yas  Calisma Saati\n",
       "Atil    1.753769 -0.152518      -0.068340\n",
       "Zeynep  1.006860  0.856811       0.487538\n",
       "Atlas   1.300690 -0.713095       0.836333\n",
       "Mehmet -0.094269 -1.105592       1.594716"
      ]
     },
     "execution_count": 238,
     "metadata": {},
     "output_type": "execute_result"
    }
   ],
   "source": [
    "newDateFrame\n"
   ]
  },
  {
   "cell_type": "code",
   "execution_count": 239,
   "id": "7b255295",
   "metadata": {},
   "outputs": [
    {
     "data": {
      "text/plain": [
       "-0.06834010430272246"
      ]
     },
     "execution_count": 239,
     "metadata": {},
     "output_type": "execute_result"
    }
   ],
   "source": [
    "newDateFrame.loc[\"Atil\"][\"Calisma Saati\"]"
   ]
  },
  {
   "cell_type": "code",
   "execution_count": 240,
   "id": "682bd3a5",
   "metadata": {},
   "outputs": [
    {
     "data": {
      "text/plain": [
       "-0.06834010430272246"
      ]
     },
     "execution_count": 240,
     "metadata": {},
     "output_type": "execute_result"
    }
   ],
   "source": [
    "newDateFrame.loc[\"Atil\",\"Calisma Saati\"]"
   ]
  },
  {
   "cell_type": "code",
   "execution_count": 241,
   "id": "48d3e027",
   "metadata": {},
   "outputs": [],
   "source": [
    "#eğer 0 dan küçük değerleri göstemek istersek"
   ]
  },
  {
   "cell_type": "code",
   "execution_count": 242,
   "id": "d9705927",
   "metadata": {},
   "outputs": [
    {
     "data": {
      "text/html": [
       "<div>\n",
       "<style scoped>\n",
       "    .dataframe tbody tr th:only-of-type {\n",
       "        vertical-align: middle;\n",
       "    }\n",
       "\n",
       "    .dataframe tbody tr th {\n",
       "        vertical-align: top;\n",
       "    }\n",
       "\n",
       "    .dataframe thead th {\n",
       "        text-align: right;\n",
       "    }\n",
       "</style>\n",
       "<table border=\"1\" class=\"dataframe\">\n",
       "  <thead>\n",
       "    <tr style=\"text-align: right;\">\n",
       "      <th></th>\n",
       "      <th>Maas</th>\n",
       "      <th>Yas</th>\n",
       "      <th>Calisma Saati</th>\n",
       "    </tr>\n",
       "  </thead>\n",
       "  <tbody>\n",
       "    <tr>\n",
       "      <th>Atil</th>\n",
       "      <td>1.753769</td>\n",
       "      <td>-0.152518</td>\n",
       "      <td>-0.068340</td>\n",
       "    </tr>\n",
       "    <tr>\n",
       "      <th>Zeynep</th>\n",
       "      <td>1.006860</td>\n",
       "      <td>0.856811</td>\n",
       "      <td>0.487538</td>\n",
       "    </tr>\n",
       "    <tr>\n",
       "      <th>Atlas</th>\n",
       "      <td>1.300690</td>\n",
       "      <td>-0.713095</td>\n",
       "      <td>0.836333</td>\n",
       "    </tr>\n",
       "    <tr>\n",
       "      <th>Mehmet</th>\n",
       "      <td>-0.094269</td>\n",
       "      <td>-1.105592</td>\n",
       "      <td>1.594716</td>\n",
       "    </tr>\n",
       "  </tbody>\n",
       "</table>\n",
       "</div>"
      ],
      "text/plain": [
       "            Maas       Yas  Calisma Saati\n",
       "Atil    1.753769 -0.152518      -0.068340\n",
       "Zeynep  1.006860  0.856811       0.487538\n",
       "Atlas   1.300690 -0.713095       0.836333\n",
       "Mehmet -0.094269 -1.105592       1.594716"
      ]
     },
     "execution_count": 242,
     "metadata": {},
     "output_type": "execute_result"
    }
   ],
   "source": [
    "newDateFrame"
   ]
  },
  {
   "cell_type": "code",
   "execution_count": 243,
   "id": "b32eb5da",
   "metadata": {},
   "outputs": [
    {
     "data": {
      "text/html": [
       "<div>\n",
       "<style scoped>\n",
       "    .dataframe tbody tr th:only-of-type {\n",
       "        vertical-align: middle;\n",
       "    }\n",
       "\n",
       "    .dataframe tbody tr th {\n",
       "        vertical-align: top;\n",
       "    }\n",
       "\n",
       "    .dataframe thead th {\n",
       "        text-align: right;\n",
       "    }\n",
       "</style>\n",
       "<table border=\"1\" class=\"dataframe\">\n",
       "  <thead>\n",
       "    <tr style=\"text-align: right;\">\n",
       "      <th></th>\n",
       "      <th>Maas</th>\n",
       "      <th>Yas</th>\n",
       "      <th>Calisma Saati</th>\n",
       "    </tr>\n",
       "  </thead>\n",
       "  <tbody>\n",
       "    <tr>\n",
       "      <th>Atil</th>\n",
       "      <td>False</td>\n",
       "      <td>True</td>\n",
       "      <td>True</td>\n",
       "    </tr>\n",
       "    <tr>\n",
       "      <th>Zeynep</th>\n",
       "      <td>False</td>\n",
       "      <td>False</td>\n",
       "      <td>False</td>\n",
       "    </tr>\n",
       "    <tr>\n",
       "      <th>Atlas</th>\n",
       "      <td>False</td>\n",
       "      <td>True</td>\n",
       "      <td>False</td>\n",
       "    </tr>\n",
       "    <tr>\n",
       "      <th>Mehmet</th>\n",
       "      <td>True</td>\n",
       "      <td>True</td>\n",
       "      <td>False</td>\n",
       "    </tr>\n",
       "  </tbody>\n",
       "</table>\n",
       "</div>"
      ],
      "text/plain": [
       "         Maas    Yas  Calisma Saati\n",
       "Atil    False   True           True\n",
       "Zeynep  False  False          False\n",
       "Atlas   False   True          False\n",
       "Mehmet   True   True          False"
      ]
     },
     "execution_count": 243,
     "metadata": {},
     "output_type": "execute_result"
    }
   ],
   "source": [
    "newDateFrame<0"
   ]
  },
  {
   "cell_type": "code",
   "execution_count": 244,
   "id": "fd4daeec",
   "metadata": {},
   "outputs": [],
   "source": [
    "#eğer sadece true değerleri göstemek istersek"
   ]
  },
  {
   "cell_type": "code",
   "execution_count": 245,
   "id": "934fe7d6",
   "metadata": {},
   "outputs": [],
   "source": [
    "booleanDateFrame=newDateFrame<0"
   ]
  },
  {
   "cell_type": "code",
   "execution_count": 246,
   "id": "374d7b3f",
   "metadata": {},
   "outputs": [
    {
     "data": {
      "text/html": [
       "<div>\n",
       "<style scoped>\n",
       "    .dataframe tbody tr th:only-of-type {\n",
       "        vertical-align: middle;\n",
       "    }\n",
       "\n",
       "    .dataframe tbody tr th {\n",
       "        vertical-align: top;\n",
       "    }\n",
       "\n",
       "    .dataframe thead th {\n",
       "        text-align: right;\n",
       "    }\n",
       "</style>\n",
       "<table border=\"1\" class=\"dataframe\">\n",
       "  <thead>\n",
       "    <tr style=\"text-align: right;\">\n",
       "      <th></th>\n",
       "      <th>Maas</th>\n",
       "      <th>Yas</th>\n",
       "      <th>Calisma Saati</th>\n",
       "    </tr>\n",
       "  </thead>\n",
       "  <tbody>\n",
       "    <tr>\n",
       "      <th>Atil</th>\n",
       "      <td>NaN</td>\n",
       "      <td>-0.152518</td>\n",
       "      <td>-0.06834</td>\n",
       "    </tr>\n",
       "    <tr>\n",
       "      <th>Zeynep</th>\n",
       "      <td>NaN</td>\n",
       "      <td>NaN</td>\n",
       "      <td>NaN</td>\n",
       "    </tr>\n",
       "    <tr>\n",
       "      <th>Atlas</th>\n",
       "      <td>NaN</td>\n",
       "      <td>-0.713095</td>\n",
       "      <td>NaN</td>\n",
       "    </tr>\n",
       "    <tr>\n",
       "      <th>Mehmet</th>\n",
       "      <td>-0.094269</td>\n",
       "      <td>-1.105592</td>\n",
       "      <td>NaN</td>\n",
       "    </tr>\n",
       "  </tbody>\n",
       "</table>\n",
       "</div>"
      ],
      "text/plain": [
       "            Maas       Yas  Calisma Saati\n",
       "Atil         NaN -0.152518       -0.06834\n",
       "Zeynep       NaN       NaN            NaN\n",
       "Atlas        NaN -0.713095            NaN\n",
       "Mehmet -0.094269 -1.105592            NaN"
      ]
     },
     "execution_count": 246,
     "metadata": {},
     "output_type": "execute_result"
    }
   ],
   "source": [
    "newDateFrame[booleanDateFrame]"
   ]
  },
  {
   "cell_type": "code",
   "execution_count": 247,
   "id": "b206dc24",
   "metadata": {},
   "outputs": [
    {
     "data": {
      "text/html": [
       "<div>\n",
       "<style scoped>\n",
       "    .dataframe tbody tr th:only-of-type {\n",
       "        vertical-align: middle;\n",
       "    }\n",
       "\n",
       "    .dataframe tbody tr th {\n",
       "        vertical-align: top;\n",
       "    }\n",
       "\n",
       "    .dataframe thead th {\n",
       "        text-align: right;\n",
       "    }\n",
       "</style>\n",
       "<table border=\"1\" class=\"dataframe\">\n",
       "  <thead>\n",
       "    <tr style=\"text-align: right;\">\n",
       "      <th></th>\n",
       "      <th>Maas</th>\n",
       "      <th>Yas</th>\n",
       "      <th>Calisma Saati</th>\n",
       "    </tr>\n",
       "  </thead>\n",
       "  <tbody>\n",
       "    <tr>\n",
       "      <th>Atil</th>\n",
       "      <td>NaN</td>\n",
       "      <td>-0.152518</td>\n",
       "      <td>-0.06834</td>\n",
       "    </tr>\n",
       "    <tr>\n",
       "      <th>Zeynep</th>\n",
       "      <td>NaN</td>\n",
       "      <td>NaN</td>\n",
       "      <td>NaN</td>\n",
       "    </tr>\n",
       "    <tr>\n",
       "      <th>Atlas</th>\n",
       "      <td>NaN</td>\n",
       "      <td>-0.713095</td>\n",
       "      <td>NaN</td>\n",
       "    </tr>\n",
       "    <tr>\n",
       "      <th>Mehmet</th>\n",
       "      <td>-0.094269</td>\n",
       "      <td>-1.105592</td>\n",
       "      <td>NaN</td>\n",
       "    </tr>\n",
       "  </tbody>\n",
       "</table>\n",
       "</div>"
      ],
      "text/plain": [
       "            Maas       Yas  Calisma Saati\n",
       "Atil         NaN -0.152518       -0.06834\n",
       "Zeynep       NaN       NaN            NaN\n",
       "Atlas        NaN -0.713095            NaN\n",
       "Mehmet -0.094269 -1.105592            NaN"
      ]
     },
     "execution_count": 247,
     "metadata": {},
     "output_type": "execute_result"
    }
   ],
   "source": [
    "newDateFrame[newDateFrame<0]"
   ]
  },
  {
   "cell_type": "code",
   "execution_count": 248,
   "id": "03cf4254",
   "metadata": {},
   "outputs": [],
   "source": [
    "#kolonlar arasında işlem yapmak "
   ]
  },
  {
   "cell_type": "code",
   "execution_count": 249,
   "id": "94d4a0b2",
   "metadata": {},
   "outputs": [
    {
     "data": {
      "text/html": [
       "<div>\n",
       "<style scoped>\n",
       "    .dataframe tbody tr th:only-of-type {\n",
       "        vertical-align: middle;\n",
       "    }\n",
       "\n",
       "    .dataframe tbody tr th {\n",
       "        vertical-align: top;\n",
       "    }\n",
       "\n",
       "    .dataframe thead th {\n",
       "        text-align: right;\n",
       "    }\n",
       "</style>\n",
       "<table border=\"1\" class=\"dataframe\">\n",
       "  <thead>\n",
       "    <tr style=\"text-align: right;\">\n",
       "      <th></th>\n",
       "      <th>Maas</th>\n",
       "      <th>Yas</th>\n",
       "      <th>Calisma Saati</th>\n",
       "    </tr>\n",
       "  </thead>\n",
       "  <tbody>\n",
       "    <tr>\n",
       "      <th>Atil</th>\n",
       "      <td>1.753769</td>\n",
       "      <td>-0.152518</td>\n",
       "      <td>-0.068340</td>\n",
       "    </tr>\n",
       "    <tr>\n",
       "      <th>Zeynep</th>\n",
       "      <td>1.006860</td>\n",
       "      <td>0.856811</td>\n",
       "      <td>0.487538</td>\n",
       "    </tr>\n",
       "    <tr>\n",
       "      <th>Atlas</th>\n",
       "      <td>1.300690</td>\n",
       "      <td>-0.713095</td>\n",
       "      <td>0.836333</td>\n",
       "    </tr>\n",
       "    <tr>\n",
       "      <th>Mehmet</th>\n",
       "      <td>-0.094269</td>\n",
       "      <td>-1.105592</td>\n",
       "      <td>1.594716</td>\n",
       "    </tr>\n",
       "  </tbody>\n",
       "</table>\n",
       "</div>"
      ],
      "text/plain": [
       "            Maas       Yas  Calisma Saati\n",
       "Atil    1.753769 -0.152518      -0.068340\n",
       "Zeynep  1.006860  0.856811       0.487538\n",
       "Atlas   1.300690 -0.713095       0.836333\n",
       "Mehmet -0.094269 -1.105592       1.594716"
      ]
     },
     "execution_count": 249,
     "metadata": {},
     "output_type": "execute_result"
    }
   ],
   "source": [
    "newDateFrame"
   ]
  },
  {
   "cell_type": "code",
   "execution_count": 250,
   "id": "82ea9557",
   "metadata": {},
   "outputs": [
    {
     "data": {
      "text/html": [
       "<div>\n",
       "<style scoped>\n",
       "    .dataframe tbody tr th:only-of-type {\n",
       "        vertical-align: middle;\n",
       "    }\n",
       "\n",
       "    .dataframe tbody tr th {\n",
       "        vertical-align: top;\n",
       "    }\n",
       "\n",
       "    .dataframe thead th {\n",
       "        text-align: right;\n",
       "    }\n",
       "</style>\n",
       "<table border=\"1\" class=\"dataframe\">\n",
       "  <thead>\n",
       "    <tr style=\"text-align: right;\">\n",
       "      <th></th>\n",
       "      <th>Maas</th>\n",
       "      <th>Yas</th>\n",
       "      <th>Calisma Saati</th>\n",
       "    </tr>\n",
       "  </thead>\n",
       "  <tbody>\n",
       "    <tr>\n",
       "      <th>Zeynep</th>\n",
       "      <td>1.00686</td>\n",
       "      <td>0.856811</td>\n",
       "      <td>0.487538</td>\n",
       "    </tr>\n",
       "  </tbody>\n",
       "</table>\n",
       "</div>"
      ],
      "text/plain": [
       "           Maas       Yas  Calisma Saati\n",
       "Zeynep  1.00686  0.856811       0.487538"
      ]
     },
     "execution_count": 250,
     "metadata": {},
     "output_type": "execute_result"
    }
   ],
   "source": [
    "newDateFrame[newDateFrame[\"Yas\"]>0]#yaşı sıfırdan büyük olanları gösterdiğinden \n",
    "#zeynep satırını göstermedi"
   ]
  },
  {
   "cell_type": "code",
   "execution_count": 251,
   "id": "b1f1cfc2",
   "metadata": {},
   "outputs": [
    {
     "data": {
      "text/html": [
       "<div>\n",
       "<style scoped>\n",
       "    .dataframe tbody tr th:only-of-type {\n",
       "        vertical-align: middle;\n",
       "    }\n",
       "\n",
       "    .dataframe tbody tr th {\n",
       "        vertical-align: top;\n",
       "    }\n",
       "\n",
       "    .dataframe thead th {\n",
       "        text-align: right;\n",
       "    }\n",
       "</style>\n",
       "<table border=\"1\" class=\"dataframe\">\n",
       "  <thead>\n",
       "    <tr style=\"text-align: right;\">\n",
       "      <th></th>\n",
       "      <th>Maas</th>\n",
       "      <th>Yas</th>\n",
       "      <th>Calisma Saati</th>\n",
       "    </tr>\n",
       "  </thead>\n",
       "  <tbody>\n",
       "    <tr>\n",
       "      <th>Zeynep</th>\n",
       "      <td>1.006860</td>\n",
       "      <td>0.856811</td>\n",
       "      <td>0.487538</td>\n",
       "    </tr>\n",
       "    <tr>\n",
       "      <th>Atlas</th>\n",
       "      <td>1.300690</td>\n",
       "      <td>-0.713095</td>\n",
       "      <td>0.836333</td>\n",
       "    </tr>\n",
       "    <tr>\n",
       "      <th>Mehmet</th>\n",
       "      <td>-0.094269</td>\n",
       "      <td>-1.105592</td>\n",
       "      <td>1.594716</td>\n",
       "    </tr>\n",
       "  </tbody>\n",
       "</table>\n",
       "</div>"
      ],
      "text/plain": [
       "            Maas       Yas  Calisma Saati\n",
       "Zeynep  1.006860  0.856811       0.487538\n",
       "Atlas   1.300690 -0.713095       0.836333\n",
       "Mehmet -0.094269 -1.105592       1.594716"
      ]
     },
     "execution_count": 251,
     "metadata": {},
     "output_type": "execute_result"
    }
   ],
   "source": [
    "newDateFrame[newDateFrame[\"Calisma Saati\"]>0]"
   ]
  },
  {
   "cell_type": "markdown",
   "id": "915f8659",
   "metadata": {},
   "source": [
    "INDEX DEĞİŞTİRME\n"
   ]
  },
  {
   "cell_type": "code",
   "execution_count": 252,
   "id": "ac8881ef",
   "metadata": {},
   "outputs": [
    {
     "data": {
      "text/html": [
       "<div>\n",
       "<style scoped>\n",
       "    .dataframe tbody tr th:only-of-type {\n",
       "        vertical-align: middle;\n",
       "    }\n",
       "\n",
       "    .dataframe tbody tr th {\n",
       "        vertical-align: top;\n",
       "    }\n",
       "\n",
       "    .dataframe thead th {\n",
       "        text-align: right;\n",
       "    }\n",
       "</style>\n",
       "<table border=\"1\" class=\"dataframe\">\n",
       "  <thead>\n",
       "    <tr style=\"text-align: right;\">\n",
       "      <th></th>\n",
       "      <th>Maas</th>\n",
       "      <th>Yas</th>\n",
       "      <th>Calisma Saati</th>\n",
       "    </tr>\n",
       "  </thead>\n",
       "  <tbody>\n",
       "    <tr>\n",
       "      <th>Atil</th>\n",
       "      <td>1.753769</td>\n",
       "      <td>-0.152518</td>\n",
       "      <td>-0.068340</td>\n",
       "    </tr>\n",
       "    <tr>\n",
       "      <th>Zeynep</th>\n",
       "      <td>1.006860</td>\n",
       "      <td>0.856811</td>\n",
       "      <td>0.487538</td>\n",
       "    </tr>\n",
       "    <tr>\n",
       "      <th>Atlas</th>\n",
       "      <td>1.300690</td>\n",
       "      <td>-0.713095</td>\n",
       "      <td>0.836333</td>\n",
       "    </tr>\n",
       "    <tr>\n",
       "      <th>Mehmet</th>\n",
       "      <td>-0.094269</td>\n",
       "      <td>-1.105592</td>\n",
       "      <td>1.594716</td>\n",
       "    </tr>\n",
       "  </tbody>\n",
       "</table>\n",
       "</div>"
      ],
      "text/plain": [
       "            Maas       Yas  Calisma Saati\n",
       "Atil    1.753769 -0.152518      -0.068340\n",
       "Zeynep  1.006860  0.856811       0.487538\n",
       "Atlas   1.300690 -0.713095       0.836333\n",
       "Mehmet -0.094269 -1.105592       1.594716"
      ]
     },
     "execution_count": 252,
     "metadata": {},
     "output_type": "execute_result"
    }
   ],
   "source": [
    "newDateFrame"
   ]
  },
  {
   "cell_type": "code",
   "execution_count": 253,
   "id": "7a775011",
   "metadata": {},
   "outputs": [
    {
     "data": {
      "text/html": [
       "<div>\n",
       "<style scoped>\n",
       "    .dataframe tbody tr th:only-of-type {\n",
       "        vertical-align: middle;\n",
       "    }\n",
       "\n",
       "    .dataframe tbody tr th {\n",
       "        vertical-align: top;\n",
       "    }\n",
       "\n",
       "    .dataframe thead th {\n",
       "        text-align: right;\n",
       "    }\n",
       "</style>\n",
       "<table border=\"1\" class=\"dataframe\">\n",
       "  <thead>\n",
       "    <tr style=\"text-align: right;\">\n",
       "      <th></th>\n",
       "      <th>index</th>\n",
       "      <th>Maas</th>\n",
       "      <th>Yas</th>\n",
       "      <th>Calisma Saati</th>\n",
       "    </tr>\n",
       "  </thead>\n",
       "  <tbody>\n",
       "    <tr>\n",
       "      <th>0</th>\n",
       "      <td>Atil</td>\n",
       "      <td>1.753769</td>\n",
       "      <td>-0.152518</td>\n",
       "      <td>-0.068340</td>\n",
       "    </tr>\n",
       "    <tr>\n",
       "      <th>1</th>\n",
       "      <td>Zeynep</td>\n",
       "      <td>1.006860</td>\n",
       "      <td>0.856811</td>\n",
       "      <td>0.487538</td>\n",
       "    </tr>\n",
       "    <tr>\n",
       "      <th>2</th>\n",
       "      <td>Atlas</td>\n",
       "      <td>1.300690</td>\n",
       "      <td>-0.713095</td>\n",
       "      <td>0.836333</td>\n",
       "    </tr>\n",
       "    <tr>\n",
       "      <th>3</th>\n",
       "      <td>Mehmet</td>\n",
       "      <td>-0.094269</td>\n",
       "      <td>-1.105592</td>\n",
       "      <td>1.594716</td>\n",
       "    </tr>\n",
       "  </tbody>\n",
       "</table>\n",
       "</div>"
      ],
      "text/plain": [
       "    index      Maas       Yas  Calisma Saati\n",
       "0    Atil  1.753769 -0.152518      -0.068340\n",
       "1  Zeynep  1.006860  0.856811       0.487538\n",
       "2   Atlas  1.300690 -0.713095       0.836333\n",
       "3  Mehmet -0.094269 -1.105592       1.594716"
      ]
     },
     "execution_count": 253,
     "metadata": {},
     "output_type": "execute_result"
    }
   ],
   "source": [
    "newDateFrame.reset_index()"
   ]
  },
  {
   "cell_type": "code",
   "execution_count": 254,
   "id": "0ec70298",
   "metadata": {},
   "outputs": [
    {
     "data": {
      "text/html": [
       "<div>\n",
       "<style scoped>\n",
       "    .dataframe tbody tr th:only-of-type {\n",
       "        vertical-align: middle;\n",
       "    }\n",
       "\n",
       "    .dataframe tbody tr th {\n",
       "        vertical-align: top;\n",
       "    }\n",
       "\n",
       "    .dataframe thead th {\n",
       "        text-align: right;\n",
       "    }\n",
       "</style>\n",
       "<table border=\"1\" class=\"dataframe\">\n",
       "  <thead>\n",
       "    <tr style=\"text-align: right;\">\n",
       "      <th></th>\n",
       "      <th>Maas</th>\n",
       "      <th>Yas</th>\n",
       "      <th>Calisma Saati</th>\n",
       "    </tr>\n",
       "  </thead>\n",
       "  <tbody>\n",
       "    <tr>\n",
       "      <th>Atil</th>\n",
       "      <td>1.753769</td>\n",
       "      <td>-0.152518</td>\n",
       "      <td>-0.068340</td>\n",
       "    </tr>\n",
       "    <tr>\n",
       "      <th>Zeynep</th>\n",
       "      <td>1.006860</td>\n",
       "      <td>0.856811</td>\n",
       "      <td>0.487538</td>\n",
       "    </tr>\n",
       "    <tr>\n",
       "      <th>Atlas</th>\n",
       "      <td>1.300690</td>\n",
       "      <td>-0.713095</td>\n",
       "      <td>0.836333</td>\n",
       "    </tr>\n",
       "    <tr>\n",
       "      <th>Mehmet</th>\n",
       "      <td>-0.094269</td>\n",
       "      <td>-1.105592</td>\n",
       "      <td>1.594716</td>\n",
       "    </tr>\n",
       "  </tbody>\n",
       "</table>\n",
       "</div>"
      ],
      "text/plain": [
       "            Maas       Yas  Calisma Saati\n",
       "Atil    1.753769 -0.152518      -0.068340\n",
       "Zeynep  1.006860  0.856811       0.487538\n",
       "Atlas   1.300690 -0.713095       0.836333\n",
       "Mehmet -0.094269 -1.105592       1.594716"
      ]
     },
     "execution_count": 254,
     "metadata": {},
     "output_type": "execute_result"
    }
   ],
   "source": [
    "newDateFrame#aşağıdaki çıktıdan da anlaşılacağı üzere\n",
    "\n",
    "#ana dataframe üzerinde yapılan değişiklikler kaydedilmemiş \n",
    "#bunun kaydedilmesi için \"inplace=True\" yapılmalıdır"
   ]
  },
  {
   "cell_type": "code",
   "execution_count": 255,
   "id": "57a69f7a",
   "metadata": {},
   "outputs": [],
   "source": [
    "#eğer var olan bir index listesi değiştirilmek istenirse ve yapılan bu değişiklik \n",
    "#ana dataframe üzerinde gerçekleştirilip kaydedilmek istenilirse"
   ]
  },
  {
   "cell_type": "code",
   "execution_count": 256,
   "id": "fd0e2050",
   "metadata": {},
   "outputs": [],
   "source": [
    "newIndexList=[\"Ati\",\"Zey\",\"Atl\",\"Meh\"]"
   ]
  },
  {
   "cell_type": "code",
   "execution_count": 257,
   "id": "f21d9cff",
   "metadata": {},
   "outputs": [],
   "source": [
    "#yukarıdaki index bilgilerini set etmeden önce bunu bir kolon olarak \n",
    "#bu tabloya yazdırmamız lazım"
   ]
  },
  {
   "cell_type": "code",
   "execution_count": 258,
   "id": "e7976a23",
   "metadata": {},
   "outputs": [],
   "source": [
    "newDateFrame[\"New Index\"]=newIndexList"
   ]
  },
  {
   "cell_type": "code",
   "execution_count": 259,
   "id": "d0aba517",
   "metadata": {},
   "outputs": [
    {
     "data": {
      "text/html": [
       "<div>\n",
       "<style scoped>\n",
       "    .dataframe tbody tr th:only-of-type {\n",
       "        vertical-align: middle;\n",
       "    }\n",
       "\n",
       "    .dataframe tbody tr th {\n",
       "        vertical-align: top;\n",
       "    }\n",
       "\n",
       "    .dataframe thead th {\n",
       "        text-align: right;\n",
       "    }\n",
       "</style>\n",
       "<table border=\"1\" class=\"dataframe\">\n",
       "  <thead>\n",
       "    <tr style=\"text-align: right;\">\n",
       "      <th></th>\n",
       "      <th>Maas</th>\n",
       "      <th>Yas</th>\n",
       "      <th>Calisma Saati</th>\n",
       "      <th>New Index</th>\n",
       "    </tr>\n",
       "  </thead>\n",
       "  <tbody>\n",
       "    <tr>\n",
       "      <th>Atil</th>\n",
       "      <td>1.753769</td>\n",
       "      <td>-0.152518</td>\n",
       "      <td>-0.068340</td>\n",
       "      <td>Ati</td>\n",
       "    </tr>\n",
       "    <tr>\n",
       "      <th>Zeynep</th>\n",
       "      <td>1.006860</td>\n",
       "      <td>0.856811</td>\n",
       "      <td>0.487538</td>\n",
       "      <td>Zey</td>\n",
       "    </tr>\n",
       "    <tr>\n",
       "      <th>Atlas</th>\n",
       "      <td>1.300690</td>\n",
       "      <td>-0.713095</td>\n",
       "      <td>0.836333</td>\n",
       "      <td>Atl</td>\n",
       "    </tr>\n",
       "    <tr>\n",
       "      <th>Mehmet</th>\n",
       "      <td>-0.094269</td>\n",
       "      <td>-1.105592</td>\n",
       "      <td>1.594716</td>\n",
       "      <td>Meh</td>\n",
       "    </tr>\n",
       "  </tbody>\n",
       "</table>\n",
       "</div>"
      ],
      "text/plain": [
       "            Maas       Yas  Calisma Saati New Index\n",
       "Atil    1.753769 -0.152518      -0.068340       Ati\n",
       "Zeynep  1.006860  0.856811       0.487538       Zey\n",
       "Atlas   1.300690 -0.713095       0.836333       Atl\n",
       "Mehmet -0.094269 -1.105592       1.594716       Meh"
      ]
     },
     "execution_count": 259,
     "metadata": {},
     "output_type": "execute_result"
    }
   ],
   "source": [
    "newDateFrame"
   ]
  },
  {
   "cell_type": "code",
   "execution_count": 260,
   "id": "7ab400ff",
   "metadata": {},
   "outputs": [
    {
     "data": {
      "text/html": [
       "<div>\n",
       "<style scoped>\n",
       "    .dataframe tbody tr th:only-of-type {\n",
       "        vertical-align: middle;\n",
       "    }\n",
       "\n",
       "    .dataframe tbody tr th {\n",
       "        vertical-align: top;\n",
       "    }\n",
       "\n",
       "    .dataframe thead th {\n",
       "        text-align: right;\n",
       "    }\n",
       "</style>\n",
       "<table border=\"1\" class=\"dataframe\">\n",
       "  <thead>\n",
       "    <tr style=\"text-align: right;\">\n",
       "      <th></th>\n",
       "      <th>Maas</th>\n",
       "      <th>Yas</th>\n",
       "      <th>Calisma Saati</th>\n",
       "    </tr>\n",
       "    <tr>\n",
       "      <th>New Index</th>\n",
       "      <th></th>\n",
       "      <th></th>\n",
       "      <th></th>\n",
       "    </tr>\n",
       "  </thead>\n",
       "  <tbody>\n",
       "    <tr>\n",
       "      <th>Ati</th>\n",
       "      <td>1.753769</td>\n",
       "      <td>-0.152518</td>\n",
       "      <td>-0.068340</td>\n",
       "    </tr>\n",
       "    <tr>\n",
       "      <th>Zey</th>\n",
       "      <td>1.006860</td>\n",
       "      <td>0.856811</td>\n",
       "      <td>0.487538</td>\n",
       "    </tr>\n",
       "    <tr>\n",
       "      <th>Atl</th>\n",
       "      <td>1.300690</td>\n",
       "      <td>-0.713095</td>\n",
       "      <td>0.836333</td>\n",
       "    </tr>\n",
       "    <tr>\n",
       "      <th>Meh</th>\n",
       "      <td>-0.094269</td>\n",
       "      <td>-1.105592</td>\n",
       "      <td>1.594716</td>\n",
       "    </tr>\n",
       "  </tbody>\n",
       "</table>\n",
       "</div>"
      ],
      "text/plain": [
       "               Maas       Yas  Calisma Saati\n",
       "New Index                                   \n",
       "Ati        1.753769 -0.152518      -0.068340\n",
       "Zey        1.006860  0.856811       0.487538\n",
       "Atl        1.300690 -0.713095       0.836333\n",
       "Meh       -0.094269 -1.105592       1.594716"
      ]
     },
     "execution_count": 260,
     "metadata": {},
     "output_type": "execute_result"
    }
   ],
   "source": [
    "newDateFrame.set_index(\"New Index\")"
   ]
  },
  {
   "cell_type": "code",
   "execution_count": 261,
   "id": "073cda97",
   "metadata": {},
   "outputs": [
    {
     "data": {
      "text/html": [
       "<div>\n",
       "<style scoped>\n",
       "    .dataframe tbody tr th:only-of-type {\n",
       "        vertical-align: middle;\n",
       "    }\n",
       "\n",
       "    .dataframe tbody tr th {\n",
       "        vertical-align: top;\n",
       "    }\n",
       "\n",
       "    .dataframe thead th {\n",
       "        text-align: right;\n",
       "    }\n",
       "</style>\n",
       "<table border=\"1\" class=\"dataframe\">\n",
       "  <thead>\n",
       "    <tr style=\"text-align: right;\">\n",
       "      <th></th>\n",
       "      <th>Maas</th>\n",
       "      <th>Yas</th>\n",
       "      <th>Calisma Saati</th>\n",
       "      <th>New Index</th>\n",
       "    </tr>\n",
       "  </thead>\n",
       "  <tbody>\n",
       "    <tr>\n",
       "      <th>Atil</th>\n",
       "      <td>1.753769</td>\n",
       "      <td>-0.152518</td>\n",
       "      <td>-0.068340</td>\n",
       "      <td>Ati</td>\n",
       "    </tr>\n",
       "    <tr>\n",
       "      <th>Zeynep</th>\n",
       "      <td>1.006860</td>\n",
       "      <td>0.856811</td>\n",
       "      <td>0.487538</td>\n",
       "      <td>Zey</td>\n",
       "    </tr>\n",
       "    <tr>\n",
       "      <th>Atlas</th>\n",
       "      <td>1.300690</td>\n",
       "      <td>-0.713095</td>\n",
       "      <td>0.836333</td>\n",
       "      <td>Atl</td>\n",
       "    </tr>\n",
       "    <tr>\n",
       "      <th>Mehmet</th>\n",
       "      <td>-0.094269</td>\n",
       "      <td>-1.105592</td>\n",
       "      <td>1.594716</td>\n",
       "      <td>Meh</td>\n",
       "    </tr>\n",
       "  </tbody>\n",
       "</table>\n",
       "</div>"
      ],
      "text/plain": [
       "            Maas       Yas  Calisma Saati New Index\n",
       "Atil    1.753769 -0.152518      -0.068340       Ati\n",
       "Zeynep  1.006860  0.856811       0.487538       Zey\n",
       "Atlas   1.300690 -0.713095       0.836333       Atl\n",
       "Mehmet -0.094269 -1.105592       1.594716       Meh"
      ]
     },
     "execution_count": 261,
     "metadata": {},
     "output_type": "execute_result"
    }
   ],
   "source": [
    "newDateFrame#yukarıdaki değişikliğin ana dataframe üzerinde \n",
    "#gerçekleştirilmesi için \"inplace=True\" yapılmalıdır"
   ]
  },
  {
   "cell_type": "code",
   "execution_count": 262,
   "id": "09001424",
   "metadata": {},
   "outputs": [],
   "source": [
    "newDateFrame.set_index(\"New Index\",inplace=True)#set etmeden önce dataframe kolon olarak eklenmelidir"
   ]
  },
  {
   "cell_type": "code",
   "execution_count": 263,
   "id": "99d07bd8",
   "metadata": {},
   "outputs": [
    {
     "data": {
      "text/html": [
       "<div>\n",
       "<style scoped>\n",
       "    .dataframe tbody tr th:only-of-type {\n",
       "        vertical-align: middle;\n",
       "    }\n",
       "\n",
       "    .dataframe tbody tr th {\n",
       "        vertical-align: top;\n",
       "    }\n",
       "\n",
       "    .dataframe thead th {\n",
       "        text-align: right;\n",
       "    }\n",
       "</style>\n",
       "<table border=\"1\" class=\"dataframe\">\n",
       "  <thead>\n",
       "    <tr style=\"text-align: right;\">\n",
       "      <th></th>\n",
       "      <th>Maas</th>\n",
       "      <th>Yas</th>\n",
       "      <th>Calisma Saati</th>\n",
       "    </tr>\n",
       "    <tr>\n",
       "      <th>New Index</th>\n",
       "      <th></th>\n",
       "      <th></th>\n",
       "      <th></th>\n",
       "    </tr>\n",
       "  </thead>\n",
       "  <tbody>\n",
       "    <tr>\n",
       "      <th>Ati</th>\n",
       "      <td>1.753769</td>\n",
       "      <td>-0.152518</td>\n",
       "      <td>-0.068340</td>\n",
       "    </tr>\n",
       "    <tr>\n",
       "      <th>Zey</th>\n",
       "      <td>1.006860</td>\n",
       "      <td>0.856811</td>\n",
       "      <td>0.487538</td>\n",
       "    </tr>\n",
       "    <tr>\n",
       "      <th>Atl</th>\n",
       "      <td>1.300690</td>\n",
       "      <td>-0.713095</td>\n",
       "      <td>0.836333</td>\n",
       "    </tr>\n",
       "    <tr>\n",
       "      <th>Meh</th>\n",
       "      <td>-0.094269</td>\n",
       "      <td>-1.105592</td>\n",
       "      <td>1.594716</td>\n",
       "    </tr>\n",
       "  </tbody>\n",
       "</table>\n",
       "</div>"
      ],
      "text/plain": [
       "               Maas       Yas  Calisma Saati\n",
       "New Index                                   \n",
       "Ati        1.753769 -0.152518      -0.068340\n",
       "Zey        1.006860  0.856811       0.487538\n",
       "Atl        1.300690 -0.713095       0.836333\n",
       "Meh       -0.094269 -1.105592       1.594716"
      ]
     },
     "execution_count": 263,
     "metadata": {},
     "output_type": "execute_result"
    }
   ],
   "source": [
    "newDateFrame"
   ]
  },
  {
   "cell_type": "code",
   "execution_count": 264,
   "id": "2e46f761",
   "metadata": {},
   "outputs": [],
   "source": [
    "#yukarıda yapıan değişikliğin ana dataframe üzerinde kaydedilip kaydedilmediğini\n",
    "#konrol etmek için:"
   ]
  },
  {
   "cell_type": "code",
   "execution_count": 265,
   "id": "92660b33",
   "metadata": {},
   "outputs": [
    {
     "data": {
      "text/plain": [
       "Maas             1.753769\n",
       "Yas             -0.152518\n",
       "Calisma Saati   -0.068340\n",
       "Name: Ati, dtype: float64"
      ]
     },
     "execution_count": 265,
     "metadata": {},
     "output_type": "execute_result"
    }
   ],
   "source": [
    "newDateFrame.loc[\"Ati\"]"
   ]
  },
  {
   "cell_type": "markdown",
   "id": "997d58b9",
   "metadata": {},
   "source": [
    "MULTI INDEX"
   ]
  },
  {
   "cell_type": "code",
   "execution_count": 266,
   "id": "3de98dbb",
   "metadata": {},
   "outputs": [],
   "source": [
    "#şuan bu konuyu anlatmak için üzerinde çalışacağımız dataframede iki index var\n",
    "#dış index ve iç index olmak üzere\n",
    "#dış index=marvel ve dc(bu merge edilmiş hali)\n",
    "#normalde=marvel,marvel,marvel,DC,DC,DC şeklidedir\n",
    "\n",
    "#iç index=spiderman,ıronman,captan america,batman,superman,flash"
   ]
  },
  {
   "cell_type": "code",
   "execution_count": 267,
   "id": "64fe2a0c",
   "metadata": {},
   "outputs": [],
   "source": [
    "disIndex=[\"Marvel\",\"Marvel\",\"Marvel\",\"DC\",\"DC\",\"DC\"]"
   ]
  },
  {
   "cell_type": "code",
   "execution_count": 268,
   "id": "9625b71e",
   "metadata": {},
   "outputs": [],
   "source": [
    "icIndex=[\"Spiderman\",\"Ironman\",\"Captan America\",\"Batman\",\"Superman\",\"Flash\"]"
   ]
  },
  {
   "cell_type": "code",
   "execution_count": 269,
   "id": "125e4f43",
   "metadata": {},
   "outputs": [],
   "source": [
    "birlesmisIndex=list(zip(disIndex,icIndex))"
   ]
  },
  {
   "cell_type": "code",
   "execution_count": 270,
   "id": "45f0100b",
   "metadata": {},
   "outputs": [
    {
     "data": {
      "text/plain": [
       "[('Marvel', 'Spiderman'),\n",
       " ('Marvel', 'Ironman'),\n",
       " ('Marvel', 'Captan America'),\n",
       " ('DC', 'Batman'),\n",
       " ('DC', 'Superman'),\n",
       " ('DC', 'Flash')]"
      ]
     },
     "execution_count": 270,
     "metadata": {},
     "output_type": "execute_result"
    }
   ],
   "source": [
    "birlesmisIndex"
   ]
  },
  {
   "cell_type": "code",
   "execution_count": 271,
   "id": "b7577784",
   "metadata": {},
   "outputs": [],
   "source": [
    "birlesmisIndex=pd.MultiIndex.from_tuples(birlesmisIndex)"
   ]
  },
  {
   "cell_type": "code",
   "execution_count": 272,
   "id": "ec63610f",
   "metadata": {},
   "outputs": [
    {
     "data": {
      "text/plain": [
       "MultiIndex([('Marvel',      'Spiderman'),\n",
       "            ('Marvel',        'Ironman'),\n",
       "            ('Marvel', 'Captan America'),\n",
       "            (    'DC',         'Batman'),\n",
       "            (    'DC',       'Superman'),\n",
       "            (    'DC',          'Flash')],\n",
       "           )"
      ]
     },
     "execution_count": 272,
     "metadata": {},
     "output_type": "execute_result"
    }
   ],
   "source": [
    "birlesmisIndex"
   ]
  },
  {
   "cell_type": "code",
   "execution_count": 273,
   "id": "abaf83b0",
   "metadata": {},
   "outputs": [],
   "source": [
    "#data listelerini oluşturalım"
   ]
  },
  {
   "cell_type": "code",
   "execution_count": 274,
   "id": "9ee78338",
   "metadata": {},
   "outputs": [],
   "source": [
    "age=[40,10,30,9,10,11]"
   ]
  },
  {
   "cell_type": "code",
   "execution_count": 275,
   "id": "7a452250",
   "metadata": {},
   "outputs": [],
   "source": [
    "job=[\"Öğrenci\",\"İş Adamı\",\"Asker\",\"İş Adamı\",\"Gazateci\",\"Gazateci\"]"
   ]
  },
  {
   "cell_type": "code",
   "execution_count": 276,
   "id": "1abfbab7",
   "metadata": {},
   "outputs": [],
   "source": [
    "#şimdi dataframe oluşturalım"
   ]
  },
  {
   "cell_type": "code",
   "execution_count": 277,
   "id": "45cc8f45",
   "metadata": {},
   "outputs": [
    {
     "data": {
      "text/html": [
       "<div>\n",
       "<style scoped>\n",
       "    .dataframe tbody tr th:only-of-type {\n",
       "        vertical-align: middle;\n",
       "    }\n",
       "\n",
       "    .dataframe tbody tr th {\n",
       "        vertical-align: top;\n",
       "    }\n",
       "\n",
       "    .dataframe thead th {\n",
       "        text-align: right;\n",
       "    }\n",
       "</style>\n",
       "<table border=\"1\" class=\"dataframe\">\n",
       "  <thead>\n",
       "    <tr style=\"text-align: right;\">\n",
       "      <th></th>\n",
       "      <th></th>\n",
       "    </tr>\n",
       "  </thead>\n",
       "  <tbody>\n",
       "    <tr>\n",
       "      <th rowspan=\"3\" valign=\"top\">Marvel</th>\n",
       "      <th>Spiderman</th>\n",
       "    </tr>\n",
       "    <tr>\n",
       "      <th>Ironman</th>\n",
       "    </tr>\n",
       "    <tr>\n",
       "      <th>Captan America</th>\n",
       "    </tr>\n",
       "    <tr>\n",
       "      <th rowspan=\"3\" valign=\"top\">DC</th>\n",
       "      <th>Batman</th>\n",
       "    </tr>\n",
       "    <tr>\n",
       "      <th>Superman</th>\n",
       "    </tr>\n",
       "    <tr>\n",
       "      <th>Flash</th>\n",
       "    </tr>\n",
       "  </tbody>\n",
       "</table>\n",
       "</div>"
      ],
      "text/plain": [
       "Empty DataFrame\n",
       "Columns: []\n",
       "Index: [(Marvel, Spiderman), (Marvel, Ironman), (Marvel, Captan America), (DC, Batman), (DC, Superman), (DC, Flash)]"
      ]
     },
     "execution_count": 277,
     "metadata": {},
     "output_type": "execute_result"
    }
   ],
   "source": [
    "newDataFrame2=pd.DataFrame(index=birlesmisIndex)\n",
    "newDataFrame2"
   ]
  },
  {
   "cell_type": "code",
   "execution_count": 287,
   "id": "d3b2e828",
   "metadata": {},
   "outputs": [],
   "source": [
    "newDataFrame2[\"Job\"]=job\n",
    "newDataFrame2[\"Age\"]=age"
   ]
  },
  {
   "cell_type": "code",
   "execution_count": 288,
   "id": "66d23577",
   "metadata": {},
   "outputs": [
    {
     "data": {
      "text/html": [
       "<div>\n",
       "<style scoped>\n",
       "    .dataframe tbody tr th:only-of-type {\n",
       "        vertical-align: middle;\n",
       "    }\n",
       "\n",
       "    .dataframe tbody tr th {\n",
       "        vertical-align: top;\n",
       "    }\n",
       "\n",
       "    .dataframe thead th {\n",
       "        text-align: right;\n",
       "    }\n",
       "</style>\n",
       "<table border=\"1\" class=\"dataframe\">\n",
       "  <thead>\n",
       "    <tr style=\"text-align: right;\">\n",
       "      <th></th>\n",
       "      <th></th>\n",
       "      <th>job</th>\n",
       "      <th>age</th>\n",
       "      <th>Job</th>\n",
       "      <th>Age</th>\n",
       "    </tr>\n",
       "  </thead>\n",
       "  <tbody>\n",
       "    <tr>\n",
       "      <th rowspan=\"3\" valign=\"top\">Marvel</th>\n",
       "      <th>Spiderman</th>\n",
       "      <td>Öğrenci</td>\n",
       "      <td>40</td>\n",
       "      <td>Öğrenci</td>\n",
       "      <td>40</td>\n",
       "    </tr>\n",
       "    <tr>\n",
       "      <th>Ironman</th>\n",
       "      <td>İş Adamı</td>\n",
       "      <td>10</td>\n",
       "      <td>İş Adamı</td>\n",
       "      <td>10</td>\n",
       "    </tr>\n",
       "    <tr>\n",
       "      <th>Captan America</th>\n",
       "      <td>Asker</td>\n",
       "      <td>30</td>\n",
       "      <td>Asker</td>\n",
       "      <td>30</td>\n",
       "    </tr>\n",
       "    <tr>\n",
       "      <th rowspan=\"3\" valign=\"top\">DC</th>\n",
       "      <th>Batman</th>\n",
       "      <td>İş Adamı</td>\n",
       "      <td>9</td>\n",
       "      <td>İş Adamı</td>\n",
       "      <td>9</td>\n",
       "    </tr>\n",
       "    <tr>\n",
       "      <th>Superman</th>\n",
       "      <td>Gazateci</td>\n",
       "      <td>10</td>\n",
       "      <td>Gazateci</td>\n",
       "      <td>10</td>\n",
       "    </tr>\n",
       "    <tr>\n",
       "      <th>Flash</th>\n",
       "      <td>Gazateci</td>\n",
       "      <td>11</td>\n",
       "      <td>Gazateci</td>\n",
       "      <td>11</td>\n",
       "    </tr>\n",
       "  </tbody>\n",
       "</table>\n",
       "</div>"
      ],
      "text/plain": [
       "                            job  age       Job  Age\n",
       "Marvel Spiderman        Öğrenci   40   Öğrenci   40\n",
       "       Ironman         İş Adamı   10  İş Adamı   10\n",
       "       Captan America     Asker   30     Asker   30\n",
       "DC     Batman          İş Adamı    9  İş Adamı    9\n",
       "       Superman        Gazateci   10  Gazateci   10\n",
       "       Flash           Gazateci   11  Gazateci   11"
      ]
     },
     "execution_count": 288,
     "metadata": {},
     "output_type": "execute_result"
    }
   ],
   "source": [
    "newDataFrame2"
   ]
  },
  {
   "cell_type": "code",
   "execution_count": 289,
   "id": "a201920d",
   "metadata": {},
   "outputs": [],
   "source": [
    "#YUKARIDAKİ ÇIKTIYI FARKLI BİR YOLDAN DA ELDE EDEBİLİRİZ"
   ]
  },
  {
   "cell_type": "code",
   "execution_count": 282,
   "id": "bdc236d9",
   "metadata": {},
   "outputs": [],
   "source": [
    "index_1=[[\"Öğrenci\",40],[\"İş Adamı\",10],[\"Asker\",30],\n",
    "         [\"İş Adamı\",9],[\"Gazateci\",10],[\"Gazateci\",11]]"
   ]
  },
  {
   "cell_type": "code",
   "execution_count": 285,
   "id": "958a6c15",
   "metadata": {},
   "outputs": [],
   "source": [
    "newDataFrame3=pd.DataFrame(data=index_1,index=birlesmisIndex,columns=[\"Job\",\"Age\"])"
   ]
  },
  {
   "cell_type": "code",
   "execution_count": 286,
   "id": "bae10d02",
   "metadata": {},
   "outputs": [
    {
     "data": {
      "text/html": [
       "<div>\n",
       "<style scoped>\n",
       "    .dataframe tbody tr th:only-of-type {\n",
       "        vertical-align: middle;\n",
       "    }\n",
       "\n",
       "    .dataframe tbody tr th {\n",
       "        vertical-align: top;\n",
       "    }\n",
       "\n",
       "    .dataframe thead th {\n",
       "        text-align: right;\n",
       "    }\n",
       "</style>\n",
       "<table border=\"1\" class=\"dataframe\">\n",
       "  <thead>\n",
       "    <tr style=\"text-align: right;\">\n",
       "      <th></th>\n",
       "      <th></th>\n",
       "      <th>Job</th>\n",
       "      <th>Age</th>\n",
       "    </tr>\n",
       "  </thead>\n",
       "  <tbody>\n",
       "    <tr>\n",
       "      <th rowspan=\"3\" valign=\"top\">Marvel</th>\n",
       "      <th>Spiderman</th>\n",
       "      <td>Öğrenci</td>\n",
       "      <td>40</td>\n",
       "    </tr>\n",
       "    <tr>\n",
       "      <th>Ironman</th>\n",
       "      <td>İş Adamı</td>\n",
       "      <td>10</td>\n",
       "    </tr>\n",
       "    <tr>\n",
       "      <th>Captan America</th>\n",
       "      <td>Asker</td>\n",
       "      <td>30</td>\n",
       "    </tr>\n",
       "    <tr>\n",
       "      <th rowspan=\"3\" valign=\"top\">DC</th>\n",
       "      <th>Batman</th>\n",
       "      <td>İş Adamı</td>\n",
       "      <td>9</td>\n",
       "    </tr>\n",
       "    <tr>\n",
       "      <th>Superman</th>\n",
       "      <td>Gazateci</td>\n",
       "      <td>10</td>\n",
       "    </tr>\n",
       "    <tr>\n",
       "      <th>Flash</th>\n",
       "      <td>Gazateci</td>\n",
       "      <td>11</td>\n",
       "    </tr>\n",
       "  </tbody>\n",
       "</table>\n",
       "</div>"
      ],
      "text/plain": [
       "                            Job  Age\n",
       "Marvel Spiderman        Öğrenci   40\n",
       "       Ironman         İş Adamı   10\n",
       "       Captan America     Asker   30\n",
       "DC     Batman          İş Adamı    9\n",
       "       Superman        Gazateci   10\n",
       "       Flash           Gazateci   11"
      ]
     },
     "execution_count": 286,
     "metadata": {},
     "output_type": "execute_result"
    }
   ],
   "source": [
    "newDataFrame3"
   ]
  },
  {
   "cell_type": "code",
   "execution_count": 293,
   "id": "db9fc43e",
   "metadata": {},
   "outputs": [],
   "source": [
    "\n",
    "newDataFrame2.drop(\"Job\",axis=1,inplace=True)"
   ]
  },
  {
   "cell_type": "code",
   "execution_count": 294,
   "id": "ba7fba2e",
   "metadata": {},
   "outputs": [
    {
     "data": {
      "text/html": [
       "<div>\n",
       "<style scoped>\n",
       "    .dataframe tbody tr th:only-of-type {\n",
       "        vertical-align: middle;\n",
       "    }\n",
       "\n",
       "    .dataframe tbody tr th {\n",
       "        vertical-align: top;\n",
       "    }\n",
       "\n",
       "    .dataframe thead th {\n",
       "        text-align: right;\n",
       "    }\n",
       "</style>\n",
       "<table border=\"1\" class=\"dataframe\">\n",
       "  <thead>\n",
       "    <tr style=\"text-align: right;\">\n",
       "      <th></th>\n",
       "      <th></th>\n",
       "      <th>job</th>\n",
       "      <th>age</th>\n",
       "    </tr>\n",
       "  </thead>\n",
       "  <tbody>\n",
       "    <tr>\n",
       "      <th rowspan=\"3\" valign=\"top\">Marvel</th>\n",
       "      <th>Spiderman</th>\n",
       "      <td>Öğrenci</td>\n",
       "      <td>40</td>\n",
       "    </tr>\n",
       "    <tr>\n",
       "      <th>Ironman</th>\n",
       "      <td>İş Adamı</td>\n",
       "      <td>10</td>\n",
       "    </tr>\n",
       "    <tr>\n",
       "      <th>Captan America</th>\n",
       "      <td>Asker</td>\n",
       "      <td>30</td>\n",
       "    </tr>\n",
       "    <tr>\n",
       "      <th rowspan=\"3\" valign=\"top\">DC</th>\n",
       "      <th>Batman</th>\n",
       "      <td>İş Adamı</td>\n",
       "      <td>9</td>\n",
       "    </tr>\n",
       "    <tr>\n",
       "      <th>Superman</th>\n",
       "      <td>Gazateci</td>\n",
       "      <td>10</td>\n",
       "    </tr>\n",
       "    <tr>\n",
       "      <th>Flash</th>\n",
       "      <td>Gazateci</td>\n",
       "      <td>11</td>\n",
       "    </tr>\n",
       "  </tbody>\n",
       "</table>\n",
       "</div>"
      ],
      "text/plain": [
       "                            job  age\n",
       "Marvel Spiderman        Öğrenci   40\n",
       "       Ironman         İş Adamı   10\n",
       "       Captan America     Asker   30\n",
       "DC     Batman          İş Adamı    9\n",
       "       Superman        Gazateci   10\n",
       "       Flash           Gazateci   11"
      ]
     },
     "execution_count": 294,
     "metadata": {},
     "output_type": "execute_result"
    }
   ],
   "source": [
    "newDataFrame2"
   ]
  },
  {
   "cell_type": "code",
   "execution_count": 295,
   "id": "84753d95",
   "metadata": {},
   "outputs": [],
   "source": [
    "newDataFrame2[\"Job\"]=job\n",
    "newDataFrame2[\"Age\"]=age"
   ]
  },
  {
   "cell_type": "code",
   "execution_count": 296,
   "id": "aa6003c7",
   "metadata": {},
   "outputs": [
    {
     "data": {
      "text/html": [
       "<div>\n",
       "<style scoped>\n",
       "    .dataframe tbody tr th:only-of-type {\n",
       "        vertical-align: middle;\n",
       "    }\n",
       "\n",
       "    .dataframe tbody tr th {\n",
       "        vertical-align: top;\n",
       "    }\n",
       "\n",
       "    .dataframe thead th {\n",
       "        text-align: right;\n",
       "    }\n",
       "</style>\n",
       "<table border=\"1\" class=\"dataframe\">\n",
       "  <thead>\n",
       "    <tr style=\"text-align: right;\">\n",
       "      <th></th>\n",
       "      <th></th>\n",
       "      <th>job</th>\n",
       "      <th>age</th>\n",
       "      <th>Job</th>\n",
       "      <th>Age</th>\n",
       "    </tr>\n",
       "  </thead>\n",
       "  <tbody>\n",
       "    <tr>\n",
       "      <th rowspan=\"3\" valign=\"top\">Marvel</th>\n",
       "      <th>Spiderman</th>\n",
       "      <td>Öğrenci</td>\n",
       "      <td>40</td>\n",
       "      <td>Öğrenci</td>\n",
       "      <td>40</td>\n",
       "    </tr>\n",
       "    <tr>\n",
       "      <th>Ironman</th>\n",
       "      <td>İş Adamı</td>\n",
       "      <td>10</td>\n",
       "      <td>İş Adamı</td>\n",
       "      <td>10</td>\n",
       "    </tr>\n",
       "    <tr>\n",
       "      <th>Captan America</th>\n",
       "      <td>Asker</td>\n",
       "      <td>30</td>\n",
       "      <td>Asker</td>\n",
       "      <td>30</td>\n",
       "    </tr>\n",
       "    <tr>\n",
       "      <th rowspan=\"3\" valign=\"top\">DC</th>\n",
       "      <th>Batman</th>\n",
       "      <td>İş Adamı</td>\n",
       "      <td>9</td>\n",
       "      <td>İş Adamı</td>\n",
       "      <td>9</td>\n",
       "    </tr>\n",
       "    <tr>\n",
       "      <th>Superman</th>\n",
       "      <td>Gazateci</td>\n",
       "      <td>10</td>\n",
       "      <td>Gazateci</td>\n",
       "      <td>10</td>\n",
       "    </tr>\n",
       "    <tr>\n",
       "      <th>Flash</th>\n",
       "      <td>Gazateci</td>\n",
       "      <td>11</td>\n",
       "      <td>Gazateci</td>\n",
       "      <td>11</td>\n",
       "    </tr>\n",
       "  </tbody>\n",
       "</table>\n",
       "</div>"
      ],
      "text/plain": [
       "                            job  age       Job  Age\n",
       "Marvel Spiderman        Öğrenci   40   Öğrenci   40\n",
       "       Ironman         İş Adamı   10  İş Adamı   10\n",
       "       Captan America     Asker   30     Asker   30\n",
       "DC     Batman          İş Adamı    9  İş Adamı    9\n",
       "       Superman        Gazateci   10  Gazateci   10\n",
       "       Flash           Gazateci   11  Gazateci   11"
      ]
     },
     "execution_count": 296,
     "metadata": {},
     "output_type": "execute_result"
    }
   ],
   "source": [
    "newDataFrame2"
   ]
  },
  {
   "cell_type": "code",
   "execution_count": 297,
   "id": "bdc33a37",
   "metadata": {},
   "outputs": [],
   "source": [
    "newDataFrame2.drop([\"job\",\"age\"],axis=1,inplace=True)"
   ]
  },
  {
   "cell_type": "code",
   "execution_count": 298,
   "id": "290089e6",
   "metadata": {},
   "outputs": [
    {
     "data": {
      "text/html": [
       "<div>\n",
       "<style scoped>\n",
       "    .dataframe tbody tr th:only-of-type {\n",
       "        vertical-align: middle;\n",
       "    }\n",
       "\n",
       "    .dataframe tbody tr th {\n",
       "        vertical-align: top;\n",
       "    }\n",
       "\n",
       "    .dataframe thead th {\n",
       "        text-align: right;\n",
       "    }\n",
       "</style>\n",
       "<table border=\"1\" class=\"dataframe\">\n",
       "  <thead>\n",
       "    <tr style=\"text-align: right;\">\n",
       "      <th></th>\n",
       "      <th></th>\n",
       "      <th>Job</th>\n",
       "      <th>Age</th>\n",
       "    </tr>\n",
       "  </thead>\n",
       "  <tbody>\n",
       "    <tr>\n",
       "      <th rowspan=\"3\" valign=\"top\">Marvel</th>\n",
       "      <th>Spiderman</th>\n",
       "      <td>Öğrenci</td>\n",
       "      <td>40</td>\n",
       "    </tr>\n",
       "    <tr>\n",
       "      <th>Ironman</th>\n",
       "      <td>İş Adamı</td>\n",
       "      <td>10</td>\n",
       "    </tr>\n",
       "    <tr>\n",
       "      <th>Captan America</th>\n",
       "      <td>Asker</td>\n",
       "      <td>30</td>\n",
       "    </tr>\n",
       "    <tr>\n",
       "      <th rowspan=\"3\" valign=\"top\">DC</th>\n",
       "      <th>Batman</th>\n",
       "      <td>İş Adamı</td>\n",
       "      <td>9</td>\n",
       "    </tr>\n",
       "    <tr>\n",
       "      <th>Superman</th>\n",
       "      <td>Gazateci</td>\n",
       "      <td>10</td>\n",
       "    </tr>\n",
       "    <tr>\n",
       "      <th>Flash</th>\n",
       "      <td>Gazateci</td>\n",
       "      <td>11</td>\n",
       "    </tr>\n",
       "  </tbody>\n",
       "</table>\n",
       "</div>"
      ],
      "text/plain": [
       "                            Job  Age\n",
       "Marvel Spiderman        Öğrenci   40\n",
       "       Ironman         İş Adamı   10\n",
       "       Captan America     Asker   30\n",
       "DC     Batman          İş Adamı    9\n",
       "       Superman        Gazateci   10\n",
       "       Flash           Gazateci   11"
      ]
     },
     "execution_count": 298,
     "metadata": {},
     "output_type": "execute_result"
    }
   ],
   "source": [
    "newDataFrame2"
   ]
  },
  {
   "cell_type": "code",
   "execution_count": 299,
   "id": "9e520efb",
   "metadata": {},
   "outputs": [
    {
     "data": {
      "text/html": [
       "<div>\n",
       "<style scoped>\n",
       "    .dataframe tbody tr th:only-of-type {\n",
       "        vertical-align: middle;\n",
       "    }\n",
       "\n",
       "    .dataframe tbody tr th {\n",
       "        vertical-align: top;\n",
       "    }\n",
       "\n",
       "    .dataframe thead th {\n",
       "        text-align: right;\n",
       "    }\n",
       "</style>\n",
       "<table border=\"1\" class=\"dataframe\">\n",
       "  <thead>\n",
       "    <tr style=\"text-align: right;\">\n",
       "      <th></th>\n",
       "      <th></th>\n",
       "      <th>Job</th>\n",
       "      <th>Age</th>\n",
       "    </tr>\n",
       "  </thead>\n",
       "  <tbody>\n",
       "    <tr>\n",
       "      <th rowspan=\"3\" valign=\"top\">Marvel</th>\n",
       "      <th>Spiderman</th>\n",
       "      <td>Öğrenci</td>\n",
       "      <td>40</td>\n",
       "    </tr>\n",
       "    <tr>\n",
       "      <th>Ironman</th>\n",
       "      <td>İş Adamı</td>\n",
       "      <td>10</td>\n",
       "    </tr>\n",
       "    <tr>\n",
       "      <th>Captan America</th>\n",
       "      <td>Asker</td>\n",
       "      <td>30</td>\n",
       "    </tr>\n",
       "    <tr>\n",
       "      <th rowspan=\"3\" valign=\"top\">DC</th>\n",
       "      <th>Batman</th>\n",
       "      <td>İş Adamı</td>\n",
       "      <td>9</td>\n",
       "    </tr>\n",
       "    <tr>\n",
       "      <th>Superman</th>\n",
       "      <td>Gazateci</td>\n",
       "      <td>10</td>\n",
       "    </tr>\n",
       "    <tr>\n",
       "      <th>Flash</th>\n",
       "      <td>Gazateci</td>\n",
       "      <td>11</td>\n",
       "    </tr>\n",
       "  </tbody>\n",
       "</table>\n",
       "</div>"
      ],
      "text/plain": [
       "                            Job  Age\n",
       "Marvel Spiderman        Öğrenci   40\n",
       "       Ironman         İş Adamı   10\n",
       "       Captan America     Asker   30\n",
       "DC     Batman          İş Adamı    9\n",
       "       Superman        Gazateci   10\n",
       "       Flash           Gazateci   11"
      ]
     },
     "execution_count": 299,
     "metadata": {},
     "output_type": "execute_result"
    }
   ],
   "source": [
    "newDataFrame3"
   ]
  },
  {
   "cell_type": "code",
   "execution_count": 300,
   "id": "1410e530",
   "metadata": {},
   "outputs": [
    {
     "data": {
      "text/html": [
       "<div>\n",
       "<style scoped>\n",
       "    .dataframe tbody tr th:only-of-type {\n",
       "        vertical-align: middle;\n",
       "    }\n",
       "\n",
       "    .dataframe tbody tr th {\n",
       "        vertical-align: top;\n",
       "    }\n",
       "\n",
       "    .dataframe thead th {\n",
       "        text-align: right;\n",
       "    }\n",
       "</style>\n",
       "<table border=\"1\" class=\"dataframe\">\n",
       "  <thead>\n",
       "    <tr style=\"text-align: right;\">\n",
       "      <th></th>\n",
       "      <th>Job</th>\n",
       "      <th>Age</th>\n",
       "    </tr>\n",
       "  </thead>\n",
       "  <tbody>\n",
       "    <tr>\n",
       "      <th>Spiderman</th>\n",
       "      <td>Öğrenci</td>\n",
       "      <td>40</td>\n",
       "    </tr>\n",
       "    <tr>\n",
       "      <th>Ironman</th>\n",
       "      <td>İş Adamı</td>\n",
       "      <td>10</td>\n",
       "    </tr>\n",
       "    <tr>\n",
       "      <th>Captan America</th>\n",
       "      <td>Asker</td>\n",
       "      <td>30</td>\n",
       "    </tr>\n",
       "  </tbody>\n",
       "</table>\n",
       "</div>"
      ],
      "text/plain": [
       "                     Job  Age\n",
       "Spiderman        Öğrenci   40\n",
       "Ironman         İş Adamı   10\n",
       "Captan America     Asker   30"
      ]
     },
     "execution_count": 300,
     "metadata": {},
     "output_type": "execute_result"
    }
   ],
   "source": [
    "newDataFrame2.loc[\"Marvel\"]"
   ]
  },
  {
   "cell_type": "code",
   "execution_count": 301,
   "id": "1683dde0",
   "metadata": {},
   "outputs": [
    {
     "data": {
      "text/html": [
       "<div>\n",
       "<style scoped>\n",
       "    .dataframe tbody tr th:only-of-type {\n",
       "        vertical-align: middle;\n",
       "    }\n",
       "\n",
       "    .dataframe tbody tr th {\n",
       "        vertical-align: top;\n",
       "    }\n",
       "\n",
       "    .dataframe thead th {\n",
       "        text-align: right;\n",
       "    }\n",
       "</style>\n",
       "<table border=\"1\" class=\"dataframe\">\n",
       "  <thead>\n",
       "    <tr style=\"text-align: right;\">\n",
       "      <th></th>\n",
       "      <th>Job</th>\n",
       "      <th>Age</th>\n",
       "    </tr>\n",
       "  </thead>\n",
       "  <tbody>\n",
       "    <tr>\n",
       "      <th>Batman</th>\n",
       "      <td>İş Adamı</td>\n",
       "      <td>9</td>\n",
       "    </tr>\n",
       "    <tr>\n",
       "      <th>Superman</th>\n",
       "      <td>Gazateci</td>\n",
       "      <td>10</td>\n",
       "    </tr>\n",
       "    <tr>\n",
       "      <th>Flash</th>\n",
       "      <td>Gazateci</td>\n",
       "      <td>11</td>\n",
       "    </tr>\n",
       "  </tbody>\n",
       "</table>\n",
       "</div>"
      ],
      "text/plain": [
       "               Job  Age\n",
       "Batman    İş Adamı    9\n",
       "Superman  Gazateci   10\n",
       "Flash     Gazateci   11"
      ]
     },
     "execution_count": 301,
     "metadata": {},
     "output_type": "execute_result"
    }
   ],
   "source": [
    "newDataFrame3.loc[\"DC\"]"
   ]
  },
  {
   "cell_type": "code",
   "execution_count": 302,
   "id": "5ca4aefc",
   "metadata": {},
   "outputs": [
    {
     "data": {
      "text/plain": [
       "Job    Öğrenci\n",
       "Age         40\n",
       "Name: Spiderman, dtype: object"
      ]
     },
     "execution_count": 302,
     "metadata": {},
     "output_type": "execute_result"
    }
   ],
   "source": [
    "newDataFrame2.loc[\"Marvel\"].loc[\"Spiderman\"]"
   ]
  },
  {
   "cell_type": "code",
   "execution_count": 303,
   "id": "f0ef2c50",
   "metadata": {},
   "outputs": [
    {
     "data": {
      "text/plain": [
       "Job    İş Adamı\n",
       "Age           9\n",
       "Name: (DC, Batman), dtype: object"
      ]
     },
     "execution_count": 303,
     "metadata": {},
     "output_type": "execute_result"
    }
   ],
   "source": [
    "newDataFrame3.loc[\"DC\",\"Batman\"]"
   ]
  },
  {
   "cell_type": "code",
   "execution_count": 304,
   "id": "d624a487",
   "metadata": {},
   "outputs": [
    {
     "data": {
      "text/html": [
       "<div>\n",
       "<style scoped>\n",
       "    .dataframe tbody tr th:only-of-type {\n",
       "        vertical-align: middle;\n",
       "    }\n",
       "\n",
       "    .dataframe tbody tr th {\n",
       "        vertical-align: top;\n",
       "    }\n",
       "\n",
       "    .dataframe thead th {\n",
       "        text-align: right;\n",
       "    }\n",
       "</style>\n",
       "<table border=\"1\" class=\"dataframe\">\n",
       "  <thead>\n",
       "    <tr style=\"text-align: right;\">\n",
       "      <th></th>\n",
       "      <th></th>\n",
       "      <th>Job</th>\n",
       "      <th>Age</th>\n",
       "    </tr>\n",
       "  </thead>\n",
       "  <tbody>\n",
       "    <tr>\n",
       "      <th rowspan=\"3\" valign=\"top\">Marvel</th>\n",
       "      <th>Spiderman</th>\n",
       "      <td>Öğrenci</td>\n",
       "      <td>40</td>\n",
       "    </tr>\n",
       "    <tr>\n",
       "      <th>Ironman</th>\n",
       "      <td>İş Adamı</td>\n",
       "      <td>10</td>\n",
       "    </tr>\n",
       "    <tr>\n",
       "      <th>Captan America</th>\n",
       "      <td>Asker</td>\n",
       "      <td>30</td>\n",
       "    </tr>\n",
       "    <tr>\n",
       "      <th rowspan=\"3\" valign=\"top\">DC</th>\n",
       "      <th>Batman</th>\n",
       "      <td>İş Adamı</td>\n",
       "      <td>9</td>\n",
       "    </tr>\n",
       "    <tr>\n",
       "      <th>Superman</th>\n",
       "      <td>Gazateci</td>\n",
       "      <td>10</td>\n",
       "    </tr>\n",
       "    <tr>\n",
       "      <th>Flash</th>\n",
       "      <td>Gazateci</td>\n",
       "      <td>11</td>\n",
       "    </tr>\n",
       "  </tbody>\n",
       "</table>\n",
       "</div>"
      ],
      "text/plain": [
       "                            Job  Age\n",
       "Marvel Spiderman        Öğrenci   40\n",
       "       Ironman         İş Adamı   10\n",
       "       Captan America     Asker   30\n",
       "DC     Batman          İş Adamı    9\n",
       "       Superman        Gazateci   10\n",
       "       Flash           Gazateci   11"
      ]
     },
     "execution_count": 304,
     "metadata": {},
     "output_type": "execute_result"
    }
   ],
   "source": [
    "newDataFrame2"
   ]
  },
  {
   "cell_type": "code",
   "execution_count": 305,
   "id": "5b71dcd5",
   "metadata": {},
   "outputs": [],
   "source": [
    "#indexlerin bulunduğu kolonları adlandırmak için :"
   ]
  },
  {
   "cell_type": "code",
   "execution_count": 311,
   "id": "4739ac9f",
   "metadata": {},
   "outputs": [],
   "source": [
    "newDataFrame2.index.names=[\"Evrenler\",\"Süper Kahramanlar\"]"
   ]
  },
  {
   "cell_type": "code",
   "execution_count": 312,
   "id": "c85e2463",
   "metadata": {},
   "outputs": [
    {
     "data": {
      "text/html": [
       "<div>\n",
       "<style scoped>\n",
       "    .dataframe tbody tr th:only-of-type {\n",
       "        vertical-align: middle;\n",
       "    }\n",
       "\n",
       "    .dataframe tbody tr th {\n",
       "        vertical-align: top;\n",
       "    }\n",
       "\n",
       "    .dataframe thead th {\n",
       "        text-align: right;\n",
       "    }\n",
       "</style>\n",
       "<table border=\"1\" class=\"dataframe\">\n",
       "  <thead>\n",
       "    <tr style=\"text-align: right;\">\n",
       "      <th></th>\n",
       "      <th></th>\n",
       "      <th>Job</th>\n",
       "      <th>Age</th>\n",
       "    </tr>\n",
       "    <tr>\n",
       "      <th>Evrenler</th>\n",
       "      <th>Süper Kahramanlar</th>\n",
       "      <th></th>\n",
       "      <th></th>\n",
       "    </tr>\n",
       "  </thead>\n",
       "  <tbody>\n",
       "    <tr>\n",
       "      <th rowspan=\"3\" valign=\"top\">Marvel</th>\n",
       "      <th>Spiderman</th>\n",
       "      <td>Öğrenci</td>\n",
       "      <td>40</td>\n",
       "    </tr>\n",
       "    <tr>\n",
       "      <th>Ironman</th>\n",
       "      <td>İş Adamı</td>\n",
       "      <td>10</td>\n",
       "    </tr>\n",
       "    <tr>\n",
       "      <th>Captan America</th>\n",
       "      <td>Asker</td>\n",
       "      <td>30</td>\n",
       "    </tr>\n",
       "    <tr>\n",
       "      <th rowspan=\"3\" valign=\"top\">DC</th>\n",
       "      <th>Batman</th>\n",
       "      <td>İş Adamı</td>\n",
       "      <td>9</td>\n",
       "    </tr>\n",
       "    <tr>\n",
       "      <th>Superman</th>\n",
       "      <td>Gazateci</td>\n",
       "      <td>10</td>\n",
       "    </tr>\n",
       "    <tr>\n",
       "      <th>Flash</th>\n",
       "      <td>Gazateci</td>\n",
       "      <td>11</td>\n",
       "    </tr>\n",
       "  </tbody>\n",
       "</table>\n",
       "</div>"
      ],
      "text/plain": [
       "                                 Job  Age\n",
       "Evrenler Süper Kahramanlar               \n",
       "Marvel   Spiderman           Öğrenci   40\n",
       "         Ironman            İş Adamı   10\n",
       "         Captan America        Asker   30\n",
       "DC       Batman             İş Adamı    9\n",
       "         Superman           Gazateci   10\n",
       "         Flash              Gazateci   11"
      ]
     },
     "execution_count": 312,
     "metadata": {},
     "output_type": "execute_result"
    }
   ],
   "source": [
    "newDataFrame2"
   ]
  },
  {
   "cell_type": "code",
   "execution_count": 308,
   "id": "fca85f00",
   "metadata": {},
   "outputs": [
    {
     "data": {
      "text/html": [
       "<div>\n",
       "<style scoped>\n",
       "    .dataframe tbody tr th:only-of-type {\n",
       "        vertical-align: middle;\n",
       "    }\n",
       "\n",
       "    .dataframe tbody tr th {\n",
       "        vertical-align: top;\n",
       "    }\n",
       "\n",
       "    .dataframe thead th {\n",
       "        text-align: right;\n",
       "    }\n",
       "</style>\n",
       "<table border=\"1\" class=\"dataframe\">\n",
       "  <thead>\n",
       "    <tr style=\"text-align: right;\">\n",
       "      <th></th>\n",
       "      <th>Evrenler</th>\n",
       "      <th>Süper Kahramanlar</th>\n",
       "      <th>Job</th>\n",
       "      <th>Age</th>\n",
       "    </tr>\n",
       "  </thead>\n",
       "  <tbody>\n",
       "    <tr>\n",
       "      <th>0</th>\n",
       "      <td>Marvel</td>\n",
       "      <td>Spiderman</td>\n",
       "      <td>Öğrenci</td>\n",
       "      <td>40</td>\n",
       "    </tr>\n",
       "    <tr>\n",
       "      <th>1</th>\n",
       "      <td>Marvel</td>\n",
       "      <td>Ironman</td>\n",
       "      <td>İş Adamı</td>\n",
       "      <td>10</td>\n",
       "    </tr>\n",
       "    <tr>\n",
       "      <th>2</th>\n",
       "      <td>Marvel</td>\n",
       "      <td>Captan America</td>\n",
       "      <td>Asker</td>\n",
       "      <td>30</td>\n",
       "    </tr>\n",
       "    <tr>\n",
       "      <th>3</th>\n",
       "      <td>DC</td>\n",
       "      <td>Batman</td>\n",
       "      <td>İş Adamı</td>\n",
       "      <td>9</td>\n",
       "    </tr>\n",
       "    <tr>\n",
       "      <th>4</th>\n",
       "      <td>DC</td>\n",
       "      <td>Superman</td>\n",
       "      <td>Gazateci</td>\n",
       "      <td>10</td>\n",
       "    </tr>\n",
       "    <tr>\n",
       "      <th>5</th>\n",
       "      <td>DC</td>\n",
       "      <td>Flash</td>\n",
       "      <td>Gazateci</td>\n",
       "      <td>11</td>\n",
       "    </tr>\n",
       "  </tbody>\n",
       "</table>\n",
       "</div>"
      ],
      "text/plain": [
       "  Evrenler Süper Kahramanlar       Job  Age\n",
       "0   Marvel         Spiderman   Öğrenci   40\n",
       "1   Marvel           Ironman  İş Adamı   10\n",
       "2   Marvel    Captan America     Asker   30\n",
       "3       DC            Batman  İş Adamı    9\n",
       "4       DC          Superman  Gazateci   10\n",
       "5       DC             Flash  Gazateci   11"
      ]
     },
     "execution_count": 308,
     "metadata": {},
     "output_type": "execute_result"
    }
   ],
   "source": [
    "newDataFrame3.reset_index()\n"
   ]
  },
  {
   "cell_type": "code",
   "execution_count": 309,
   "id": "d4aa0c18",
   "metadata": {},
   "outputs": [],
   "source": [
    "newDataFrame2.index.names=[\"Evren\",\"Kahraman\"]"
   ]
  },
  {
   "cell_type": "code",
   "execution_count": 310,
   "id": "c778cc2d",
   "metadata": {},
   "outputs": [
    {
     "data": {
      "text/html": [
       "<div>\n",
       "<style scoped>\n",
       "    .dataframe tbody tr th:only-of-type {\n",
       "        vertical-align: middle;\n",
       "    }\n",
       "\n",
       "    .dataframe tbody tr th {\n",
       "        vertical-align: top;\n",
       "    }\n",
       "\n",
       "    .dataframe thead th {\n",
       "        text-align: right;\n",
       "    }\n",
       "</style>\n",
       "<table border=\"1\" class=\"dataframe\">\n",
       "  <thead>\n",
       "    <tr style=\"text-align: right;\">\n",
       "      <th></th>\n",
       "      <th></th>\n",
       "      <th>Job</th>\n",
       "      <th>Age</th>\n",
       "    </tr>\n",
       "    <tr>\n",
       "      <th>Evren</th>\n",
       "      <th>Kahraman</th>\n",
       "      <th></th>\n",
       "      <th></th>\n",
       "    </tr>\n",
       "  </thead>\n",
       "  <tbody>\n",
       "    <tr>\n",
       "      <th rowspan=\"3\" valign=\"top\">Marvel</th>\n",
       "      <th>Spiderman</th>\n",
       "      <td>Öğrenci</td>\n",
       "      <td>40</td>\n",
       "    </tr>\n",
       "    <tr>\n",
       "      <th>Ironman</th>\n",
       "      <td>İş Adamı</td>\n",
       "      <td>10</td>\n",
       "    </tr>\n",
       "    <tr>\n",
       "      <th>Captan America</th>\n",
       "      <td>Asker</td>\n",
       "      <td>30</td>\n",
       "    </tr>\n",
       "    <tr>\n",
       "      <th rowspan=\"3\" valign=\"top\">DC</th>\n",
       "      <th>Batman</th>\n",
       "      <td>İş Adamı</td>\n",
       "      <td>9</td>\n",
       "    </tr>\n",
       "    <tr>\n",
       "      <th>Superman</th>\n",
       "      <td>Gazateci</td>\n",
       "      <td>10</td>\n",
       "    </tr>\n",
       "    <tr>\n",
       "      <th>Flash</th>\n",
       "      <td>Gazateci</td>\n",
       "      <td>11</td>\n",
       "    </tr>\n",
       "  </tbody>\n",
       "</table>\n",
       "</div>"
      ],
      "text/plain": [
       "                            Job  Age\n",
       "Evren  Kahraman                     \n",
       "Marvel Spiderman        Öğrenci   40\n",
       "       Ironman         İş Adamı   10\n",
       "       Captan America     Asker   30\n",
       "DC     Batman          İş Adamı    9\n",
       "       Superman        Gazateci   10\n",
       "       Flash           Gazateci   11"
      ]
     },
     "execution_count": 310,
     "metadata": {},
     "output_type": "execute_result"
    }
   ],
   "source": [
    "newDataFrame2"
   ]
  },
  {
   "cell_type": "code",
   "execution_count": 313,
   "id": "7e5c2c09",
   "metadata": {},
   "outputs": [
    {
     "data": {
      "text/html": [
       "<div>\n",
       "<style scoped>\n",
       "    .dataframe tbody tr th:only-of-type {\n",
       "        vertical-align: middle;\n",
       "    }\n",
       "\n",
       "    .dataframe tbody tr th {\n",
       "        vertical-align: top;\n",
       "    }\n",
       "\n",
       "    .dataframe thead th {\n",
       "        text-align: right;\n",
       "    }\n",
       "</style>\n",
       "<table border=\"1\" class=\"dataframe\">\n",
       "  <thead>\n",
       "    <tr style=\"text-align: right;\">\n",
       "      <th></th>\n",
       "      <th></th>\n",
       "      <th>Job</th>\n",
       "      <th>Age</th>\n",
       "    </tr>\n",
       "    <tr>\n",
       "      <th>Evrenler</th>\n",
       "      <th>Süper Kahramanlar</th>\n",
       "      <th></th>\n",
       "      <th></th>\n",
       "    </tr>\n",
       "  </thead>\n",
       "  <tbody>\n",
       "    <tr>\n",
       "      <th rowspan=\"3\" valign=\"top\">Marvel</th>\n",
       "      <th>Spiderman</th>\n",
       "      <td>Öğrenci</td>\n",
       "      <td>40</td>\n",
       "    </tr>\n",
       "    <tr>\n",
       "      <th>Ironman</th>\n",
       "      <td>İş Adamı</td>\n",
       "      <td>10</td>\n",
       "    </tr>\n",
       "    <tr>\n",
       "      <th>Captan America</th>\n",
       "      <td>Asker</td>\n",
       "      <td>30</td>\n",
       "    </tr>\n",
       "    <tr>\n",
       "      <th rowspan=\"3\" valign=\"top\">DC</th>\n",
       "      <th>Batman</th>\n",
       "      <td>İş Adamı</td>\n",
       "      <td>9</td>\n",
       "    </tr>\n",
       "    <tr>\n",
       "      <th>Superman</th>\n",
       "      <td>Gazateci</td>\n",
       "      <td>10</td>\n",
       "    </tr>\n",
       "    <tr>\n",
       "      <th>Flash</th>\n",
       "      <td>Gazateci</td>\n",
       "      <td>11</td>\n",
       "    </tr>\n",
       "  </tbody>\n",
       "</table>\n",
       "</div>"
      ],
      "text/plain": [
       "                                 Job  Age\n",
       "Evrenler Süper Kahramanlar               \n",
       "Marvel   Spiderman           Öğrenci   40\n",
       "         Ironman            İş Adamı   10\n",
       "         Captan America        Asker   30\n",
       "DC       Batman             İş Adamı    9\n",
       "         Superman           Gazateci   10\n",
       "         Flash              Gazateci   11"
      ]
     },
     "execution_count": 313,
     "metadata": {},
     "output_type": "execute_result"
    }
   ],
   "source": [
    "newDataFrame2"
   ]
  },
  {
   "cell_type": "code",
   "execution_count": null,
   "id": "060dab10",
   "metadata": {},
   "outputs": [],
   "source": []
  }
 ],
 "metadata": {
  "kernelspec": {
   "display_name": "Python 3 (ipykernel)",
   "language": "python",
   "name": "python3"
  },
  "language_info": {
   "codemirror_mode": {
    "name": "ipython",
    "version": 3
   },
   "file_extension": ".py",
   "mimetype": "text/x-python",
   "name": "python",
   "nbconvert_exporter": "python",
   "pygments_lexer": "ipython3",
   "version": "3.9.13"
  }
 },
 "nbformat": 4,
 "nbformat_minor": 5
}
