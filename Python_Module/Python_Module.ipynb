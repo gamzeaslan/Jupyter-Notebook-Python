{
  "nbformat": 4,
  "nbformat_minor": 0,
  "metadata": {
    "colab": {
      "provenance": []
    },
    "kernelspec": {
      "name": "python3",
      "display_name": "Python 3"
    },
    "language_info": {
      "name": "python"
    }
  },
  "cells": [
    {
      "cell_type": "markdown",
      "source": [
        "DATETIME MODULE"
      ],
      "metadata": {
        "id": "j3PGYHJ-oxsG"
      }
    },
    {
      "cell_type": "code",
      "execution_count": null,
      "metadata": {
        "id": "KUZK1lxeeXkO"
      },
      "outputs": [],
      "source": [
        "import datetime"
      ]
    },
    {
      "cell_type": "code",
      "source": [
        "dir(datetime)"
      ],
      "metadata": {
        "id": "A3MiOP48eaXD"
      },
      "execution_count": null,
      "outputs": []
    },
    {
      "cell_type": "code",
      "source": [
        "dir(datetime.datetime)"
      ],
      "metadata": {
        "id": "JfgDXpOfejUw"
      },
      "execution_count": null,
      "outputs": []
    },
    {
      "cell_type": "code",
      "source": [
        "dir(datetime.date)"
      ],
      "metadata": {
        "id": "KNcZahiEe1Md"
      },
      "execution_count": null,
      "outputs": []
    },
    {
      "cell_type": "code",
      "source": [
        "dir(datetime.time)"
      ],
      "metadata": {
        "id": "iRjZH6L7e6HQ"
      },
      "execution_count": null,
      "outputs": []
    },
    {
      "cell_type": "code",
      "source": [
        "from datetime import datetime "
      ],
      "metadata": {
        "id": "5EvrYLure7cd"
      },
      "execution_count": null,
      "outputs": []
    },
    {
      "cell_type": "code",
      "source": [
        "print(datetime.now())"
      ],
      "metadata": {
        "colab": {
          "base_uri": "https://localhost:8080/"
        },
        "id": "2FXUMokfe_NB",
        "outputId": "1b88b7d8-a7db-4aca-ccc2-856f43723047"
      },
      "execution_count": null,
      "outputs": [
        {
          "output_type": "stream",
          "name": "stdout",
          "text": [
            "2022-12-09 10:50:59.777877\n"
          ]
        }
      ]
    },
    {
      "cell_type": "code",
      "source": [
        "now=datetime.now()"
      ],
      "metadata": {
        "id": "YhS9xcpZgkAJ"
      },
      "execution_count": null,
      "outputs": []
    },
    {
      "cell_type": "code",
      "source": [
        "print(now.time())\n",
        "print(now.date())"
      ],
      "metadata": {
        "colab": {
          "base_uri": "https://localhost:8080/"
        },
        "id": "zMHhX60vg3kz",
        "outputId": "a3ca3a90-c0bc-4479-abf5-404895ac16dd"
      },
      "execution_count": null,
      "outputs": [
        {
          "output_type": "stream",
          "name": "stdout",
          "text": [
            "10:52:05.877702\n",
            "2022-12-09\n"
          ]
        }
      ]
    },
    {
      "cell_type": "code",
      "source": [
        "print(datetime.ctime(now))"
      ],
      "metadata": {
        "colab": {
          "base_uri": "https://localhost:8080/"
        },
        "id": "ZlPSqD87g49a",
        "outputId": "c681e33c-b7d9-4da7-ccd1-9a8cb43be51d"
      },
      "execution_count": null,
      "outputs": [
        {
          "output_type": "stream",
          "name": "stdout",
          "text": [
            "Fri Dec  9 10:52:05 2022\n"
          ]
        }
      ]
    },
    {
      "cell_type": "code",
      "source": [
        "print(datetime.strftime(now,\"%Y\"))\n",
        "print(datetime.strftime(now,\"%y\"))\n",
        "print(datetime.strftime(now,\"%D\"))\n",
        "print(datetime.strftime(now,\"%X\"))\n",
        "print(datetime.strftime(now,\"%A\"))\n",
        "print(datetime.strftime(now,\"%B\"))\n",
        "print(datetime.strftime(now,\"%Y %B %A\"))"
      ],
      "metadata": {
        "colab": {
          "base_uri": "https://localhost:8080/"
        },
        "id": "gCfe0RmDhqVP",
        "outputId": "cc93faf3-9b7b-443c-ebf6-a06e67a5fa82"
      },
      "execution_count": null,
      "outputs": [
        {
          "output_type": "stream",
          "name": "stdout",
          "text": [
            "2022\n",
            "22\n",
            "12/09/22\n",
            "10:52:05\n",
            "Friday\n",
            "December\n",
            "2022 December Friday\n"
          ]
        }
      ]
    },
    {
      "cell_type": "code",
      "source": [
        "#str to datetime"
      ],
      "metadata": {
        "id": "6LZE8ismh3-2"
      },
      "execution_count": null,
      "outputs": []
    },
    {
      "cell_type": "code",
      "source": [
        "##1st solution"
      ],
      "metadata": {
        "id": "3jpGCy4Nijv7"
      },
      "execution_count": null,
      "outputs": []
    },
    {
      "cell_type": "code",
      "source": [
        "t=\"09 December 2022\""
      ],
      "metadata": {
        "id": "Y9Z0QQHgixjm"
      },
      "execution_count": null,
      "outputs": []
    },
    {
      "cell_type": "code",
      "source": [
        "t_=t.split()\n",
        "day,month,year=t_"
      ],
      "metadata": {
        "id": "-PCphYz5i5lx"
      },
      "execution_count": null,
      "outputs": []
    },
    {
      "cell_type": "code",
      "source": [
        "print(day,month,year)"
      ],
      "metadata": {
        "colab": {
          "base_uri": "https://localhost:8080/"
        },
        "id": "_ApmhWSxjCT-",
        "outputId": "b6daed14-d2a2-496d-d9a2-c812b8e5b81e"
      },
      "execution_count": null,
      "outputs": [
        {
          "output_type": "stream",
          "name": "stdout",
          "text": [
            "09 December 2022\n"
          ]
        }
      ]
    },
    {
      "cell_type": "code",
      "source": [
        "##2nd solution-->create datetime's object"
      ],
      "metadata": {
        "id": "6B78pGEZjEhl"
      },
      "execution_count": 36,
      "outputs": []
    },
    {
      "cell_type": "code",
      "source": [
        "t=\"09 December 2022 hour 09:12:23\""
      ],
      "metadata": {
        "id": "t064sjhXmQq1"
      },
      "execution_count": 39,
      "outputs": []
    },
    {
      "cell_type": "code",
      "source": [
        "dt=datetime.strptime(t,\"%d %B %Y hour %H:%M:%S\")"
      ],
      "metadata": {
        "id": "ylfoTA_5jN9Z"
      },
      "execution_count": 40,
      "outputs": []
    },
    {
      "cell_type": "code",
      "source": [
        "print(t)\n",
        "print(\"-----------------\")\n",
        "print(dt)\n",
        "print(dt.day)\n",
        "print(dt.hour)\n",
        "print(dt.year)"
      ],
      "metadata": {
        "colab": {
          "base_uri": "https://localhost:8080/"
        },
        "id": "4oP9x5pcmobG",
        "outputId": "d9ba8661-623f-4cca-cb82-8b06b5825698"
      },
      "execution_count": 48,
      "outputs": [
        {
          "output_type": "stream",
          "name": "stdout",
          "text": [
            "09 December 2022 hour 09:12:23\n",
            "-----------------\n",
            "2022-12-09 09:12:23\n",
            "9\n",
            "9\n",
            "2022\n"
          ]
        }
      ]
    },
    {
      "cell_type": "code",
      "source": [
        "#create object"
      ],
      "metadata": {
        "id": "T1K5-4RUms9w"
      },
      "execution_count": 49,
      "outputs": []
    },
    {
      "cell_type": "code",
      "source": [
        "birthday=datetime(2000,12,23,9,12,21)"
      ],
      "metadata": {
        "id": "XcwHbJl2nH5e"
      },
      "execution_count": 55,
      "outputs": []
    },
    {
      "cell_type": "code",
      "source": [
        "print(birthday)"
      ],
      "metadata": {
        "colab": {
          "base_uri": "https://localhost:8080/"
        },
        "id": "7JdHXvXfnMWO",
        "outputId": "41f28d09-4b97-4552-c6ad-89d7cd15b231"
      },
      "execution_count": 56,
      "outputs": [
        {
          "output_type": "stream",
          "name": "stdout",
          "text": [
            "2000-12-23 09:12:21\n"
          ]
        }
      ]
    },
    {
      "cell_type": "code",
      "source": [
        "#convert second:\n",
        "print(datetime.timestamp(birthday))"
      ],
      "metadata": {
        "colab": {
          "base_uri": "https://localhost:8080/"
        },
        "id": "7CVY2EnknQOp",
        "outputId": "03445c9a-8ac7-42af-f757-8111bd6eb193"
      },
      "execution_count": 58,
      "outputs": [
        {
          "output_type": "stream",
          "name": "stdout",
          "text": [
            "977562741.0\n"
          ]
        }
      ]
    },
    {
      "cell_type": "code",
      "source": [
        "#second to datetime\n",
        "print(datetime.fromtimestamp(datetime.timestamp(birthday)))"
      ],
      "metadata": {
        "colab": {
          "base_uri": "https://localhost:8080/"
        },
        "id": "oM6yVf72nmAM",
        "outputId": "ce7e2932-e46b-40ec-9d7c-47eaf404bd16"
      },
      "execution_count": 59,
      "outputs": [
        {
          "output_type": "stream",
          "name": "stdout",
          "text": [
            "2000-12-23 09:12:21\n"
          ]
        }
      ]
    },
    {
      "cell_type": "code",
      "source": [
        "print(datetime.fromtimestamp(0))#beginning"
      ],
      "metadata": {
        "colab": {
          "base_uri": "https://localhost:8080/"
        },
        "id": "9atrZhTwnySx",
        "outputId": "089119c2-f409-4945-e3ae-787f0c150a3b"
      },
      "execution_count": 61,
      "outputs": [
        {
          "output_type": "stream",
          "name": "stdout",
          "text": [
            "1970-01-01 00:00:00\n"
          ]
        }
      ]
    },
    {
      "cell_type": "code",
      "source": [
        "timedelta_object=now-birthday\n"
      ],
      "metadata": {
        "id": "V3I_4dn9oDPC"
      },
      "execution_count": 62,
      "outputs": []
    },
    {
      "cell_type": "code",
      "source": [
        "type(timedelta_object)"
      ],
      "metadata": {
        "colab": {
          "base_uri": "https://localhost:8080/"
        },
        "id": "syTOzh7sob8K",
        "outputId": "d3126ae9-a386-4aad-b254-6c06204aa1c6"
      },
      "execution_count": 63,
      "outputs": [
        {
          "output_type": "execute_result",
          "data": {
            "text/plain": [
              "datetime.timedelta"
            ]
          },
          "metadata": {},
          "execution_count": 63
        }
      ]
    },
    {
      "cell_type": "code",
      "source": [
        "print(timedelta_object)"
      ],
      "metadata": {
        "colab": {
          "base_uri": "https://localhost:8080/"
        },
        "id": "o4vU-vOGoeco",
        "outputId": "0ac2e4c7-b1bd-46eb-d80e-d183cceb2467"
      },
      "execution_count": 64,
      "outputs": [
        {
          "output_type": "stream",
          "name": "stdout",
          "text": [
            "8021 days, 1:39:44.877702\n"
          ]
        }
      ]
    },
    {
      "cell_type": "code",
      "source": [
        "print(timedelta_object.days)"
      ],
      "metadata": {
        "colab": {
          "base_uri": "https://localhost:8080/"
        },
        "id": "aea8cuZ7ohJA",
        "outputId": "2143de44-a845-475a-c2d1-a35e8ced148f"
      },
      "execution_count": 66,
      "outputs": [
        {
          "output_type": "stream",
          "name": "stdout",
          "text": [
            "8021\n"
          ]
        }
      ]
    },
    {
      "cell_type": "code",
      "source": [
        "from datetime import timedelta"
      ],
      "metadata": {
        "id": "zWo9JjR4opHq"
      },
      "execution_count": 68,
      "outputs": []
    },
    {
      "cell_type": "code",
      "source": [
        "#add days"
      ],
      "metadata": {
        "id": "OdSHSGaPo75s"
      },
      "execution_count": 69,
      "outputs": []
    },
    {
      "cell_type": "code",
      "source": [
        "print(now)\n",
        "print(now+timedelta(days=20))"
      ],
      "metadata": {
        "colab": {
          "base_uri": "https://localhost:8080/"
        },
        "id": "nZ3EpwHOpAT-",
        "outputId": "fb6747e3-fe0a-4774-9ee2-416e600d6f5b"
      },
      "execution_count": 72,
      "outputs": [
        {
          "output_type": "stream",
          "name": "stdout",
          "text": [
            "2022-12-09 10:52:05.877702\n",
            "2022-12-29 10:52:05.877702\n"
          ]
        }
      ]
    },
    {
      "cell_type": "markdown",
      "source": [
        "REGULAR EXPERESSION"
      ],
      "metadata": {
        "id": "b83USOQLp8iA"
      }
    },
    {
      "cell_type": "code",
      "source": [
        "import re"
      ],
      "metadata": {
        "id": "XyPsWZJuF5og"
      },
      "execution_count": 81,
      "outputs": []
    },
    {
      "cell_type": "code",
      "source": [
        "print(dir(re))"
      ],
      "metadata": {
        "id": "fwVWMrJ6F7su"
      },
      "execution_count": null,
      "outputs": []
    },
    {
      "cell_type": "code",
      "source": [
        "str=\"Python Tutorial Course|40 hour \""
      ],
      "metadata": {
        "id": "cy1MLr1wF_St"
      },
      "execution_count": 83,
      "outputs": []
    },
    {
      "cell_type": "code",
      "source": [
        "print(re.findall(\"Python\",str))"
      ],
      "metadata": {
        "colab": {
          "base_uri": "https://localhost:8080/"
        },
        "id": "XewK04vZGw3u",
        "outputId": "a82802cb-99c8-44bf-b6ca-bbf21b8c38aa"
      },
      "execution_count": 85,
      "outputs": [
        {
          "output_type": "stream",
          "name": "stdout",
          "text": [
            "['Python']\n"
          ]
        }
      ]
    },
    {
      "cell_type": "code",
      "source": [
        "print(re.split(\" \",str))#splits from each space character"
      ],
      "metadata": {
        "colab": {
          "base_uri": "https://localhost:8080/"
        },
        "id": "-IALwl2uG2Rj",
        "outputId": "19169320-cf0e-470b-a654-18482097f252"
      },
      "execution_count": 88,
      "outputs": [
        {
          "output_type": "stream",
          "name": "stdout",
          "text": [
            "['Python', 'Tutorial', 'Course|40', 'hour', '']\n"
          ]
        }
      ]
    },
    {
      "cell_type": "code",
      "source": [
        "print(re.split(\"t\",str))"
      ],
      "metadata": {
        "colab": {
          "base_uri": "https://localhost:8080/"
        },
        "id": "nmfxw2arG8gP",
        "outputId": "375b0434-9994-4dbd-ffd0-1c0f54f2e608"
      },
      "execution_count": 90,
      "outputs": [
        {
          "output_type": "stream",
          "name": "stdout",
          "text": [
            "['Py', 'hon Tu', 'orial Course|40 hour ']\n"
          ]
        }
      ]
    },
    {
      "cell_type": "code",
      "source": [
        "print(re.sub(\" \",\"-\",str))#took a while to work"
      ],
      "metadata": {
        "colab": {
          "base_uri": "https://localhost:8080/"
        },
        "id": "iPjEIgvGHMhL",
        "outputId": "50b68d19-4a99-4a35-8e27-ea4a053310ce"
      },
      "execution_count": 92,
      "outputs": [
        {
          "output_type": "stream",
          "name": "stdout",
          "text": [
            "Python-Tutorial-Course|40-hour-\n"
          ]
        }
      ]
    },
    {
      "cell_type": "code",
      "source": [
        "print(re.search(\"Python\",str))#return match object"
      ],
      "metadata": {
        "colab": {
          "base_uri": "https://localhost:8080/"
        },
        "id": "_WRc3XdSM_pj",
        "outputId": "d383a301-69fa-43ab-bc33-7647174e5469"
      },
      "execution_count": 95,
      "outputs": [
        {
          "output_type": "stream",
          "name": "stdout",
          "text": [
            "<re.Match object; span=(0, 6), match='Python'>\n"
          ]
        }
      ]
    },
    {
      "cell_type": "markdown",
      "source": [
        "match object process"
      ],
      "metadata": {
        "id": "dD9KFYmyOuIo"
      }
    },
    {
      "cell_type": "code",
      "source": [
        "match_object=re.search(\"Python\",str)"
      ],
      "metadata": {
        "id": "319NdPeDNXQH"
      },
      "execution_count": 96,
      "outputs": []
    },
    {
      "cell_type": "code",
      "source": [
        "print(match_object.span())"
      ],
      "metadata": {
        "colab": {
          "base_uri": "https://localhost:8080/"
        },
        "id": "l8LLGqyrN1KM",
        "outputId": "e05e4957-c60e-45e2-922f-ddb8139ea0fd"
      },
      "execution_count": 97,
      "outputs": [
        {
          "output_type": "stream",
          "name": "stdout",
          "text": [
            "(0, 6)\n"
          ]
        }
      ]
    },
    {
      "cell_type": "code",
      "source": [
        "print(match_object.end())"
      ],
      "metadata": {
        "colab": {
          "base_uri": "https://localhost:8080/"
        },
        "id": "2SQessBIN4ei",
        "outputId": "16b29e72-73c9-42c1-d035-b9198e295717"
      },
      "execution_count": 98,
      "outputs": [
        {
          "output_type": "stream",
          "name": "stdout",
          "text": [
            "6\n"
          ]
        }
      ]
    },
    {
      "cell_type": "code",
      "source": [
        "print(match_object.group())"
      ],
      "metadata": {
        "colab": {
          "base_uri": "https://localhost:8080/"
        },
        "id": "4nhuwwkeN8_8",
        "outputId": "bfc05264-21e4-4852-bdb4-53737a318dca"
      },
      "execution_count": 102,
      "outputs": [
        {
          "output_type": "stream",
          "name": "stdout",
          "text": [
            "Python\n"
          ]
        }
      ]
    },
    {
      "cell_type": "code",
      "source": [
        "print(match_object.string)"
      ],
      "metadata": {
        "colab": {
          "base_uri": "https://localhost:8080/"
        },
        "id": "QXGkfzzTOKE8",
        "outputId": "c4beffd2-f5cf-4997-c812-40f7b400b66c"
      },
      "execution_count": 104,
      "outputs": [
        {
          "output_type": "stream",
          "name": "stdout",
          "text": [
            "Python Tutorial Course|40 hour \n"
          ]
        }
      ]
    },
    {
      "cell_type": "code",
      "source": [
        "print(re.findall(\"[abc]\",str))"
      ],
      "metadata": {
        "colab": {
          "base_uri": "https://localhost:8080/"
        },
        "id": "uvF1qGgBObPe",
        "outputId": "65384166-1fd3-484d-e03a-6ab43066cf05"
      },
      "execution_count": 105,
      "outputs": [
        {
          "output_type": "stream",
          "name": "stdout",
          "text": [
            "['a']\n"
          ]
        }
      ]
    },
    {
      "cell_type": "markdown",
      "source": [
        "JSON MODULE"
      ],
      "metadata": {
        "id": "MCAwWQfUoxzX"
      }
    },
    {
      "cell_type": "markdown",
      "source": [
        "bir databaseden bilgileri örneğin bir android ya da web uygulamasına json veri tipinde kolaylıkla taşıyabiliyoruz.Her platformun anladığı bir veri türüdür.Yani cihazlar arasında ortak bir veri taşıma objesi olarak adlandırabiliriz"
      ],
      "metadata": {
        "id": "o3xGIxJKo2LA"
      }
    },
    {
      "cell_type": "code",
      "source": [
        "person_string='{\"person\":\"Ali\",\"languages\":[\"python\",\"C#\"]}'"
      ],
      "metadata": {
        "id": "SqTvPXnFPKu-"
      },
      "execution_count": 120,
      "outputs": []
    },
    {
      "cell_type": "code",
      "source": [
        "#JSON str to dic"
      ],
      "metadata": {
        "id": "9vYNXH7Rqf1e"
      },
      "execution_count": 121,
      "outputs": []
    },
    {
      "cell_type": "code",
      "source": [
        "import json"
      ],
      "metadata": {
        "id": "N5mzlUhRquRl"
      },
      "execution_count": 122,
      "outputs": []
    },
    {
      "cell_type": "code",
      "source": [
        "person_dic=json.loads(person_string)#sorun tırnaklarmış"
      ],
      "metadata": {
        "id": "kqIQL_vyqm5S"
      },
      "execution_count": 124,
      "outputs": []
    },
    {
      "cell_type": "code",
      "source": [
        "print(type(person_dic))"
      ],
      "metadata": {
        "colab": {
          "base_uri": "https://localhost:8080/"
        },
        "id": "bwT7HlvFqrNR",
        "outputId": "014c0280-4abe-41bf-dd4d-7139a0bef25d"
      },
      "execution_count": 125,
      "outputs": [
        {
          "output_type": "stream",
          "name": "stdout",
          "text": [
            "<class 'dict'>\n"
          ]
        }
      ]
    },
    {
      "cell_type": "code",
      "source": [
        "print(person_dic)"
      ],
      "metadata": {
        "colab": {
          "base_uri": "https://localhost:8080/"
        },
        "id": "4HCuk1nSrawr",
        "outputId": "2ed199d9-a8ad-4485-fa6d-ea33915bdf17"
      },
      "execution_count": 126,
      "outputs": [
        {
          "output_type": "stream",
          "name": "stdout",
          "text": [
            "{'person': 'Ali', 'languages': ['python', 'C#']}\n"
          ]
        }
      ]
    },
    {
      "cell_type": "code",
      "source": [
        "print(person_dic[\"person\"])"
      ],
      "metadata": {
        "colab": {
          "base_uri": "https://localhost:8080/"
        },
        "id": "SWaRVNkIrdbW",
        "outputId": "9352472c-432c-4078-abb3-81016bb46222"
      },
      "execution_count": 127,
      "outputs": [
        {
          "output_type": "stream",
          "name": "stdout",
          "text": [
            "Ali\n"
          ]
        }
      ]
    },
    {
      "cell_type": "markdown",
      "source": [
        "with open(\"deneme3.json\",\"r\") as file1:\n",
        "    data=json.load(file1)\n",
        "    print(data[\"person\"])"
      ],
      "metadata": {
        "id": "4EdyR78nssWo"
      }
    },
    {
      "cell_type": "code",
      "source": [
        "#dic to json str"
      ],
      "metadata": {
        "id": "8mHDo8nErgnt"
      },
      "execution_count": 129,
      "outputs": []
    },
    {
      "cell_type": "code",
      "source": [
        "person_dic={\"name\":\"ali\",\n",
        "            \"languages\":[\"python\",\"c#\"]}"
      ],
      "metadata": {
        "id": "BXSh3bdus0z2"
      },
      "execution_count": 130,
      "outputs": []
    },
    {
      "cell_type": "code",
      "source": [
        "person_json=json.dumps(person_dic)"
      ],
      "metadata": {
        "id": "SR7T2ukguROR"
      },
      "execution_count": 131,
      "outputs": []
    },
    {
      "cell_type": "code",
      "source": [
        "print(type(person_json))"
      ],
      "metadata": {
        "colab": {
          "base_uri": "https://localhost:8080/"
        },
        "id": "65AVp6xquXeN",
        "outputId": "9f61de45-28e5-4d4a-eb3f-a70d1a2da2fa"
      },
      "execution_count": 132,
      "outputs": [
        {
          "output_type": "stream",
          "name": "stdout",
          "text": [
            "<class 'str'>\n"
          ]
        }
      ]
    },
    {
      "cell_type": "code",
      "source": [
        "print(person_json)\n",
        "print(person_dic)"
      ],
      "metadata": {
        "colab": {
          "base_uri": "https://localhost:8080/"
        },
        "id": "7fDwIRS9uZ3i",
        "outputId": "ce61625c-aeb4-4a15-8dcc-97b5de62fb2b"
      },
      "execution_count": 135,
      "outputs": [
        {
          "output_type": "stream",
          "name": "stdout",
          "text": [
            "{\"name\": \"ali\", \"languages\": [\"python\", \"c#\"]}\n",
            "{'name': 'ali', 'languages': ['python', 'c#']}\n"
          ]
        }
      ]
    },
    {
      "cell_type": "code",
      "source": [
        "#json formatting"
      ],
      "metadata": {
        "id": "pY0f3asqub5P"
      },
      "execution_count": 137,
      "outputs": []
    },
    {
      "cell_type": "code",
      "source": [
        "person_json=json.dumps(person_dic,indent=4,sort_keys=True)"
      ],
      "metadata": {
        "id": "2z1NbnicvKxG"
      },
      "execution_count": 138,
      "outputs": []
    },
    {
      "cell_type": "code",
      "source": [
        "print(person_json)"
      ],
      "metadata": {
        "colab": {
          "base_uri": "https://localhost:8080/"
        },
        "id": "lHCFK9ngvdKo",
        "outputId": "6ae61255-9dba-436d-cd59-9eeecfa790bc"
      },
      "execution_count": 139,
      "outputs": [
        {
          "output_type": "stream",
          "name": "stdout",
          "text": [
            "{\n",
            "    \"languages\": [\n",
            "        \"python\",\n",
            "        \"c#\"\n",
            "    ],\n",
            "    \"name\": \"ali\"\n",
            "}\n"
          ]
        }
      ]
    },
    {
      "cell_type": "code",
      "source": [],
      "metadata": {
        "id": "5TUqT14rve8o"
      },
      "execution_count": null,
      "outputs": []
    }
  ]
}