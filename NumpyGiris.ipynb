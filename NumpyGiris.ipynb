{
 "cells": [
  {
   "cell_type": "code",
   "execution_count": 11,
   "id": "a6888e3e",
   "metadata": {},
   "outputs": [],
   "source": [
    "import numpy "
   ]
  },
  {
   "cell_type": "code",
   "execution_count": 12,
   "id": "034c9e65",
   "metadata": {},
   "outputs": [],
   "source": [
    "myList=[20,30,40]"
   ]
  },
  {
   "cell_type": "code",
   "execution_count": 13,
   "id": "73e061bc",
   "metadata": {},
   "outputs": [
    {
     "data": {
      "text/plain": [
       "list"
      ]
     },
     "execution_count": 13,
     "metadata": {},
     "output_type": "execute_result"
    }
   ],
   "source": [
    "type(myList)"
   ]
  },
  {
   "cell_type": "code",
   "execution_count": 17,
   "id": "078354f4",
   "metadata": {},
   "outputs": [],
   "source": [
    "myList2=numpy.array(myList)"
   ]
  },
  {
   "cell_type": "code",
   "execution_count": 18,
   "id": "d8e3f17f",
   "metadata": {},
   "outputs": [
    {
     "data": {
      "text/plain": [
       "numpy.ndarray"
      ]
     },
     "execution_count": 18,
     "metadata": {},
     "output_type": "execute_result"
    }
   ],
   "source": [
    "type(myList2)"
   ]
  },
  {
   "cell_type": "code",
   "execution_count": 26,
   "id": "5bf1ab59",
   "metadata": {},
   "outputs": [],
   "source": [
    "matrixList=[list(range(10,40,10)),\n",
    "            list(range(40,70,10)),\n",
    "            list(range(70,100,10))]"
   ]
  },
  {
   "cell_type": "code",
   "execution_count": 27,
   "id": "cfc77bc0",
   "metadata": {},
   "outputs": [
    {
     "data": {
      "text/plain": [
       "[[10, 20, 30], [40, 50, 60], [70, 80, 90]]"
      ]
     },
     "execution_count": 27,
     "metadata": {},
     "output_type": "execute_result"
    }
   ],
   "source": [
    "matrixList"
   ]
  },
  {
   "cell_type": "code",
   "execution_count": 28,
   "id": "e86c38eb",
   "metadata": {},
   "outputs": [],
   "source": [
    "matrixArray=numpy.array(matrixList)"
   ]
  },
  {
   "cell_type": "code",
   "execution_count": 29,
   "id": "77f1c64e",
   "metadata": {},
   "outputs": [
    {
     "data": {
      "text/plain": [
       "array([[10, 20, 30],\n",
       "       [40, 50, 60],\n",
       "       [70, 80, 90]])"
      ]
     },
     "execution_count": 29,
     "metadata": {},
     "output_type": "execute_result"
    }
   ],
   "source": [
    "matrixArray"
   ]
  },
  {
   "cell_type": "markdown",
   "id": "14e16b80",
   "metadata": {},
   "source": [
    "ARANGE () METODU:BELİRTİLEN ARALIKTA VE BELİRTİLEN STEP SİZE KADAR DİZİ OLUŞTURUR\n",
    "ARANGE(BAŞLANGIÇ,BİTİŞ,ATLAMA SAYISI)\n"
   ]
  },
  {
   "cell_type": "code",
   "execution_count": 34,
   "id": "691fb64b",
   "metadata": {},
   "outputs": [
    {
     "data": {
      "text/plain": [
       "array([ 0,  5, 10, 15])"
      ]
     },
     "execution_count": 34,
     "metadata": {},
     "output_type": "execute_result"
    }
   ],
   "source": [
    "numpy.arange(0,20,5)"
   ]
  },
  {
   "cell_type": "markdown",
   "id": "d93628ea",
   "metadata": {},
   "source": [
    "ZEROS() METODU:0 İÇEREN DİZİ OLUŞTURUR\n",
    "ZEROS(SIFIR SAYISI)\n"
   ]
  },
  {
   "cell_type": "code",
   "execution_count": 32,
   "id": "ab4060a9",
   "metadata": {},
   "outputs": [
    {
     "data": {
      "text/plain": [
       "array([0., 0., 0., 0., 0., 0., 0., 0., 0., 0.])"
      ]
     },
     "execution_count": 32,
     "metadata": {},
     "output_type": "execute_result"
    }
   ],
   "source": [
    "numpy.zeros(10)"
   ]
  },
  {
   "cell_type": "markdown",
   "id": "d09116eb",
   "metadata": {},
   "source": [
    "EĞER BU METOT KULLANILARAK BİR ÇOK BOYUTLU DİZİ YANİ MATRİX OLUŞTURULMAK İSTENİRSE\n",
    "numpy.zeros((satır sayısı,sütun sayısı))\n"
   ]
  },
  {
   "cell_type": "code",
   "execution_count": 35,
   "id": "ba314907",
   "metadata": {},
   "outputs": [
    {
     "data": {
      "text/plain": [
       "array([[0., 0., 0.],\n",
       "       [0., 0., 0.],\n",
       "       [0., 0., 0.]])"
      ]
     },
     "execution_count": 35,
     "metadata": {},
     "output_type": "execute_result"
    }
   ],
   "source": [
    "numpy.zeros((3,3))"
   ]
  },
  {
   "cell_type": "markdown",
   "id": "4157daa1",
   "metadata": {},
   "source": [
    "ONES() METODU"
   ]
  },
  {
   "cell_type": "code",
   "execution_count": 38,
   "id": "3b915c44",
   "metadata": {},
   "outputs": [
    {
     "data": {
      "text/plain": [
       "array([[1., 1., 1., 1.],\n",
       "       [1., 1., 1., 1.],\n",
       "       [1., 1., 1., 1.],\n",
       "       [1., 1., 1., 1.]])"
      ]
     },
     "execution_count": 38,
     "metadata": {},
     "output_type": "execute_result"
    }
   ],
   "source": [
    "numpy.ones((4,4))"
   ]
  },
  {
   "cell_type": "markdown",
   "id": "5375f85d",
   "metadata": {},
   "source": [
    "LINSPACE() METODU"
   ]
  },
  {
   "cell_type": "markdown",
   "id": "7adfdba8",
   "metadata": {},
   "source": [
    " numpy.linspace(başlangıç,bitiş,sayı adeti)-->burada belirtilen aralıkta belirtilen sayı adeti kadar sayıyı eşit aralıklarla oluşturup bu değerleri bir diziye atar"
   ]
  },
  {
   "cell_type": "code",
   "execution_count": 43,
   "id": "e3562d02",
   "metadata": {},
   "outputs": [
    {
     "data": {
      "text/plain": [
       "array([ 0.,  4.,  8., 12., 16., 20.])"
      ]
     },
     "execution_count": 43,
     "metadata": {},
     "output_type": "execute_result"
    }
   ],
   "source": [
    "numpy.linspace(0,20,6)"
   ]
  },
  {
   "cell_type": "markdown",
   "id": "5220f65d",
   "metadata": {},
   "source": [
    "EYE() METODU-->BU METOT İLE OLUŞTURULAN MATRİSLERİ LİNEER CEBİRDE GÖRMÜŞTÜK"
   ]
  },
  {
   "cell_type": "code",
   "execution_count": 44,
   "id": "da9ac50d",
   "metadata": {},
   "outputs": [
    {
     "data": {
      "text/plain": [
       "array([[1., 0., 0.],\n",
       "       [0., 1., 0.],\n",
       "       [0., 0., 1.]])"
      ]
     },
     "execution_count": 44,
     "metadata": {},
     "output_type": "execute_result"
    }
   ],
   "source": [
    "numpy.eye(3)#parametresi aslında 3*3 matrisine karşılık gelmektedir"
   ]
  },
  {
   "cell_type": "code",
   "execution_count": 45,
   "id": "b76b057c",
   "metadata": {},
   "outputs": [
    {
     "data": {
      "text/plain": [
       "array([[1., 0., 0., 0., 0.],\n",
       "       [0., 1., 0., 0., 0.],\n",
       "       [0., 0., 1., 0., 0.],\n",
       "       [0., 0., 0., 1., 0.],\n",
       "       [0., 0., 0., 0., 1.]])"
      ]
     },
     "execution_count": 45,
     "metadata": {},
     "output_type": "execute_result"
    }
   ],
   "source": [
    "numpy.eye(5)"
   ]
  },
  {
   "cell_type": "markdown",
   "id": "9be17fc6",
   "metadata": {},
   "source": [
    "RANDOM"
   ]
  },
  {
   "cell_type": "code",
   "execution_count": 52,
   "id": "67226111",
   "metadata": {},
   "outputs": [
    {
     "data": {
      "text/plain": [
       "array([ 0.25823143,  1.42537309, -1.76391275])"
      ]
     },
     "execution_count": 52,
     "metadata": {},
     "output_type": "execute_result"
    }
   ],
   "source": [
    "numpy.random.randn(3)#bir numpy dizisi döndürür-->şuan tek boyutlı"
   ]
  },
  {
   "cell_type": "code",
   "execution_count": 53,
   "id": "e0b52c87",
   "metadata": {},
   "outputs": [
    {
     "data": {
      "text/plain": [
       "array([[-1.22702176, -0.61981513,  0.02695502],\n",
       "       [ 1.91805957,  0.09701231,  1.49769042],\n",
       "       [-1.58208069, -0.62089155,  2.74148244]])"
      ]
     },
     "execution_count": 53,
     "metadata": {},
     "output_type": "execute_result"
    }
   ],
   "source": [
    "numpy.random.randn(3,3)#şimdi çok boyutlu bir dizi oluşturur random olarak"
   ]
  },
  {
   "cell_type": "code",
   "execution_count": 55,
   "id": "ff5da44c",
   "metadata": {},
   "outputs": [
    {
     "data": {
      "text/plain": [
       "6"
      ]
     },
     "execution_count": 55,
     "metadata": {},
     "output_type": "execute_result"
    }
   ],
   "source": [
    "numpy.random.randint(1,20)#bu sadece rastgelebir int değer döndürür\n",
    "#belirtilen aralıkta \n",
    "#buradaki aralıkta başlangıç dahil fakat bitiş dahil değildir"
   ]
  },
  {
   "cell_type": "code",
   "execution_count": 56,
   "id": "6871f73c",
   "metadata": {},
   "outputs": [
    {
     "data": {
      "text/plain": [
       "array([ 4, 16,  1,  9,  1,  1, 11, 12,  8, 19])"
      ]
     },
     "execution_count": 56,
     "metadata": {},
     "output_type": "execute_result"
    }
   ],
   "source": [
    "#eğer randint metodunu kullanarak rasgele tamsayılardan oluşan bir array \n",
    "#tanımalamak istersek\n",
    "numpy.random.randint(1,20,10)"
   ]
  },
  {
   "cell_type": "code",
   "execution_count": 57,
   "id": "2c9482ce",
   "metadata": {},
   "outputs": [],
   "source": [
    "myNumpyArray=numpy.arange(20)"
   ]
  },
  {
   "cell_type": "code",
   "execution_count": 61,
   "id": "aefe05ad",
   "metadata": {},
   "outputs": [
    {
     "data": {
      "text/plain": [
       "numpy.ndarray"
      ]
     },
     "execution_count": 61,
     "metadata": {},
     "output_type": "execute_result"
    }
   ],
   "source": [
    "type(myNumpyArray)"
   ]
  },
  {
   "cell_type": "markdown",
   "id": "01685db1",
   "metadata": {},
   "source": [
    "ARRAY METHODS"
   ]
  },
  {
   "cell_type": "code",
   "execution_count": 81,
   "id": "df0b981c",
   "metadata": {},
   "outputs": [],
   "source": [
    "arrayRegular=numpy.arange(0,30)#düzenli ifadelerle oluşturulmuş array\n",
    "arrayRandom=numpy.random.randint(0,100,30)#rastgele ifadelerle oluşturulmuş array"
   ]
  },
  {
   "cell_type": "code",
   "execution_count": 82,
   "id": "49fdcb69",
   "metadata": {},
   "outputs": [
    {
     "data": {
      "text/plain": [
       "array([ 0,  1,  2,  3,  4,  5,  6,  7,  8,  9, 10, 11, 12, 13, 14, 15, 16,\n",
       "       17, 18, 19, 20, 21, 22, 23, 24, 25, 26, 27, 28, 29])"
      ]
     },
     "execution_count": 82,
     "metadata": {},
     "output_type": "execute_result"
    }
   ],
   "source": [
    "arrayRegular\n"
   ]
  },
  {
   "cell_type": "code",
   "execution_count": 83,
   "id": "4dc28c36",
   "metadata": {},
   "outputs": [
    {
     "data": {
      "text/plain": [
       "array([16, 76, 29, 74, 77, 81, 91, 50, 18, 92, 32, 16, 47, 69, 94, 66,  1,\n",
       "       28, 84, 11, 25, 75, 18, 76, 14, 95, 34, 16, 49, 36])"
      ]
     },
     "execution_count": 83,
     "metadata": {},
     "output_type": "execute_result"
    }
   ],
   "source": [
    "arrayRandom"
   ]
  },
  {
   "cell_type": "code",
   "execution_count": 84,
   "id": "c8c9f7a1",
   "metadata": {},
   "outputs": [],
   "source": [
    "#eğer herhangi bir arrayi parçalayarak yeni arrayler oluşturmak istersek \n",
    "#reshape:yeniden şekillendirme \n",
    "#burada parametre olarak girilen array eleman sayısının arrayRegular \n",
    "#tarafından karşılanabilecek sayıda olması gerekir yoksa error alırızı"
   ]
  },
  {
   "cell_type": "code",
   "execution_count": 86,
   "id": "e5cd02ab",
   "metadata": {},
   "outputs": [
    {
     "data": {
      "text/plain": [
       "array([[ 0,  1,  2,  3,  4,  5],\n",
       "       [ 6,  7,  8,  9, 10, 11],\n",
       "       [12, 13, 14, 15, 16, 17],\n",
       "       [18, 19, 20, 21, 22, 23],\n",
       "       [24, 25, 26, 27, 28, 29]])"
      ]
     },
     "execution_count": 86,
     "metadata": {},
     "output_type": "execute_result"
    }
   ],
   "source": [
    "arrayRegular.reshape(5,6)"
   ]
  },
  {
   "cell_type": "code",
   "execution_count": 87,
   "id": "6cfe4a00",
   "metadata": {},
   "outputs": [
    {
     "data": {
      "text/plain": [
       "array([[ 0,  1,  2,  3,  4],\n",
       "       [ 5,  6,  7,  8,  9],\n",
       "       [10, 11, 12, 13, 14],\n",
       "       [15, 16, 17, 18, 19],\n",
       "       [20, 21, 22, 23, 24],\n",
       "       [25, 26, 27, 28, 29]])"
      ]
     },
     "execution_count": 87,
     "metadata": {},
     "output_type": "execute_result"
    }
   ],
   "source": [
    "arrayRegular.reshape(6,5)#dizi bu metotla yeniden biçimlendirilebilinir"
   ]
  },
  {
   "cell_type": "code",
   "execution_count": 88,
   "id": "68a4514e",
   "metadata": {},
   "outputs": [
    {
     "data": {
      "text/plain": [
       "95"
      ]
     },
     "execution_count": 88,
     "metadata": {},
     "output_type": "execute_result"
    }
   ],
   "source": [
    "arrayRandom.max()#bu metot ile dizinin max elemanı yazdırılır "
   ]
  },
  {
   "cell_type": "code",
   "execution_count": 89,
   "id": "bf397131",
   "metadata": {},
   "outputs": [
    {
     "data": {
      "text/plain": [
       "1"
      ]
     },
     "execution_count": 89,
     "metadata": {},
     "output_type": "execute_result"
    }
   ],
   "source": [
    "arrayRandom.min()#bu metot ile dizi içerisindeki en küçük değer getirilir"
   ]
  },
  {
   "cell_type": "code",
   "execution_count": 91,
   "id": "1d0bc9d3",
   "metadata": {},
   "outputs": [
    {
     "data": {
      "text/plain": [
       "25"
      ]
     },
     "execution_count": 91,
     "metadata": {},
     "output_type": "execute_result"
    }
   ],
   "source": [
    "#eğer max ve min elemanların indexlerini öğrenmek istiyorsak\n",
    "arrayRandom.argmax()\n"
   ]
  },
  {
   "cell_type": "code",
   "execution_count": 92,
   "id": "2c25ae7b",
   "metadata": {},
   "outputs": [
    {
     "data": {
      "text/plain": [
       "16"
      ]
     },
     "execution_count": 92,
     "metadata": {},
     "output_type": "execute_result"
    }
   ],
   "source": [
    "arrayRandom.argmin()"
   ]
  },
  {
   "cell_type": "code",
   "execution_count": 93,
   "id": "520d14ff",
   "metadata": {},
   "outputs": [
    {
     "data": {
      "text/plain": [
       "(30,)"
      ]
     },
     "execution_count": 93,
     "metadata": {},
     "output_type": "execute_result"
    }
   ],
   "source": [
    "#eğer dizinin biçimini yazdırmak istersek\n",
    "arrayRandom.shape"
   ]
  },
  {
   "cell_type": "markdown",
   "id": "de40c3e7",
   "metadata": {},
   "source": [
    "# İNDEKSLER\n"
   ]
  },
  {
   "cell_type": "code",
   "execution_count": 120,
   "id": "cd4a18b8",
   "metadata": {},
   "outputs": [],
   "source": [
    "myList=numpy.arange(0,21)"
   ]
  },
  {
   "cell_type": "code",
   "execution_count": 121,
   "id": "dff7f05a",
   "metadata": {},
   "outputs": [
    {
     "data": {
      "text/plain": [
       "array([ 0,  1,  2,  3,  4,  5,  6,  7,  8,  9, 10, 11, 12, 13, 14, 15, 16,\n",
       "       17, 18, 19, 20])"
      ]
     },
     "execution_count": 121,
     "metadata": {},
     "output_type": "execute_result"
    }
   ],
   "source": [
    "myList"
   ]
  },
  {
   "cell_type": "code",
   "execution_count": 122,
   "id": "a3f43e9a",
   "metadata": {},
   "outputs": [
    {
     "data": {
      "text/plain": [
       "5"
      ]
     },
     "execution_count": 122,
     "metadata": {},
     "output_type": "execute_result"
    }
   ],
   "source": [
    "myList[5]"
   ]
  },
  {
   "cell_type": "markdown",
   "id": "fef86954",
   "metadata": {},
   "source": [
    "SLICING(DİLİMLEME)"
   ]
  },
  {
   "cell_type": "code",
   "execution_count": 123,
   "id": "31d38522",
   "metadata": {},
   "outputs": [
    {
     "data": {
      "text/plain": [
       "array([ 3,  4,  5,  6,  7,  8,  9, 10, 11])"
      ]
     },
     "execution_count": 123,
     "metadata": {},
     "output_type": "execute_result"
    }
   ],
   "source": [
    "myList[3:12]#başlangıç dahil bitiş dahil değil"
   ]
  },
  {
   "cell_type": "code",
   "execution_count": 124,
   "id": "f810482a",
   "metadata": {},
   "outputs": [],
   "source": [
    "#dilimleme işlemi listelerdeki gibidir fakat dilimlediğimizi dilimi başka bir değişkene atayıp o değişken üzerinden bir \n",
    "#bir değişiklik gerçekleştirirsek bu değişiklik asıl diziye de yasıtılır bunu engellemek için dizinin kopyasını oluşturur \n",
    "#ve bu kopya üzerinde dilimleme işlemimi gerçekleştiririz bu şeklide yaptığımı değişkilikler asıl diziye yansıtılmaz\n"
   ]
  },
  {
   "cell_type": "code",
   "execution_count": 125,
   "id": "cd2c405a",
   "metadata": {},
   "outputs": [],
   "source": [
    "myListSlicing=myList[0:12]"
   ]
  },
  {
   "cell_type": "code",
   "execution_count": 126,
   "id": "b1e8f99b",
   "metadata": {},
   "outputs": [
    {
     "data": {
      "text/plain": [
       "array([ 0,  1,  2,  3,  4,  5,  6,  7,  8,  9, 10, 11])"
      ]
     },
     "execution_count": 126,
     "metadata": {},
     "output_type": "execute_result"
    }
   ],
   "source": [
    "myListSlicing"
   ]
  },
  {
   "cell_type": "code",
   "execution_count": 127,
   "id": "a121483e",
   "metadata": {},
   "outputs": [],
   "source": [
    "#myListSlicing[:]=200\n",
    "#myList -->asıl dizi üzerindeki değişimi engellemek için kopyası oluşturulur"
   ]
  },
  {
   "cell_type": "code",
   "execution_count": 129,
   "id": "b10d11f7",
   "metadata": {},
   "outputs": [],
   "source": [
    "myListCopy=myList.copy()"
   ]
  },
  {
   "cell_type": "code",
   "execution_count": 130,
   "id": "74bba614",
   "metadata": {},
   "outputs": [
    {
     "data": {
      "text/plain": [
       "array([ 0,  1,  2,  3,  4,  5,  6,  7,  8,  9, 10, 11, 12, 13, 14, 15, 16,\n",
       "       17, 18, 19, 20])"
      ]
     },
     "execution_count": 130,
     "metadata": {},
     "output_type": "execute_result"
    }
   ],
   "source": [
    "myListCopy"
   ]
  },
  {
   "cell_type": "code",
   "execution_count": 131,
   "id": "3357f0f9",
   "metadata": {},
   "outputs": [],
   "source": [
    "myListSlicing2=myListCopy[0:12]\n",
    "myListSlicing2[:]=700"
   ]
  },
  {
   "cell_type": "code",
   "execution_count": 134,
   "id": "c0b8b930",
   "metadata": {},
   "outputs": [
    {
     "data": {
      "text/plain": [
       "array([700, 700, 700, 700, 700, 700, 700, 700, 700, 700, 700, 700])"
      ]
     },
     "execution_count": 134,
     "metadata": {},
     "output_type": "execute_result"
    }
   ],
   "source": [
    "myListSlicing2"
   ]
  },
  {
   "cell_type": "code",
   "execution_count": 135,
   "id": "1a47b43f",
   "metadata": {},
   "outputs": [
    {
     "data": {
      "text/plain": [
       "array([700, 700, 700, 700, 700, 700, 700, 700, 700, 700, 700, 700,  12,\n",
       "        13,  14,  15,  16,  17,  18,  19,  20])"
      ]
     },
     "execution_count": 135,
     "metadata": {},
     "output_type": "execute_result"
    }
   ],
   "source": [
    "myListCopy"
   ]
  },
  {
   "cell_type": "code",
   "execution_count": 136,
   "id": "ed0380dd",
   "metadata": {},
   "outputs": [
    {
     "data": {
      "text/plain": [
       "array([ 0,  1,  2,  3,  4,  5,  6,  7,  8,  9, 10, 11, 12, 13, 14, 15, 16,\n",
       "       17, 18, 19, 20])"
      ]
     },
     "execution_count": 136,
     "metadata": {},
     "output_type": "execute_result"
    }
   ],
   "source": [
    "myList"
   ]
  },
  {
   "cell_type": "markdown",
   "id": "2afa720b",
   "metadata": {},
   "source": [
    "MATRIX INDEX"
   ]
  },
  {
   "cell_type": "code",
   "execution_count": 9,
   "id": "d1dae960",
   "metadata": {},
   "outputs": [],
   "source": [
    "import numpy"
   ]
  },
  {
   "cell_type": "code",
   "execution_count": 10,
   "id": "9961a50d",
   "metadata": {},
   "outputs": [],
   "source": [
    "myList=[list(range(10,40,10)),list(range(20,50,10)),list(range(40,70,10))]"
   ]
  },
  {
   "cell_type": "code",
   "execution_count": 11,
   "id": "f0d2f65a",
   "metadata": {},
   "outputs": [
    {
     "data": {
      "text/plain": [
       "[[10, 20, 30], [20, 30, 40], [40, 50, 60]]"
      ]
     },
     "execution_count": 11,
     "metadata": {},
     "output_type": "execute_result"
    }
   ],
   "source": [
    "myList"
   ]
  },
  {
   "cell_type": "code",
   "execution_count": 12,
   "id": "3694093f",
   "metadata": {},
   "outputs": [],
   "source": [
    "arrayList=numpy.array(myList)"
   ]
  },
  {
   "cell_type": "code",
   "execution_count": 13,
   "id": "733ed003",
   "metadata": {},
   "outputs": [
    {
     "data": {
      "text/plain": [
       "array([[10, 20, 30],\n",
       "       [20, 30, 40],\n",
       "       [40, 50, 60]])"
      ]
     },
     "execution_count": 13,
     "metadata": {},
     "output_type": "execute_result"
    }
   ],
   "source": [
    "arrayList"
   ]
  },
  {
   "cell_type": "code",
   "execution_count": 16,
   "id": "44d80fc2",
   "metadata": {},
   "outputs": [
    {
     "data": {
      "text/plain": [
       "30"
      ]
     },
     "execution_count": 16,
     "metadata": {},
     "output_type": "execute_result"
    }
   ],
   "source": [
    "arrayList[0][2]#matris için (1,3) aslında "
   ]
  },
  {
   "cell_type": "code",
   "execution_count": 18,
   "id": "6d060d5e",
   "metadata": {},
   "outputs": [
    {
     "data": {
      "text/plain": [
       "40"
      ]
     },
     "execution_count": 18,
     "metadata": {},
     "output_type": "execute_result"
    }
   ],
   "source": [
    "arrayList[1,2]#=====arrayList[1][2] aynıdır"
   ]
  },
  {
   "cell_type": "markdown",
   "id": "8d44bea2",
   "metadata": {},
   "source": [
    "Slicing"
   ]
  },
  {
   "cell_type": "code",
   "execution_count": 24,
   "id": "08536c3e",
   "metadata": {},
   "outputs": [
    {
     "data": {
      "text/plain": [
       "array([30, 40, 60])"
      ]
     },
     "execution_count": 24,
     "metadata": {},
     "output_type": "execute_result"
    }
   ],
   "source": [
    "arrayList[0:,2]"
   ]
  },
  {
   "cell_type": "code",
   "execution_count": 31,
   "id": "2bea6f16",
   "metadata": {},
   "outputs": [],
   "source": [
    "newList=[list(range(0,5)),list(range(5,10)),list(range(10,15)),list(range(15,20)),list(range(20,25))]\n"
   ]
  },
  {
   "cell_type": "code",
   "execution_count": 32,
   "id": "d12f9b8e",
   "metadata": {},
   "outputs": [],
   "source": [
    "newArray=numpy.array(newList)"
   ]
  },
  {
   "cell_type": "code",
   "execution_count": 33,
   "id": "f64ca988",
   "metadata": {},
   "outputs": [
    {
     "data": {
      "text/plain": [
       "array([[ 0,  1,  2,  3,  4],\n",
       "       [ 5,  6,  7,  8,  9],\n",
       "       [10, 11, 12, 13, 14],\n",
       "       [15, 16, 17, 18, 19],\n",
       "       [20, 21, 22, 23, 24]])"
      ]
     },
     "execution_count": 33,
     "metadata": {},
     "output_type": "execute_result"
    }
   ],
   "source": [
    "newArray"
   ]
  },
  {
   "cell_type": "code",
   "execution_count": 34,
   "id": "57dc9787",
   "metadata": {},
   "outputs": [
    {
     "data": {
      "text/plain": [
       "array([[ 5,  6,  7,  8,  9],\n",
       "       [15, 16, 17, 18, 19],\n",
       "       [10, 11, 12, 13, 14]])"
      ]
     },
     "execution_count": 34,
     "metadata": {},
     "output_type": "execute_result"
    }
   ],
   "source": [
    "newArray[[1,3,2]]"
   ]
  },
  {
   "cell_type": "markdown",
   "id": "1cd5097e",
   "metadata": {},
   "source": [
    "# OPERASYONLAR"
   ]
  },
  {
   "cell_type": "code",
   "execution_count": 37,
   "id": "0fcc82d8",
   "metadata": {},
   "outputs": [],
   "source": [
    "new_a_array=numpy.random.randint(1,100,20)"
   ]
  },
  {
   "cell_type": "code",
   "execution_count": 38,
   "id": "89482f2a",
   "metadata": {},
   "outputs": [
    {
     "data": {
      "text/plain": [
       "array([73, 39, 33, 31, 15,  8,  4, 61, 68, 10, 78, 64, 10, 60, 96, 96,  8,\n",
       "       68, 22, 59])"
      ]
     },
     "execution_count": 38,
     "metadata": {},
     "output_type": "execute_result"
    }
   ],
   "source": [
    "new_a_array"
   ]
  },
  {
   "cell_type": "code",
   "execution_count": 39,
   "id": "ebb7edd3",
   "metadata": {},
   "outputs": [
    {
     "data": {
      "text/plain": [
       "array([ True,  True,  True,  True, False, False, False,  True,  True,\n",
       "       False,  True,  True, False,  True,  True,  True, False,  True,\n",
       "       False,  True])"
      ]
     },
     "execution_count": 39,
     "metadata": {},
     "output_type": "execute_result"
    }
   ],
   "source": [
    "new_a_array>25"
   ]
  },
  {
   "cell_type": "code",
   "execution_count": 43,
   "id": "9fcc1205",
   "metadata": {},
   "outputs": [
    {
     "data": {
      "text/plain": [
       "array([73, 39, 33, 31, 15,  8,  4, 61, 68, 10, 78, 64, 10, 60, 96, 96,  8,\n",
       "       68, 22, 59])"
      ]
     },
     "execution_count": 43,
     "metadata": {},
     "output_type": "execute_result"
    }
   ],
   "source": [
    "new_a_array"
   ]
  },
  {
   "cell_type": "code",
   "execution_count": 44,
   "id": "2bc2c3fc",
   "metadata": {},
   "outputs": [],
   "source": [
    "bool_array=new_a_array>25"
   ]
  },
  {
   "cell_type": "code",
   "execution_count": 45,
   "id": "06e5bcb1",
   "metadata": {},
   "outputs": [
    {
     "data": {
      "text/plain": [
       "array([ True,  True,  True,  True, False, False, False,  True,  True,\n",
       "       False,  True,  True, False,  True,  True,  True, False,  True,\n",
       "       False,  True])"
      ]
     },
     "execution_count": 45,
     "metadata": {},
     "output_type": "execute_result"
    }
   ],
   "source": [
    "bool_array"
   ]
  },
  {
   "cell_type": "code",
   "execution_count": 46,
   "id": "17ad1621",
   "metadata": {},
   "outputs": [
    {
     "data": {
      "text/plain": [
       "True"
      ]
     },
     "execution_count": 46,
     "metadata": {},
     "output_type": "execute_result"
    }
   ],
   "source": [
    "bool_array[0]"
   ]
  },
  {
   "cell_type": "code",
   "execution_count": 47,
   "id": "136c1169",
   "metadata": {},
   "outputs": [
    {
     "data": {
      "text/plain": [
       "array([73, 39, 33, 31, 61, 68, 78, 64, 60, 96, 96, 68, 59])"
      ]
     },
     "execution_count": 47,
     "metadata": {},
     "output_type": "execute_result"
    }
   ],
   "source": [
    "new_a_array[bool_array]"
   ]
  },
  {
   "cell_type": "code",
   "execution_count": 48,
   "id": "7e182bcf",
   "metadata": {},
   "outputs": [
    {
     "data": {
      "text/plain": [
       "array([73, 39, 33, 31, 61, 68, 78, 64, 60, 96, 96, 68, 59])"
      ]
     },
     "execution_count": 48,
     "metadata": {},
     "output_type": "execute_result"
    }
   ],
   "source": [
    "new_a_array[new_a_array>25]"
   ]
  },
  {
   "cell_type": "code",
   "execution_count": 49,
   "id": "b57d348f",
   "metadata": {},
   "outputs": [],
   "source": [
    "newArray=numpy.arange(0,24)"
   ]
  },
  {
   "cell_type": "code",
   "execution_count": 50,
   "id": "3f16d165",
   "metadata": {},
   "outputs": [
    {
     "data": {
      "text/plain": [
       "array([ 0,  2,  4,  6,  8, 10, 12, 14, 16, 18, 20, 22, 24, 26, 28, 30, 32,\n",
       "       34, 36, 38, 40, 42, 44, 46])"
      ]
     },
     "execution_count": 50,
     "metadata": {},
     "output_type": "execute_result"
    }
   ],
   "source": [
    "newArray+newArray"
   ]
  },
  {
   "cell_type": "code",
   "execution_count": 51,
   "id": "62c96ea6",
   "metadata": {},
   "outputs": [
    {
     "data": {
      "text/plain": [
       "array([  0,   1,   4,   9,  16,  25,  36,  49,  64,  81, 100, 121, 144,\n",
       "       169, 196, 225, 256, 289, 324, 361, 400, 441, 484, 529])"
      ]
     },
     "execution_count": 51,
     "metadata": {},
     "output_type": "execute_result"
    }
   ],
   "source": [
    "newArray*newArray"
   ]
  },
  {
   "cell_type": "code",
   "execution_count": 52,
   "id": "a822e59c",
   "metadata": {},
   "outputs": [
    {
     "data": {
      "text/plain": [
       "array([0, 0, 0, 0, 0, 0, 0, 0, 0, 0, 0, 0, 0, 0, 0, 0, 0, 0, 0, 0, 0, 0,\n",
       "       0, 0])"
      ]
     },
     "execution_count": 52,
     "metadata": {},
     "output_type": "execute_result"
    }
   ],
   "source": [
    "newArray-newArray"
   ]
  },
  {
   "cell_type": "code",
   "execution_count": 53,
   "id": "b75447ab",
   "metadata": {},
   "outputs": [
    {
     "data": {
      "text/plain": [
       "array([0.        , 1.        , 1.41421356, 1.73205081, 2.        ,\n",
       "       2.23606798, 2.44948974, 2.64575131, 2.82842712, 3.        ,\n",
       "       3.16227766, 3.31662479, 3.46410162, 3.60555128, 3.74165739,\n",
       "       3.87298335, 4.        , 4.12310563, 4.24264069, 4.35889894,\n",
       "       4.47213595, 4.58257569, 4.69041576, 4.79583152])"
      ]
     },
     "execution_count": 53,
     "metadata": {},
     "output_type": "execute_result"
    }
   ],
   "source": [
    "numpy.sqrt(newArray)"
   ]
  },
  {
   "cell_type": "code",
   "execution_count": 55,
   "id": "28d03e40",
   "metadata": {},
   "outputs": [
    {
     "data": {
      "text/plain": [
       "23"
      ]
     },
     "execution_count": 55,
     "metadata": {},
     "output_type": "execute_result"
    }
   ],
   "source": [
    "numpy.max(newArray)"
   ]
  },
  {
   "cell_type": "code",
   "execution_count": 56,
   "id": "3be1003e",
   "metadata": {},
   "outputs": [
    {
     "data": {
      "text/plain": [
       "0"
      ]
     },
     "execution_count": 56,
     "metadata": {},
     "output_type": "execute_result"
    }
   ],
   "source": [
    "numpy.min(newArray)"
   ]
  },
  {
   "cell_type": "code",
   "execution_count": null,
   "id": "fae5d64e",
   "metadata": {},
   "outputs": [],
   "source": []
  }
 ],
 "metadata": {
  "kernelspec": {
   "display_name": "Python 3 (ipykernel)",
   "language": "python",
   "name": "python3"
  },
  "language_info": {
   "codemirror_mode": {
    "name": "ipython",
    "version": 3
   },
   "file_extension": ".py",
   "mimetype": "text/x-python",
   "name": "python",
   "nbconvert_exporter": "python",
   "pygments_lexer": "ipython3",
   "version": "3.9.13"
  }
 },
 "nbformat": 4,
 "nbformat_minor": 5
}
