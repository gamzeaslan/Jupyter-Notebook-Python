{
 "cells": [
  {
   "cell_type": "code",
   "execution_count": 51,
   "id": "0840e02a",
   "metadata": {},
   "outputs": [],
   "source": [
    "class SuperHero:\n",
    "    def __init__(self,power,age,name,job):\n",
    "        self.power=power\n",
    "        self.age=age\n",
    "        self.name=name\n",
    "        self.job=job\n",
    "        print(\"SuperHero classından object ürettiniz\")\n",
    "        \n",
    "    def power_writing(self):\n",
    "        print(f\"Her süper kahramanın bir özel gücü vardır bununki de {self.power}\")\n",
    "        \n",
    "    def feature_writing(self):\n",
    "        print(f\"Süper kahramının adı: {self.name}\")\n",
    "        print(f\"Süper kahramının yaşı: {self.age}\")\n",
    "        print(f\"Süper kahramının mesleği: {self.job}\")\n",
    "        print(f\"Süper kahramanın gücü: {self.power}\")\n",
    "        "
   ]
  },
  {
   "cell_type": "code",
   "execution_count": 52,
   "id": "70404baf",
   "metadata": {},
   "outputs": [
    {
     "name": "stdout",
     "output_type": "stream",
     "text": [
      "SuperHero classından object ürettiniz\n",
      "SuperHero classından object ürettiniz\n"
     ]
    }
   ],
   "source": [
    "superman=SuperHero(\"uçmak\",35,\"Süperman\",\"Gazeteci\")\n",
    "spiderman=SuperHero(\"ağ fırlatmak\",17,\"Spider-man\",\"Öğrenci\")"
   ]
  },
  {
   "cell_type": "code",
   "execution_count": 55,
   "id": "e29043a4",
   "metadata": {},
   "outputs": [
    {
     "name": "stdout",
     "output_type": "stream",
     "text": [
      "Süper kahramının adı: Süperman\n",
      "Süper kahramının yaşı: 35\n",
      "Süper kahramının mesleği: Gazeteci\n",
      "Süper kahramanın gücü: uçmak\n",
      "\n",
      "Süper kahramının adı: Spider-man\n",
      "Süper kahramının yaşı: 17\n",
      "Süper kahramının mesleği: Öğrenci\n",
      "Süper kahramanın gücü: ağ fırlatmak\n"
     ]
    }
   ],
   "source": [
    "superman.feature_writing()\n",
    "print()\n",
    "spiderman.feature_writing()"
   ]
  },
  {
   "cell_type": "code",
   "execution_count": 62,
   "id": "b1c7a71b",
   "metadata": {},
   "outputs": [],
   "source": [
    "class Dog:\n",
    "    def __init__(self,age=1):\n",
    "        self.age=age\n",
    "        print(\"Dog classından object üretildi\")\n",
    "    def humanAgeToDog(self):\n",
    "        print(f\"Bu köpeğin insan yaşı:{self.age*7} dir\")\n",
    "    "
   ]
  },
  {
   "cell_type": "code",
   "execution_count": 63,
   "id": "4086bb2e",
   "metadata": {},
   "outputs": [
    {
     "name": "stdout",
     "output_type": "stream",
     "text": [
      "Dog classından object üretildi\n"
     ]
    }
   ],
   "source": [
    "bonbon=Dog(2)"
   ]
  },
  {
   "cell_type": "code",
   "execution_count": 64,
   "id": "037bed89",
   "metadata": {},
   "outputs": [
    {
     "name": "stdout",
     "output_type": "stream",
     "text": [
      "Bu köpeğin insan yaşı:14 dir\n"
     ]
    }
   ],
   "source": [
    "bonbon.humanAgeToDog()"
   ]
  },
  {
   "cell_type": "markdown",
   "id": "2d0d2b65",
   "metadata": {},
   "source": [
    "# INHERITANCE\n"
   ]
  },
  {
   "cell_type": "code",
   "execution_count": 65,
   "id": "253ae0b3",
   "metadata": {},
   "outputs": [],
   "source": [
    "class Animal():\n",
    "    def __init__(self):\n",
    "        print(\"Animal classından object üretildi\")\n",
    "    def method1(self):\n",
    "        print(\"Animal classındaki method1 çalıştırıldı\")\n",
    "    def method2(self):\n",
    "        print(\"Animal classındaki method2 çalıştırıldı\")"
   ]
  },
  {
   "cell_type": "code",
   "execution_count": 89,
   "id": "79ccd791",
   "metadata": {},
   "outputs": [],
   "source": [
    "class Cat(Animal):\n",
    "    def __init__(self):\n",
    "        print(\"Cat classından object üretildi\")\n",
    "    def miyavlama(self):\n",
    "        print(\"Kedi miyavladı\")\n",
    "    def method1(self):#overriding\n",
    "        print(\"Overriding olayı gerçekleşti\")"
   ]
  },
  {
   "cell_type": "markdown",
   "id": "9ed849f4",
   "metadata": {},
   "source": [
    "animal classından nesne üretildi"
   ]
  },
  {
   "cell_type": "code",
   "execution_count": 90,
   "id": "68db4405",
   "metadata": {},
   "outputs": [
    {
     "name": "stdout",
     "output_type": "stream",
     "text": [
      "Animal classından object üretildi\n"
     ]
    }
   ],
   "source": [
    "animal=Animal()"
   ]
  },
  {
   "cell_type": "code",
   "execution_count": 91,
   "id": "f9a75fe9",
   "metadata": {},
   "outputs": [
    {
     "name": "stdout",
     "output_type": "stream",
     "text": [
      "Animal classındaki method1 çalıştırıldı\n"
     ]
    }
   ],
   "source": [
    "animal.method1()"
   ]
  },
  {
   "cell_type": "code",
   "execution_count": 92,
   "id": "b70e5e1f",
   "metadata": {},
   "outputs": [
    {
     "name": "stdout",
     "output_type": "stream",
     "text": [
      "Animal classındaki method2 çalıştırıldı\n"
     ]
    }
   ],
   "source": [
    "animal.method2()"
   ]
  },
  {
   "cell_type": "markdown",
   "id": "82978308",
   "metadata": {},
   "source": [
    "cat classından nesne üretildi"
   ]
  },
  {
   "cell_type": "code",
   "execution_count": 93,
   "id": "f357a8ea",
   "metadata": {},
   "outputs": [
    {
     "name": "stdout",
     "output_type": "stream",
     "text": [
      "Cat classından object üretildi\n"
     ]
    }
   ],
   "source": [
    "cat=Cat()"
   ]
  },
  {
   "cell_type": "code",
   "execution_count": 94,
   "id": "2e36615e",
   "metadata": {},
   "outputs": [
    {
     "name": "stdout",
     "output_type": "stream",
     "text": [
      "Overriding olayı gerçekleşti\n"
     ]
    }
   ],
   "source": [
    "cat.method1()"
   ]
  },
  {
   "cell_type": "code",
   "execution_count": 95,
   "id": "67344227",
   "metadata": {},
   "outputs": [
    {
     "name": "stdout",
     "output_type": "stream",
     "text": [
      "Animal classındaki method2 çalıştırıldı\n"
     ]
    }
   ],
   "source": [
    "cat.method2()"
   ]
  },
  {
   "cell_type": "code",
   "execution_count": 82,
   "id": "aefcb380",
   "metadata": {},
   "outputs": [
    {
     "name": "stdout",
     "output_type": "stream",
     "text": [
      "Kedi miyavladı\n"
     ]
    }
   ],
   "source": [
    "cat.miyavlama()"
   ]
  },
  {
   "cell_type": "markdown",
   "id": "7f5ceaf6",
   "metadata": {},
   "source": [
    "# POLYMORPHISM(ÇOK BİÇİMLİLİK)"
   ]
  },
  {
   "cell_type": "markdown",
   "id": "397df00f",
   "metadata": {},
   "source": [
    "aynı isimde metotların farklı amaca hizmet edebilmesine polymorphısm denir"
   ]
  },
  {
   "cell_type": "code",
   "execution_count": null,
   "id": "7ca3026e",
   "metadata": {},
   "outputs": [],
   "source": []
  }
 ],
 "metadata": {
  "kernelspec": {
   "display_name": "Python 3 (ipykernel)",
   "language": "python",
   "name": "python3"
  },
  "language_info": {
   "codemirror_mode": {
    "name": "ipython",
    "version": 3
   },
   "file_extension": ".py",
   "mimetype": "text/x-python",
   "name": "python",
   "nbconvert_exporter": "python",
   "pygments_lexer": "ipython3",
   "version": "3.9.13"
  }
 },
 "nbformat": 4,
 "nbformat_minor": 5
}
