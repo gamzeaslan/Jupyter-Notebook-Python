{
 "cells": [
  {
   "cell_type": "code",
   "execution_count": 1,
   "id": "16177419",
   "metadata": {},
   "outputs": [],
   "source": [
    "nestedList=[1,5,\"gamze\",4,[6,\"z\"]]\n"
   ]
  },
  {
   "cell_type": "code",
   "execution_count": 4,
   "id": "4534b2bd",
   "metadata": {},
   "outputs": [
    {
     "data": {
      "text/plain": [
       "'z'"
      ]
     },
     "execution_count": 4,
     "metadata": {},
     "output_type": "execute_result"
    }
   ],
   "source": [
    "z=nestedList[4][1]\n",
    "z"
   ]
  },
  {
   "cell_type": "code",
   "execution_count": 9,
   "id": "ac7ea70c",
   "metadata": {},
   "outputs": [],
   "source": [
    "karmasikListe=[[1,2,3,[\"a\",\"b\"],50],40,20,[\"z\",5.5],[3,[\"a\"]]]\n"
   ]
  },
  {
   "cell_type": "code",
   "execution_count": 10,
   "id": "59768e63",
   "metadata": {},
   "outputs": [
    {
     "data": {
      "text/plain": [
       "[1, 2, 3, ['a', 'b'], 50]"
      ]
     },
     "execution_count": 10,
     "metadata": {},
     "output_type": "execute_result"
    }
   ],
   "source": [
    "karmasikListe[0]"
   ]
  },
  {
   "cell_type": "code",
   "execution_count": 11,
   "id": "bcfe79f3",
   "metadata": {},
   "outputs": [
    {
     "data": {
      "text/plain": [
       "'b'"
      ]
     },
     "execution_count": 11,
     "metadata": {},
     "output_type": "execute_result"
    }
   ],
   "source": [
    "karmasikListe[0][3][1]"
   ]
  },
  {
   "cell_type": "code",
   "execution_count": 12,
   "id": "869cfbfc",
   "metadata": {},
   "outputs": [],
   "source": [
    "sozluk={\"elma\":100,\"karpuz\":200,\"armut\":300}\n"
   ]
  },
  {
   "cell_type": "code",
   "execution_count": 20,
   "id": "d3946e4c",
   "metadata": {},
   "outputs": [
    {
     "name": "stdout",
     "output_type": "stream",
     "text": [
      "Meyve: armut\n"
     ]
    },
    {
     "data": {
      "text/plain": [
       "300"
      ]
     },
     "execution_count": 20,
     "metadata": {},
     "output_type": "execute_result"
    }
   ],
   "source": [
    "sozluk[input(\"Meyve: \")]"
   ]
  },
  {
   "cell_type": "code",
   "execution_count": 28,
   "id": "04b62c4f",
   "metadata": {},
   "outputs": [],
   "source": [
    "yeniDic={\"key1\":100,\"key2\":[10,20,30,40,4.5,'gamze'],\"key3\":{\"key9\":4}}"
   ]
  },
  {
   "cell_type": "code",
   "execution_count": 30,
   "id": "5c738ad2",
   "metadata": {},
   "outputs": [
    {
     "data": {
      "text/plain": [
       "'gamze'"
      ]
     },
     "execution_count": 30,
     "metadata": {},
     "output_type": "execute_result"
    }
   ],
   "source": [
    "yeniDic[\"key2\"][-1]"
   ]
  },
  {
   "cell_type": "code",
   "execution_count": 32,
   "id": "6dabba8d",
   "metadata": {},
   "outputs": [
    {
     "data": {
      "text/plain": [
       "4"
      ]
     },
     "execution_count": 32,
     "metadata": {},
     "output_type": "execute_result"
    }
   ],
   "source": [
    "yeniDic[\"key3\"][\"key9\"]"
   ]
  },
  {
   "cell_type": "markdown",
   "id": "76ee6c90",
   "metadata": {},
   "source": [
    "SET"
   ]
  },
  {
   "cell_type": "markdown",
   "id": "29b7fab0",
   "metadata": {},
   "source": [
    "setler de bir koleksiyondur\n",
    "Diğer koleksiyonlardan tek farki içerisinde tekrarlayan elemanları barındırmaz\n"
   ]
  },
  {
   "cell_type": "markdown",
   "id": "22feee50",
   "metadata": {},
   "source": [
    "-->bir veri tipini ya da bir koleksiyon tipini başka bir veriye çevirmek buna casting de denir"
   ]
  },
  {
   "cell_type": "code",
   "execution_count": 34,
   "id": "eee82088",
   "metadata": {},
   "outputs": [],
   "source": [
    "myList=[1,2,3,1,2,3]\n",
    "setMyList=set(myList)\n"
   ]
  },
  {
   "cell_type": "code",
   "execution_count": null,
   "id": "7d556c64",
   "metadata": {},
   "outputs": [],
   "source": [
    "setMyList\n"
   ]
  },
  {
   "cell_type": "markdown",
   "id": "50135647",
   "metadata": {},
   "source": [
    "set tekrarlayan elemanlar üzerinde tekilleştirme işlemi gerçekleştirir"
   ]
  },
  {
   "cell_type": "code",
   "execution_count": 36,
   "id": "9e564c40",
   "metadata": {},
   "outputs": [
    {
     "data": {
      "text/plain": [
       "set"
      ]
     },
     "execution_count": 36,
     "metadata": {},
     "output_type": "execute_result"
    }
   ],
   "source": [
    "type(setMyList)"
   ]
  },
  {
   "cell_type": "code",
   "execution_count": 39,
   "id": "c0d27894",
   "metadata": {},
   "outputs": [
    {
     "data": {
      "text/plain": [
       "[1, 2, 3, 324, 1, 2, 3, 4, 5, 2, 5]"
      ]
     },
     "execution_count": 39,
     "metadata": {},
     "output_type": "execute_result"
    }
   ],
   "source": [
    "myList=[1,2,3,324,1,2,3,4,5,2,5]\n",
    "myList"
   ]
  },
  {
   "cell_type": "code",
   "execution_count": 40,
   "id": "a82eef7f",
   "metadata": {},
   "outputs": [
    {
     "data": {
      "text/plain": [
       "{1, 2, 3, 4, 5, 324}"
      ]
     },
     "execution_count": 40,
     "metadata": {},
     "output_type": "execute_result"
    }
   ],
   "source": [
    "set(myList)"
   ]
  },
  {
   "cell_type": "markdown",
   "id": "b3c853c9",
   "metadata": {},
   "source": [
    "tekilleştirme dışında sıralama işlemini de gerçekleştiriyor\n"
   ]
  },
  {
   "cell_type": "code",
   "execution_count": 41,
   "id": "80846d8b",
   "metadata": {},
   "outputs": [
    {
     "data": {
      "text/plain": [
       "{'a', 'b', 'c'}"
      ]
     },
     "execution_count": 41,
     "metadata": {},
     "output_type": "execute_result"
    }
   ],
   "source": [
    "myList={\"a\",\"b\",\"c\"}\n",
    "myList"
   ]
  },
  {
   "cell_type": "code",
   "execution_count": 42,
   "id": "8e0d469c",
   "metadata": {},
   "outputs": [
    {
     "data": {
      "text/plain": [
       "set"
      ]
     },
     "execution_count": 42,
     "metadata": {},
     "output_type": "execute_result"
    }
   ],
   "source": [
    "type(myList)"
   ]
  },
  {
   "cell_type": "code",
   "execution_count": 45,
   "id": "578940b0",
   "metadata": {},
   "outputs": [],
   "source": [
    "bosSet={\"\"}"
   ]
  },
  {
   "cell_type": "code",
   "execution_count": 46,
   "id": "da23d75b",
   "metadata": {},
   "outputs": [
    {
     "data": {
      "text/plain": [
       "set"
      ]
     },
     "execution_count": 46,
     "metadata": {},
     "output_type": "execute_result"
    }
   ],
   "source": [
    "type(bosSet)"
   ]
  },
  {
   "cell_type": "markdown",
   "id": "6365c12a",
   "metadata": {},
   "source": [
    "burada boş set oluşturmaya çalıştık fakat python bunu dict sandı\n",
    "eğer tırnakları açıp kapatırsak set olarak algılar\n",
    "Aşağıda seti nasıl boş tanımlıyacağımızı gösterdik"
   ]
  },
  {
   "cell_type": "code",
   "execution_count": 47,
   "id": "d046946a",
   "metadata": {},
   "outputs": [],
   "source": [
    "benimBosSetim=set()"
   ]
  },
  {
   "cell_type": "markdown",
   "id": "6bbca51a",
   "metadata": {},
   "source": [
    "yukarıdaki ifade ile boş bir set tanımlamış olduk.Bu durum sadece sete özel değil diğerleri için de bunu kullanabiliriz"
   ]
  },
  {
   "cell_type": "code",
   "execution_count": 49,
   "id": "6200d8a7",
   "metadata": {},
   "outputs": [
    {
     "data": {
      "text/plain": [
       "set"
      ]
     },
     "execution_count": 49,
     "metadata": {},
     "output_type": "execute_result"
    }
   ],
   "source": [
    "type(benimBosSetim)"
   ]
  },
  {
   "cell_type": "code",
   "execution_count": 51,
   "id": "3ab81a49",
   "metadata": {},
   "outputs": [],
   "source": [
    "benimBosSetim.add(10)"
   ]
  },
  {
   "cell_type": "code",
   "execution_count": 52,
   "id": "4f89a8d3",
   "metadata": {},
   "outputs": [
    {
     "data": {
      "text/plain": [
       "{10}"
      ]
     },
     "execution_count": 52,
     "metadata": {},
     "output_type": "execute_result"
    }
   ],
   "source": [
    "benimBosSetim"
   ]
  },
  {
   "cell_type": "code",
   "execution_count": 53,
   "id": "ebebcee2",
   "metadata": {},
   "outputs": [],
   "source": [
    "benimBosSetim.add(10)"
   ]
  },
  {
   "cell_type": "code",
   "execution_count": 54,
   "id": "e49b807b",
   "metadata": {},
   "outputs": [],
   "source": [
    "benimBosSetim.add(120)"
   ]
  },
  {
   "cell_type": "code",
   "execution_count": 55,
   "id": "774c7aa6",
   "metadata": {},
   "outputs": [
    {
     "data": {
      "text/plain": [
       "{10, 120}"
      ]
     },
     "execution_count": 55,
     "metadata": {},
     "output_type": "execute_result"
    }
   ],
   "source": [
    "benimBosSetim"
   ]
  },
  {
   "cell_type": "code",
   "execution_count": 56,
   "id": "25bc6436",
   "metadata": {},
   "outputs": [],
   "source": [
    "benimBosListem=list()"
   ]
  },
  {
   "cell_type": "code",
   "execution_count": 57,
   "id": "c677ab6a",
   "metadata": {},
   "outputs": [
    {
     "data": {
      "text/plain": [
       "list"
      ]
     },
     "execution_count": 57,
     "metadata": {},
     "output_type": "execute_result"
    }
   ],
   "source": [
    "type(benimBosListem)"
   ]
  },
  {
   "cell_type": "code",
   "execution_count": 58,
   "id": "efcca68f",
   "metadata": {},
   "outputs": [],
   "source": [
    "benimBosListem.append(10)\n",
    "benimBosListem.append(10)\n",
    "benimBosListem.append(10)\n",
    "benimBosListem.append(10)\n"
   ]
  },
  {
   "cell_type": "code",
   "execution_count": 59,
   "id": "a357342a",
   "metadata": {},
   "outputs": [
    {
     "data": {
      "text/plain": [
       "[10, 10, 10, 10]"
      ]
     },
     "execution_count": 59,
     "metadata": {},
     "output_type": "execute_result"
    }
   ],
   "source": [
    "benimBosListem"
   ]
  },
  {
   "cell_type": "markdown",
   "id": "99cea3a1",
   "metadata": {},
   "source": [
    "# TUPLE\n"
   ]
  },
  {
   "cell_type": "markdown",
   "id": "b5234cf3",
   "metadata": {},
   "source": [
    "tuple,immutuable dır yani değiştirilemez elemanları tek tek değiştirilemez sadece toplu bir atama ile değiştirilebilinir.Pythondaki kütüphanlerin çoğu tuple değer döndürür çünkü verdiği çıktıları geliştirici yanlışlıkla değiştirmesin diye\n",
    "\n"
   ]
  },
  {
   "cell_type": "code",
   "execution_count": 60,
   "id": "7a9f9ecd",
   "metadata": {},
   "outputs": [],
   "source": [
    "myTuple=(1,2,3,4)\n"
   ]
  },
  {
   "cell_type": "code",
   "execution_count": 64,
   "id": "13dcc1f2",
   "metadata": {},
   "outputs": [
    {
     "data": {
      "text/plain": [
       "3"
      ]
     },
     "execution_count": 64,
     "metadata": {},
     "output_type": "execute_result"
    }
   ],
   "source": [
    "myTuple[2]"
   ]
  },
  {
   "cell_type": "code",
   "execution_count": 65,
   "id": "86a71b25",
   "metadata": {},
   "outputs": [
    {
     "data": {
      "text/plain": [
       "1"
      ]
     },
     "execution_count": 65,
     "metadata": {},
     "output_type": "execute_result"
    }
   ],
   "source": [
    "myTuple.count(1)"
   ]
  },
  {
   "cell_type": "code",
   "execution_count": 66,
   "id": "e2583e3e",
   "metadata": {},
   "outputs": [
    {
     "data": {
      "text/plain": [
       "0"
      ]
     },
     "execution_count": 66,
     "metadata": {},
     "output_type": "execute_result"
    }
   ],
   "source": [
    "myTuple.index(1)"
   ]
  },
  {
   "cell_type": "markdown",
   "id": "930fecf0",
   "metadata": {},
   "source": [
    "koleksiyonlar-->list,dic,set,tuple"
   ]
  },
  {
   "cell_type": "code",
   "execution_count": 67,
   "id": "05a344f1",
   "metadata": {},
   "outputs": [],
   "source": [
    "listem=[1000,2000,3000,4000,5000]"
   ]
  },
  {
   "cell_type": "code",
   "execution_count": 69,
   "id": "1d464987",
   "metadata": {},
   "outputs": [
    {
     "data": {
      "text/plain": [
       "<function sum(iterable, /, start=0)>"
      ]
     },
     "execution_count": 69,
     "metadata": {},
     "output_type": "execute_result"
    }
   ],
   "source": [
    "sum"
   ]
  },
  {
   "cell_type": "code",
   "execution_count": 71,
   "id": "c457db10",
   "metadata": {},
   "outputs": [
    {
     "data": {
      "text/plain": [
       "3000.0"
      ]
     },
     "execution_count": 71,
     "metadata": {},
     "output_type": "execute_result"
    }
   ],
   "source": [
    "sum(listem)/len(listem)"
   ]
  },
  {
   "cell_type": "code",
   "execution_count": 73,
   "id": "a6c232d7",
   "metadata": {},
   "outputs": [
    {
     "data": {
      "text/plain": [
       "True"
      ]
     },
     "execution_count": 73,
     "metadata": {},
     "output_type": "execute_result"
    }
   ],
   "source": [
    "listem[2]>=sum(listem)/len(listem)"
   ]
  },
  {
   "cell_type": "code",
   "execution_count": 80,
   "id": "0ab09256",
   "metadata": {},
   "outputs": [
    {
     "name": "stdout",
     "output_type": "stream",
     "text": [
      "1.Sayıyı giriniz: 12\n",
      "2.Sayıyı giriniz: 12\n"
     ]
    }
   ],
   "source": [
    "number1=int(input(\"1.Sayıyı giriniz: \"))\n",
    "number2=int(input(\"2.Sayıyı giriniz: \"))"
   ]
  },
  {
   "cell_type": "code",
   "execution_count": 81,
   "id": "769bbab6",
   "metadata": {},
   "outputs": [
    {
     "name": "stdout",
     "output_type": "stream",
     "text": [
      "1.sayı,2.sayıya eşittir\n"
     ]
    }
   ],
   "source": [
    "if number1>number2:\n",
    "    print(\"1.sayı ,2.sayıdan büyüktür\")\n",
    "elif number1<number2:\n",
    "    print(\"1.sayı,2.sayıdan küçüktür\")\n",
    "else:\n",
    "    print(\"1.sayı,2.sayıya eşittir\")"
   ]
  },
  {
   "cell_type": "code",
   "execution_count": 82,
   "id": "8c60e6db",
   "metadata": {},
   "outputs": [],
   "source": [
    "newList=[1,2,3,4,5,6]\n"
   ]
  },
  {
   "cell_type": "code",
   "execution_count": 83,
   "id": "8e5fad73",
   "metadata": {},
   "outputs": [
    {
     "name": "stdout",
     "output_type": "stream",
     "text": [
      "2\n",
      "4\n",
      "6\n",
      "çift sayıları yazdırma işlemi başarılı\n"
     ]
    }
   ],
   "source": [
    "for item in newList:\n",
    "    if(item%2==0):\n",
    "        print(item) \n",
    "print(\"çift sayıları yazdırma işlemi başarılı\")"
   ]
  },
  {
   "cell_type": "code",
   "execution_count": 86,
   "id": "1c40780d",
   "metadata": {},
   "outputs": [
    {
     "name": "stdout",
     "output_type": "stream",
     "text": [
      "1\n",
      "2\n",
      "3\n",
      "4\n",
      "5\n",
      "6\n",
      "7\n",
      "8\n",
      "9\n",
      "10\n"
     ]
    }
   ],
   "source": [
    "number=1\n",
    "while number<=10:\n",
    "    print(number)\n",
    "    number=number+1\n"
   ]
  },
  {
   "cell_type": "markdown",
   "id": "4cda4b6a",
   "metadata": {},
   "source": [
    "# ÖNEMLİ METOTLAR\n"
   ]
  },
  {
   "cell_type": "markdown",
   "id": "b0ff698b",
   "metadata": {},
   "source": [
    "range(başlangıç,bitiş,artış miktarı)\n",
    "shift+tab-->doc ortaya çıkar\n",
    "ramge yapısı aslında javadaki for döngüsünün yapısına çok benziyor\n"
   ]
  },
  {
   "cell_type": "code",
   "execution_count": 88,
   "id": "1253f62d",
   "metadata": {},
   "outputs": [
    {
     "data": {
      "text/plain": [
       "range(0, 15)"
      ]
     },
     "execution_count": 88,
     "metadata": {},
     "output_type": "execute_result"
    }
   ],
   "source": [
    "range(0,15)"
   ]
  },
  {
   "cell_type": "code",
   "execution_count": 91,
   "id": "fa31d0cb",
   "metadata": {},
   "outputs": [
    {
     "data": {
      "text/plain": [
       "[0, 1, 2, 3, 4, 5, 6, 7, 8, 9, 10, 11, 12, 13, 14, 15]"
      ]
     },
     "execution_count": 91,
     "metadata": {},
     "output_type": "execute_result"
    }
   ],
   "source": [
    "list(range(16))"
   ]
  },
  {
   "cell_type": "code",
   "execution_count": 94,
   "id": "cf10e39e",
   "metadata": {},
   "outputs": [
    {
     "name": "stdout",
     "output_type": "stream",
     "text": [
      "0 0\n",
      "1 5\n",
      "2 10\n",
      "3 15\n",
      "4 20\n",
      "5 25\n",
      "6 30\n",
      "7 35\n",
      "8 40\n",
      "9 45\n",
      "10 50\n",
      "11 55\n",
      "12 60\n",
      "13 65\n",
      "14 70\n",
      "15 75\n"
     ]
    }
   ],
   "source": [
    "for item in list(range(16)):\n",
    "    print(item,item*5)"
   ]
  },
  {
   "cell_type": "code",
   "execution_count": 96,
   "id": "efc37a43",
   "metadata": {},
   "outputs": [
    {
     "name": "stdout",
     "output_type": "stream",
     "text": [
      "0\n",
      "7\n",
      "14\n",
      "21\n",
      "28\n",
      "35\n",
      "42\n"
     ]
    }
   ],
   "source": [
    "for item in list(range(0,43,7)):\n",
    "    print(item)"
   ]
  },
  {
   "cell_type": "markdown",
   "id": "15855445",
   "metadata": {},
   "source": [
    "# ENUMERATE\n"
   ]
  },
  {
   "cell_type": "markdown",
   "id": "2f8f598b",
   "metadata": {},
   "source": [
    "bu metot ise parametre olarak bir koleksiyon alır mesela bir liste ve bu listenin elemanları ile elemanların indexlerini eşleştirir ve bu indexler ve elemanları bir tuple haline getirerek ekrana yazdırır "
   ]
  },
  {
   "cell_type": "code",
   "execution_count": 102,
   "id": "5aba824f",
   "metadata": {},
   "outputs": [
    {
     "name": "stdout",
     "output_type": "stream",
     "text": [
      "4\n",
      "5\n",
      "6\n",
      "7\n",
      "8\n",
      "9\n",
      "10\n",
      "11\n",
      "12\n",
      "13\n",
      "14\n",
      "15\n",
      "16\n"
     ]
    }
   ],
   "source": [
    "for item in enumerate(list(range(4,17))):\n",
    "    #print(type(item))-->tuple \n",
    "    print(item)"
   ]
  },
  {
   "cell_type": "markdown",
   "id": "61d5d498",
   "metadata": {},
   "source": [
    "#random\n"
   ]
  },
  {
   "cell_type": "markdown",
   "id": "0dee6212",
   "metadata": {},
   "source": [
    "# random\n"
   ]
  },
  {
   "cell_type": "code",
   "execution_count": 106,
   "id": "e5946a6c",
   "metadata": {},
   "outputs": [],
   "source": [
    "from random import randint"
   ]
  },
  {
   "cell_type": "code",
   "execution_count": 112,
   "id": "6880470e",
   "metadata": {},
   "outputs": [
    {
     "name": "stdout",
     "output_type": "stream",
     "text": [
      "Tahmininiz: 50\n",
      "Yukarı\n",
      "Tahmininiz: 75\n",
      "aşağı\n",
      "Tahmininiz: 62\n",
      "aşağı\n",
      "Tahmininiz: 56\n",
      "Yukarı\n",
      "Tahmininiz: 59\n",
      "aşağı\n",
      "Tahmininiz: 57\n",
      "Yukarı\n",
      "Tahmininiz: 58\n",
      "Doğru cevap\n"
     ]
    }
   ],
   "source": [
    "rastgele_sayi=randint(0,100)\n",
    "while True:\n",
    "    kullanici_giris=int(input(\"Tahmininiz: \"))\n",
    "    if(rastgele_sayi>kullanici_giris):\n",
    "        print(\"Yukarı\")\n",
    "    elif(rastgele_sayi<kullanici_giris):\n",
    "        print(\"aşağı\")\n",
    "    else:\n",
    "        print(\"Doğru cevap\")\n",
    "        break\n",
    "        \n",
    "    "
   ]
  },
  {
   "cell_type": "code",
   "execution_count": 113,
   "id": "8d4e7ef4",
   "metadata": {},
   "outputs": [],
   "source": [
    "from random import shuffle"
   ]
  },
  {
   "cell_type": "code",
   "execution_count": 118,
   "id": "eb076c5d",
   "metadata": {},
   "outputs": [
    {
     "data": {
      "text/plain": [
       "[2, 16, 9, 5, 13, 4, 3, 6, 12, 1, 18, 17, 11, 7, 0, 14, 10, 15, 19, 8]"
      ]
     },
     "execution_count": 118,
     "metadata": {},
     "output_type": "execute_result"
    }
   ],
   "source": [
    "myList=list(range(0,20))\n",
    "shuffle(myList)\n",
    "myList"
   ]
  },
  {
   "cell_type": "code",
   "execution_count": 1,
   "id": "b0823ad0",
   "metadata": {},
   "outputs": [],
   "source": [
    "yemekListesi=[\"muz\",\"ananas\",\"elma\"]\n",
    "kaloriListesi= [100,200,300]\n",
    "gunListesi=[\"pazartesi\",\"salı\",\"çarşamba\"]"
   ]
  },
  {
   "cell_type": "code",
   "execution_count": 3,
   "id": "360f66d8",
   "metadata": {},
   "outputs": [
    {
     "data": {
      "text/plain": [
       "zip"
      ]
     },
     "execution_count": 3,
     "metadata": {},
     "output_type": "execute_result"
    }
   ],
   "source": [
    "type(zip(yemekListesi,kaloriListesi,gunListesi))"
   ]
  },
  {
   "cell_type": "code",
   "execution_count": 6,
   "id": "97bf751b",
   "metadata": {},
   "outputs": [
    {
     "data": {
      "text/plain": [
       "[('muz', 100, 'pazartesi'), ('ananas', 200, 'salı'), ('elma', 300, 'çarşamba')]"
      ]
     },
     "execution_count": 6,
     "metadata": {},
     "output_type": "execute_result"
    }
   ],
   "source": [
    "zipList=list(zip(yemekListesi,kaloriListesi,gunListesi))"
   ]
  },
  {
   "cell_type": "code",
   "execution_count": 7,
   "id": "7d2b790b",
   "metadata": {},
   "outputs": [
    {
     "data": {
      "text/plain": [
       "tuple"
      ]
     },
     "execution_count": 7,
     "metadata": {},
     "output_type": "execute_result"
    }
   ],
   "source": [
    "type(list(zip(yemekListesi,kaloriListesi,gunListesi))[0])"
   ]
  },
  {
   "cell_type": "code",
   "execution_count": 12,
   "id": "2314de67",
   "metadata": {},
   "outputs": [
    {
     "name": "stdout",
     "output_type": "stream",
     "text": [
      "pazartesi günü muz yemelisiniz=>100 kaloridir\n",
      "salı günü ananas yemelisiniz=>200 kaloridir\n",
      "çarşamba günü elma yemelisiniz=>300 kaloridir\n"
     ]
    }
   ],
   "source": [
    "#zipList=list(zip(yemekListesi,kaloriListesi,gunListesi))\n",
    "for fruit,calori,day in zipList:\n",
    "    print(f\"{day} günü {fruit} yemelisiniz=>{calori} kaloridir\")\n",
    "    "
   ]
  },
  {
   "cell_type": "markdown",
   "id": "82c2444a",
   "metadata": {},
   "source": [
    "# LİSTELER İLERİ SEVİYE\n"
   ]
  },
  {
   "cell_type": "code",
   "execution_count": 15,
   "id": "eb5eca9c",
   "metadata": {},
   "outputs": [],
   "source": [
    "myStr=\"Gamze Aslan\"\n",
    "liste=list()"
   ]
  },
  {
   "cell_type": "code",
   "execution_count": 16,
   "id": "c4fdacba",
   "metadata": {},
   "outputs": [
    {
     "data": {
      "text/plain": [
       "['G', 'a', 'm', 'z', 'e', ' ', 'A', 's', 'l', 'a', 'n']"
      ]
     },
     "execution_count": 16,
     "metadata": {},
     "output_type": "execute_result"
    }
   ],
   "source": [
    "for item in myStr:\n",
    "    liste.append(item)\n",
    "liste"
   ]
  },
  {
   "cell_type": "code",
   "execution_count": 17,
   "id": "18abc92b",
   "metadata": {},
   "outputs": [],
   "source": [
    "newStr=\"Gamze Aslan\""
   ]
  },
  {
   "cell_type": "markdown",
   "id": "dc7ef2d4",
   "metadata": {},
   "source": [
    "[eleman for eleman in String]"
   ]
  },
  {
   "cell_type": "code",
   "execution_count": 18,
   "id": "cd154195",
   "metadata": {},
   "outputs": [],
   "source": [
    "newList=[item for item in newStr]"
   ]
  },
  {
   "cell_type": "code",
   "execution_count": 19,
   "id": "83e700de",
   "metadata": {},
   "outputs": [
    {
     "data": {
      "text/plain": [
       "['G', 'a', 'm', 'z', 'e', ' ', 'A', 's', 'l', 'a', 'n']"
      ]
     },
     "execution_count": 19,
     "metadata": {},
     "output_type": "execute_result"
    }
   ],
   "source": [
    "newList"
   ]
  },
  {
   "cell_type": "code",
   "execution_count": 20,
   "id": "19d5bf6a",
   "metadata": {},
   "outputs": [],
   "source": [
    "newTwoList=[number*5 for number in range(1,10)]"
   ]
  },
  {
   "cell_type": "code",
   "execution_count": 21,
   "id": "292a52bc",
   "metadata": {},
   "outputs": [
    {
     "data": {
      "text/plain": [
       "[5, 10, 15, 20, 25, 30, 35, 40, 45]"
      ]
     },
     "execution_count": 21,
     "metadata": {},
     "output_type": "execute_result"
    }
   ],
   "source": [
    "newTwoList"
   ]
  },
  {
   "cell_type": "markdown",
   "id": "298428e3",
   "metadata": {},
   "source": [
    "# FONKSİYONLAR"
   ]
  },
  {
   "cell_type": "code",
   "execution_count": 22,
   "id": "a04ccbc1",
   "metadata": {},
   "outputs": [],
   "source": [
    "str=\"Gamze Aslan\""
   ]
  },
  {
   "cell_type": "code",
   "execution_count": 23,
   "id": "7a2d535b",
   "metadata": {},
   "outputs": [
    {
     "data": {
      "text/plain": [
       "'GAMZE ASLAN'"
      ]
     },
     "execution_count": 23,
     "metadata": {},
     "output_type": "execute_result"
    }
   ],
   "source": [
    "str.upper()"
   ]
  },
  {
   "cell_type": "code",
   "execution_count": 4,
   "id": "7595e9b6",
   "metadata": {},
   "outputs": [],
   "source": [
    "def sayHello(name=\"user\"):\n",
    "    print(f\"Hello {name}\")\n",
    "    "
   ]
  },
  {
   "cell_type": "code",
   "execution_count": 5,
   "id": "3ac24c1f",
   "metadata": {},
   "outputs": [
    {
     "name": "stdout",
     "output_type": "stream",
     "text": [
      "Hello user\n"
     ]
    }
   ],
   "source": [
    "sayHello()"
   ]
  },
  {
   "cell_type": "code",
   "execution_count": 6,
   "id": "be1ecc79",
   "metadata": {},
   "outputs": [
    {
     "name": "stdout",
     "output_type": "stream",
     "text": [
      "Hello Gamze\n"
     ]
    }
   ],
   "source": [
    "sayHello(\"Gamze\")"
   ]
  },
  {
   "cell_type": "markdown",
   "id": "96b9d8e8",
   "metadata": {},
   "source": [
    "# args&kwargs\n"
   ]
  },
  {
   "cell_type": "code",
   "execution_count": 7,
   "id": "62617a39",
   "metadata": {},
   "outputs": [],
   "source": [
    "def newFunction(*args):\n",
    "    print(args)"
   ]
  },
  {
   "cell_type": "code",
   "execution_count": 9,
   "id": "47cf789c",
   "metadata": {},
   "outputs": [
    {
     "name": "stdout",
     "output_type": "stream",
     "text": [
      "(12, 23, 34, 5)\n"
     ]
    },
    {
     "data": {
      "text/plain": [
       "NoneType"
      ]
     },
     "execution_count": 9,
     "metadata": {},
     "output_type": "execute_result"
    }
   ],
   "source": [
    "type(newFunction(12,23,34,5))"
   ]
  },
  {
   "cell_type": "code",
   "execution_count": 10,
   "id": "aea30ad1",
   "metadata": {},
   "outputs": [],
   "source": [
    "def newFunction2(*args):\n",
    "    return args"
   ]
  },
  {
   "cell_type": "code",
   "execution_count": 12,
   "id": "502ced70",
   "metadata": {},
   "outputs": [
    {
     "data": {
      "text/plain": [
       "tuple"
      ]
     },
     "execution_count": 12,
     "metadata": {},
     "output_type": "execute_result"
    }
   ],
   "source": [
    "type(newFunction2(12,23,34,5))"
   ]
  },
  {
   "cell_type": "markdown",
   "id": "dc064528",
   "metadata": {},
   "source": [
    "    metot sınıflar içerisinde kullandığımız fonksiyonlardır"
   ]
  },
  {
   "cell_type": "markdown",
   "id": "78a6f396",
   "metadata": {},
   "source": [
    "    BÖLME FONKSİYONU TANIMLANDI"
   ]
  },
  {
   "cell_type": "code",
   "execution_count": 2,
   "id": "088fe97a",
   "metadata": {},
   "outputs": [],
   "source": [
    "def division(number):\n",
    "    return number/2"
   ]
  },
  {
   "cell_type": "markdown",
   "id": "4baaf1fb",
   "metadata": {},
   "source": [
    "    LİSTE OLUŞTURULDU"
   ]
  },
  {
   "cell_type": "code",
   "execution_count": 3,
   "id": "4530ea20",
   "metadata": {},
   "outputs": [],
   "source": [
    "myList=list()\n",
    "for i in range(1,11):\n",
    "    myList.append(i)"
   ]
  },
  {
   "cell_type": "code",
   "execution_count": 4,
   "id": "69594d97",
   "metadata": {},
   "outputs": [
    {
     "data": {
      "text/plain": [
       "[1, 2, 3, 4, 5, 6, 7, 8, 9, 10]"
      ]
     },
     "execution_count": 4,
     "metadata": {},
     "output_type": "execute_result"
    }
   ],
   "source": [
    "myList"
   ]
  },
  {
   "cell_type": "markdown",
   "id": "2bf45af9",
   "metadata": {},
   "source": [
    "    LİSTE ELEMALARINA BÖLME FONKSİYONU UYGULANARAK YENİ BİR LİSTENİN İÇİN         ATANDI"
   ]
  },
  {
   "cell_type": "code",
   "execution_count": 24,
   "id": "2e1907a7",
   "metadata": {},
   "outputs": [],
   "source": [
    "myList2=list()\n",
    "for item in myList:\n",
    "    myList2.append(division(item))\n",
    "    "
   ]
  },
  {
   "cell_type": "code",
   "execution_count": 21,
   "id": "594b5d5c",
   "metadata": {},
   "outputs": [
    {
     "data": {
      "text/plain": [
       "[1, 2, 3, 4, 5, 6, 7, 8, 9, 10]"
      ]
     },
     "execution_count": 21,
     "metadata": {},
     "output_type": "execute_result"
    }
   ],
   "source": [
    "myList"
   ]
  },
  {
   "cell_type": "code",
   "execution_count": 22,
   "id": "ab6456de",
   "metadata": {},
   "outputs": [
    {
     "data": {
      "text/plain": [
       "[0.5, 1.0, 1.5, 2.0, 2.5, 3.0, 3.5, 4.0, 4.5, 5.0]"
      ]
     },
     "execution_count": 22,
     "metadata": {},
     "output_type": "execute_result"
    }
   ],
   "source": [
    "myList2"
   ]
  },
  {
   "cell_type": "markdown",
   "id": "c5ad1eb2",
   "metadata": {},
   "source": [
    "# ÖNEMLİ FONKSİYONLAR"
   ]
  },
  {
   "cell_type": "markdown",
   "id": "f261c33d",
   "metadata": {},
   "source": [
    "MAP\n",
    "map(tabi tutulacak fonksiyon,neye uygulanacak)-->bir map objesi döndürür bu değeri listeye çevirebiliriz"
   ]
  },
  {
   "cell_type": "code",
   "execution_count": 6,
   "id": "691d43ad",
   "metadata": {},
   "outputs": [
    {
     "data": {
      "text/plain": [
       "['__class__',\n",
       " '__delattr__',\n",
       " '__dir__',\n",
       " '__doc__',\n",
       " '__eq__',\n",
       " '__format__',\n",
       " '__ge__',\n",
       " '__getattribute__',\n",
       " '__gt__',\n",
       " '__hash__',\n",
       " '__init__',\n",
       " '__init_subclass__',\n",
       " '__iter__',\n",
       " '__le__',\n",
       " '__lt__',\n",
       " '__ne__',\n",
       " '__new__',\n",
       " '__next__',\n",
       " '__reduce__',\n",
       " '__reduce_ex__',\n",
       " '__repr__',\n",
       " '__setattr__',\n",
       " '__sizeof__',\n",
       " '__str__',\n",
       " '__subclasshook__']"
      ]
     },
     "execution_count": 6,
     "metadata": {},
     "output_type": "execute_result"
    }
   ],
   "source": [
    "dir(map(division,myList))"
   ]
  },
  {
   "cell_type": "code",
   "execution_count": 2,
   "id": "1fd69ea2",
   "metadata": {},
   "outputs": [],
   "source": [
    "def control(str):\n",
    "    return \"a\" in str \n"
   ]
  },
  {
   "cell_type": "code",
   "execution_count": 3,
   "id": "7e929cc9",
   "metadata": {},
   "outputs": [],
   "source": [
    "strList=[\"atıl\",\"gamze\",\"atlas\",\"zeynep\",\"mehmet\",\"ahmet\",\"levent\"]"
   ]
  },
  {
   "cell_type": "code",
   "execution_count": 4,
   "id": "6d78f314",
   "metadata": {},
   "outputs": [
    {
     "data": {
      "text/plain": [
       "['atıl', 'gamze', 'atlas', 'ahmet']"
      ]
     },
     "execution_count": 4,
     "metadata": {},
     "output_type": "execute_result"
    }
   ],
   "source": [
    "list(filter(control,strList))"
   ]
  },
  {
   "cell_type": "markdown",
   "id": "51945f99",
   "metadata": {},
   "source": [
    "filter(uygulanıcak metot adı ,hangi listeye uygulanıcak)-->metoda uyan liste elemanlarını listeler"
   ]
  },
  {
   "cell_type": "markdown",
   "id": "8beeb161",
   "metadata": {},
   "source": [
    "lambda ise metotların tek satırda yazılmasını sağlar.Anonim fonksiyonlar tanımalamak için de kullanılır\n"
   ]
  },
  {
   "cell_type": "code",
   "execution_count": 12,
   "id": "bd40d568",
   "metadata": {},
   "outputs": [],
   "source": [
    "multiplication=lambda number : number * 3"
   ]
  },
  {
   "cell_type": "code",
   "execution_count": 13,
   "id": "25a1ec00",
   "metadata": {},
   "outputs": [
    {
     "data": {
      "text/plain": [
       "30"
      ]
     },
     "execution_count": 13,
     "metadata": {},
     "output_type": "execute_result"
    }
   ],
   "source": [
    "multiplication(10)"
   ]
  },
  {
   "cell_type": "code",
   "execution_count": 14,
   "id": "bf3c40ae",
   "metadata": {},
   "outputs": [],
   "source": [
    "sampleList=[10,20,30]"
   ]
  },
  {
   "cell_type": "code",
   "execution_count": 15,
   "id": "95503dfa",
   "metadata": {
    "scrolled": true
   },
   "outputs": [
    {
     "data": {
      "text/plain": [
       "[40, 80, 120]"
      ]
     },
     "execution_count": 15,
     "metadata": {},
     "output_type": "execute_result"
    }
   ],
   "source": [
    "list(map(lambda number:number*4,sampleList))"
   ]
  },
  {
   "cell_type": "markdown",
   "id": "ece3c34b",
   "metadata": {},
   "source": [
    "# SCOPE\n"
   ]
  },
  {
   "cell_type": "code",
   "execution_count": 26,
   "id": "e1fb6f0e",
   "metadata": {},
   "outputs": [
    {
     "data": {
      "text/plain": [
       "10"
      ]
     },
     "execution_count": 26,
     "metadata": {},
     "output_type": "execute_result"
    }
   ],
   "source": [
    "number=10\n",
    "def scope():\n",
    "    number=12\n",
    "    print(number)\n",
    "number\n",
    "\n",
    "    "
   ]
  },
  {
   "cell_type": "code",
   "execution_count": 18,
   "id": "2ebd13a3",
   "metadata": {},
   "outputs": [
    {
     "name": "stdout",
     "output_type": "stream",
     "text": [
      "10\n"
     ]
    }
   ],
   "source": [
    "scope()"
   ]
  },
  {
   "cell_type": "markdown",
   "id": "77690c97",
   "metadata": {},
   "source": [
    "local ,enclosing(çevreleyen),global,built-in(yerleşik)      "
   ]
  },
  {
   "cell_type": "code",
   "execution_count": 37,
   "id": "b4d628fe",
   "metadata": {},
   "outputs": [
    {
     "name": "stdout",
     "output_type": "stream",
     "text": [
      "Gamze Global\n",
      "Gamze Enclosing\n",
      "Gamze Local\n"
     ]
    }
   ],
   "source": [
    "myName=\"Gamze Global\"\n",
    "#Global Attribute\n",
    "\n",
    "def myFunction():\n",
    "    myName=\"Gamze Enclosing\"\n",
    "    #Enclosing(çevreleyen) Attribute\n",
    "    \n",
    "    def internalFunction():\n",
    "        myName=\"Gamze Local\"\n",
    "        #Local Attribute\n",
    "        print(myName)#local\n",
    "        \n",
    "    print(myName)#enclosing\n",
    "    internalFunction()\n",
    "    \n",
    "print(myName)#global\n",
    "\n",
    "#değişkenler içten dışa doğru okunur yani eğer local değişken yoksa enclosing\n",
    "#enclosing yoksa global değişken ekrana yazdırılır \n",
    "#eğer globalde de yoksa built-in yani python da böyle bir yapı var mı diye balıcak\n",
    "#eğer pythonında da yoksa error verir\n",
    "#bir üst seviyede tanımlana değişken bir altta kullanılanibiliniyor\n",
    "myFunction()\n",
    "        "
   ]
  },
  {
   "cell_type": "code",
   "execution_count": 39,
   "id": "f1bf4def",
   "metadata": {},
   "outputs": [],
   "source": [
    "y=10\n",
    "def newFunc(y):\n",
    "    print(y)\n",
    "    y=5\n",
    "    print(y)\n",
    "    return y"
   ]
  },
  {
   "cell_type": "code",
   "execution_count": 40,
   "id": "9d5bd13b",
   "metadata": {},
   "outputs": [
    {
     "name": "stdout",
     "output_type": "stream",
     "text": [
      "8\n",
      "5\n"
     ]
    },
    {
     "data": {
      "text/plain": [
       "5"
      ]
     },
     "execution_count": 40,
     "metadata": {},
     "output_type": "execute_result"
    }
   ],
   "source": [
    "newFunc(8)"
   ]
  },
  {
   "cell_type": "code",
   "execution_count": 41,
   "id": "daeb21f8",
   "metadata": {},
   "outputs": [],
   "source": [
    "y=10\n",
    "def sampleFunc():\n",
    "    global y\n",
    "    y=8\n",
    "    print(y)"
   ]
  },
  {
   "cell_type": "code",
   "execution_count": 42,
   "id": "1e102634",
   "metadata": {},
   "outputs": [
    {
     "name": "stdout",
     "output_type": "stream",
     "text": [
      "8\n"
     ]
    }
   ],
   "source": [
    "sampleFunc()"
   ]
  },
  {
   "cell_type": "code",
   "execution_count": 43,
   "id": "020afb91",
   "metadata": {},
   "outputs": [
    {
     "data": {
      "text/plain": [
       "8"
      ]
     },
     "execution_count": 43,
     "metadata": {},
     "output_type": "execute_result"
    }
   ],
   "source": [
    "y"
   ]
  },
  {
   "cell_type": "code",
   "execution_count": 62,
   "id": "c9965554",
   "metadata": {},
   "outputs": [],
   "source": [
    "def calculator(number1,number2,operation):\n",
    "    if operation==\"+\":\n",
    "        print(f\"{number1} + {number2} = {number1+number2}\")\n",
    "    elif operation==\"-\":\n",
    "        print(f\"{number1} - {number2} = {number1-number2}\")\n",
    "    elif operation==\"*\":\n",
    "        print(f\"{number1} * {number2} = {number1*number2}\")\n",
    "    elif operation==\"/\":\n",
    "        print(f\"{number1} / {number2} = {number1/number2}\")\n",
    "    else:\n",
    "        print(\"Yanlış tuşlama yaptınız \")"
   ]
  },
  {
   "cell_type": "code",
   "execution_count": 63,
   "id": "c13ed754",
   "metadata": {},
   "outputs": [
    {
     "name": "stdout",
     "output_type": "stream",
     "text": [
      "1.sayı: 12\n",
      "2.sayı: 12\n",
      "işlemi giriniz (+ - * / ): +\n",
      "12 + 12 = 24\n"
     ]
    }
   ],
   "source": [
    "number1=int(input(\"1.sayı: \"))\n",
    "number2=int(input(\"2.sayı: \"))\n",
    "islemNo=input(\"işlemi giriniz (+ - * / ): \")\n",
    "calculator(number1,number2,islemNo)"
   ]
  },
  {
   "cell_type": "markdown",
   "id": "88e2a864",
   "metadata": {},
   "source": [
    "error handling->hata yönetimi"
   ]
  },
  {
   "cell_type": "code",
   "execution_count": null,
   "id": "008a4f83",
   "metadata": {},
   "outputs": [],
   "source": []
  }
 ],
 "metadata": {
  "kernelspec": {
   "display_name": "Python 3 (ipykernel)",
   "language": "python",
   "name": "python3"
  },
  "language_info": {
   "codemirror_mode": {
    "name": "ipython",
    "version": 3
   },
   "file_extension": ".py",
   "mimetype": "text/x-python",
   "name": "python",
   "nbconvert_exporter": "python",
   "pygments_lexer": "ipython3",
   "version": "3.9.13"
  }
 },
 "nbformat": 4,
 "nbformat_minor": 5
}
