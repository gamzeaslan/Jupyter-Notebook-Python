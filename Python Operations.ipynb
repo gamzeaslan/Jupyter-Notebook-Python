{
 "cells": [
  {
   "cell_type": "markdown",
   "id": "d6c28c04",
   "metadata": {},
   "source": [
    "EKSİK VERİLER(MISSING DATA-KAYIP VERİ)"
   ]
  },
  {
   "cell_type": "code",
   "execution_count": 220,
   "id": "6682709a",
   "metadata": {},
   "outputs": [],
   "source": [
    "import numpy as np\n",
    "import pandas as pd"
   ]
  },
  {
   "cell_type": "code",
   "execution_count": 221,
   "id": "fcd71da0",
   "metadata": {},
   "outputs": [],
   "source": [
    "#Hava Durumları İle İlgili Bir DataFrame Oluşturalım"
   ]
  },
  {
   "cell_type": "code",
   "execution_count": 222,
   "id": "79826a8c",
   "metadata": {},
   "outputs": [],
   "source": [
    "weatherForecastDic={\"İstanbul\":[30,29,np.nan,28],\n",
    "                    \"Ankara\":[20,np.nan,25,21],\n",
    "                    \"İzmir\":[35,32,29,31],\n",
    "                    \"Antalya\":[32,np.nan,34,np.nan]}"
   ]
  },
  {
   "cell_type": "code",
   "execution_count": 223,
   "id": "a6e797cd",
   "metadata": {},
   "outputs": [],
   "source": [
    "weatherForecastDataFrame=pd.DataFrame(weatherForecastDic)"
   ]
  },
  {
   "cell_type": "code",
   "execution_count": 224,
   "id": "18ab9cdb",
   "metadata": {},
   "outputs": [
    {
     "data": {
      "text/html": [
       "<div>\n",
       "<style scoped>\n",
       "    .dataframe tbody tr th:only-of-type {\n",
       "        vertical-align: middle;\n",
       "    }\n",
       "\n",
       "    .dataframe tbody tr th {\n",
       "        vertical-align: top;\n",
       "    }\n",
       "\n",
       "    .dataframe thead th {\n",
       "        text-align: right;\n",
       "    }\n",
       "</style>\n",
       "<table border=\"1\" class=\"dataframe\">\n",
       "  <thead>\n",
       "    <tr style=\"text-align: right;\">\n",
       "      <th></th>\n",
       "      <th>İstanbul</th>\n",
       "      <th>Ankara</th>\n",
       "      <th>İzmir</th>\n",
       "      <th>Antalya</th>\n",
       "    </tr>\n",
       "  </thead>\n",
       "  <tbody>\n",
       "    <tr>\n",
       "      <th>0</th>\n",
       "      <td>30.0</td>\n",
       "      <td>20.0</td>\n",
       "      <td>35</td>\n",
       "      <td>32.0</td>\n",
       "    </tr>\n",
       "    <tr>\n",
       "      <th>1</th>\n",
       "      <td>29.0</td>\n",
       "      <td>NaN</td>\n",
       "      <td>32</td>\n",
       "      <td>NaN</td>\n",
       "    </tr>\n",
       "    <tr>\n",
       "      <th>2</th>\n",
       "      <td>NaN</td>\n",
       "      <td>25.0</td>\n",
       "      <td>29</td>\n",
       "      <td>34.0</td>\n",
       "    </tr>\n",
       "    <tr>\n",
       "      <th>3</th>\n",
       "      <td>28.0</td>\n",
       "      <td>21.0</td>\n",
       "      <td>31</td>\n",
       "      <td>NaN</td>\n",
       "    </tr>\n",
       "  </tbody>\n",
       "</table>\n",
       "</div>"
      ],
      "text/plain": [
       "   İstanbul  Ankara  İzmir  Antalya\n",
       "0      30.0    20.0     35     32.0\n",
       "1      29.0     NaN     32      NaN\n",
       "2       NaN    25.0     29     34.0\n",
       "3      28.0    21.0     31      NaN"
      ]
     },
     "execution_count": 224,
     "metadata": {},
     "output_type": "execute_result"
    }
   ],
   "source": [
    "weatherForecastDataFrame"
   ]
  },
  {
   "cell_type": "code",
   "execution_count": 225,
   "id": "88e6203f",
   "metadata": {},
   "outputs": [],
   "source": [
    "#eğer row bazlı olarak nan değer içerenleri kaldırmak istersek"
   ]
  },
  {
   "cell_type": "code",
   "execution_count": 226,
   "id": "17071e55",
   "metadata": {},
   "outputs": [
    {
     "data": {
      "text/html": [
       "<div>\n",
       "<style scoped>\n",
       "    .dataframe tbody tr th:only-of-type {\n",
       "        vertical-align: middle;\n",
       "    }\n",
       "\n",
       "    .dataframe tbody tr th {\n",
       "        vertical-align: top;\n",
       "    }\n",
       "\n",
       "    .dataframe thead th {\n",
       "        text-align: right;\n",
       "    }\n",
       "</style>\n",
       "<table border=\"1\" class=\"dataframe\">\n",
       "  <thead>\n",
       "    <tr style=\"text-align: right;\">\n",
       "      <th></th>\n",
       "      <th>İstanbul</th>\n",
       "      <th>Ankara</th>\n",
       "      <th>İzmir</th>\n",
       "      <th>Antalya</th>\n",
       "    </tr>\n",
       "  </thead>\n",
       "  <tbody>\n",
       "    <tr>\n",
       "      <th>0</th>\n",
       "      <td>30.0</td>\n",
       "      <td>20.0</td>\n",
       "      <td>35</td>\n",
       "      <td>32.0</td>\n",
       "    </tr>\n",
       "  </tbody>\n",
       "</table>\n",
       "</div>"
      ],
      "text/plain": [
       "   İstanbul  Ankara  İzmir  Antalya\n",
       "0      30.0    20.0     35     32.0"
      ]
     },
     "execution_count": 226,
     "metadata": {},
     "output_type": "execute_result"
    }
   ],
   "source": [
    "weatherForecastDataFrame.dropna()#bununla nan değer içerinleri kaldırırız(row bazlı olarak)"
   ]
  },
  {
   "cell_type": "code",
   "execution_count": 227,
   "id": "b559a39c",
   "metadata": {},
   "outputs": [],
   "source": [
    "#eğer kolon bazlı nan değerleri içeren kolonları kaldırmak istersek"
   ]
  },
  {
   "cell_type": "code",
   "execution_count": 228,
   "id": "6157e88f",
   "metadata": {},
   "outputs": [
    {
     "data": {
      "text/html": [
       "<div>\n",
       "<style scoped>\n",
       "    .dataframe tbody tr th:only-of-type {\n",
       "        vertical-align: middle;\n",
       "    }\n",
       "\n",
       "    .dataframe tbody tr th {\n",
       "        vertical-align: top;\n",
       "    }\n",
       "\n",
       "    .dataframe thead th {\n",
       "        text-align: right;\n",
       "    }\n",
       "</style>\n",
       "<table border=\"1\" class=\"dataframe\">\n",
       "  <thead>\n",
       "    <tr style=\"text-align: right;\">\n",
       "      <th></th>\n",
       "      <th>İzmir</th>\n",
       "    </tr>\n",
       "  </thead>\n",
       "  <tbody>\n",
       "    <tr>\n",
       "      <th>0</th>\n",
       "      <td>35</td>\n",
       "    </tr>\n",
       "    <tr>\n",
       "      <th>1</th>\n",
       "      <td>32</td>\n",
       "    </tr>\n",
       "    <tr>\n",
       "      <th>2</th>\n",
       "      <td>29</td>\n",
       "    </tr>\n",
       "    <tr>\n",
       "      <th>3</th>\n",
       "      <td>31</td>\n",
       "    </tr>\n",
       "  </tbody>\n",
       "</table>\n",
       "</div>"
      ],
      "text/plain": [
       "   İzmir\n",
       "0     35\n",
       "1     32\n",
       "2     29\n",
       "3     31"
      ]
     },
     "execution_count": 228,
     "metadata": {},
     "output_type": "execute_result"
    }
   ],
   "source": [
    "weatherForecastDataFrame.dropna(axis=1)"
   ]
  },
  {
   "cell_type": "code",
   "execution_count": 229,
   "id": "a24d14a9",
   "metadata": {},
   "outputs": [],
   "source": [
    "#aynı verileri içeren yeni bir dataframe oluşturalım"
   ]
  },
  {
   "cell_type": "code",
   "execution_count": 230,
   "id": "996eb7ed",
   "metadata": {},
   "outputs": [],
   "source": [
    "weatherForecastDataFrame2=pd.DataFrame(weatherForecastDic)"
   ]
  },
  {
   "cell_type": "code",
   "execution_count": 231,
   "id": "52c232e4",
   "metadata": {},
   "outputs": [
    {
     "data": {
      "text/html": [
       "<div>\n",
       "<style scoped>\n",
       "    .dataframe tbody tr th:only-of-type {\n",
       "        vertical-align: middle;\n",
       "    }\n",
       "\n",
       "    .dataframe tbody tr th {\n",
       "        vertical-align: top;\n",
       "    }\n",
       "\n",
       "    .dataframe thead th {\n",
       "        text-align: right;\n",
       "    }\n",
       "</style>\n",
       "<table border=\"1\" class=\"dataframe\">\n",
       "  <thead>\n",
       "    <tr style=\"text-align: right;\">\n",
       "      <th></th>\n",
       "      <th>İstanbul</th>\n",
       "      <th>Ankara</th>\n",
       "      <th>İzmir</th>\n",
       "      <th>Antalya</th>\n",
       "    </tr>\n",
       "  </thead>\n",
       "  <tbody>\n",
       "    <tr>\n",
       "      <th>0</th>\n",
       "      <td>30.0</td>\n",
       "      <td>20.0</td>\n",
       "      <td>35</td>\n",
       "      <td>32.0</td>\n",
       "    </tr>\n",
       "    <tr>\n",
       "      <th>1</th>\n",
       "      <td>29.0</td>\n",
       "      <td>NaN</td>\n",
       "      <td>32</td>\n",
       "      <td>NaN</td>\n",
       "    </tr>\n",
       "    <tr>\n",
       "      <th>2</th>\n",
       "      <td>NaN</td>\n",
       "      <td>25.0</td>\n",
       "      <td>29</td>\n",
       "      <td>34.0</td>\n",
       "    </tr>\n",
       "    <tr>\n",
       "      <th>3</th>\n",
       "      <td>28.0</td>\n",
       "      <td>21.0</td>\n",
       "      <td>31</td>\n",
       "      <td>NaN</td>\n",
       "    </tr>\n",
       "  </tbody>\n",
       "</table>\n",
       "</div>"
      ],
      "text/plain": [
       "   İstanbul  Ankara  İzmir  Antalya\n",
       "0      30.0    20.0     35     32.0\n",
       "1      29.0     NaN     32      NaN\n",
       "2       NaN    25.0     29     34.0\n",
       "3      28.0    21.0     31      NaN"
      ]
     },
     "execution_count": 231,
     "metadata": {},
     "output_type": "execute_result"
    }
   ],
   "source": [
    "weatherForecastDataFrame2"
   ]
  },
  {
   "cell_type": "code",
   "execution_count": 232,
   "id": "86041cee",
   "metadata": {},
   "outputs": [],
   "source": [
    "#eğer kolonlarda 2 ve üzeri nan değer içeren varsa sadece onları kaldırmak için:"
   ]
  },
  {
   "cell_type": "code",
   "execution_count": 233,
   "id": "161bf3a3",
   "metadata": {},
   "outputs": [
    {
     "data": {
      "text/html": [
       "<div>\n",
       "<style scoped>\n",
       "    .dataframe tbody tr th:only-of-type {\n",
       "        vertical-align: middle;\n",
       "    }\n",
       "\n",
       "    .dataframe tbody tr th {\n",
       "        vertical-align: top;\n",
       "    }\n",
       "\n",
       "    .dataframe thead th {\n",
       "        text-align: right;\n",
       "    }\n",
       "</style>\n",
       "<table border=\"1\" class=\"dataframe\">\n",
       "  <thead>\n",
       "    <tr style=\"text-align: right;\">\n",
       "      <th></th>\n",
       "      <th>İstanbul</th>\n",
       "      <th>Ankara</th>\n",
       "      <th>İzmir</th>\n",
       "    </tr>\n",
       "  </thead>\n",
       "  <tbody>\n",
       "    <tr>\n",
       "      <th>0</th>\n",
       "      <td>30.0</td>\n",
       "      <td>20.0</td>\n",
       "      <td>35</td>\n",
       "    </tr>\n",
       "    <tr>\n",
       "      <th>1</th>\n",
       "      <td>29.0</td>\n",
       "      <td>NaN</td>\n",
       "      <td>32</td>\n",
       "    </tr>\n",
       "    <tr>\n",
       "      <th>2</th>\n",
       "      <td>NaN</td>\n",
       "      <td>25.0</td>\n",
       "      <td>29</td>\n",
       "    </tr>\n",
       "    <tr>\n",
       "      <th>3</th>\n",
       "      <td>28.0</td>\n",
       "      <td>21.0</td>\n",
       "      <td>31</td>\n",
       "    </tr>\n",
       "  </tbody>\n",
       "</table>\n",
       "</div>"
      ],
      "text/plain": [
       "   İstanbul  Ankara  İzmir\n",
       "0      30.0    20.0     35\n",
       "1      29.0     NaN     32\n",
       "2       NaN    25.0     29\n",
       "3      28.0    21.0     31"
      ]
     },
     "execution_count": 233,
     "metadata": {},
     "output_type": "execute_result"
    }
   ],
   "source": [
    "weatherForecastDataFrame2.dropna(axis=1,thresh=max(2,3))#burada thresh=2 işe yaramadı \n",
    "#thresh yani kaça kadar anlımında kullanılmaktadır"
   ]
  },
  {
   "cell_type": "code",
   "execution_count": 234,
   "id": "8b2e0092",
   "metadata": {},
   "outputs": [],
   "source": [
    "#Eğer boş değerlerin hepsine toplu bir değer ataması gerçekleştirmek istiyorsak:"
   ]
  },
  {
   "cell_type": "code",
   "execution_count": 235,
   "id": "5c43ce00",
   "metadata": {},
   "outputs": [
    {
     "data": {
      "text/html": [
       "<div>\n",
       "<style scoped>\n",
       "    .dataframe tbody tr th:only-of-type {\n",
       "        vertical-align: middle;\n",
       "    }\n",
       "\n",
       "    .dataframe tbody tr th {\n",
       "        vertical-align: top;\n",
       "    }\n",
       "\n",
       "    .dataframe thead th {\n",
       "        text-align: right;\n",
       "    }\n",
       "</style>\n",
       "<table border=\"1\" class=\"dataframe\">\n",
       "  <thead>\n",
       "    <tr style=\"text-align: right;\">\n",
       "      <th></th>\n",
       "      <th>İstanbul</th>\n",
       "      <th>Ankara</th>\n",
       "      <th>İzmir</th>\n",
       "      <th>Antalya</th>\n",
       "    </tr>\n",
       "  </thead>\n",
       "  <tbody>\n",
       "    <tr>\n",
       "      <th>0</th>\n",
       "      <td>30.0</td>\n",
       "      <td>20.0</td>\n",
       "      <td>35</td>\n",
       "      <td>32.0</td>\n",
       "    </tr>\n",
       "    <tr>\n",
       "      <th>1</th>\n",
       "      <td>29.0</td>\n",
       "      <td>25.0</td>\n",
       "      <td>32</td>\n",
       "      <td>25.0</td>\n",
       "    </tr>\n",
       "    <tr>\n",
       "      <th>2</th>\n",
       "      <td>25.0</td>\n",
       "      <td>25.0</td>\n",
       "      <td>29</td>\n",
       "      <td>34.0</td>\n",
       "    </tr>\n",
       "    <tr>\n",
       "      <th>3</th>\n",
       "      <td>28.0</td>\n",
       "      <td>21.0</td>\n",
       "      <td>31</td>\n",
       "      <td>25.0</td>\n",
       "    </tr>\n",
       "  </tbody>\n",
       "</table>\n",
       "</div>"
      ],
      "text/plain": [
       "   İstanbul  Ankara  İzmir  Antalya\n",
       "0      30.0    20.0     35     32.0\n",
       "1      29.0    25.0     32     25.0\n",
       "2      25.0    25.0     29     34.0\n",
       "3      28.0    21.0     31     25.0"
      ]
     },
     "execution_count": 235,
     "metadata": {},
     "output_type": "execute_result"
    }
   ],
   "source": [
    "weatherForecastDataFrame.fillna(25)\n",
    "#burada hepsine aynı değeri atamak yerine o kolonun ortalamasını hesaplayıp ,boş değerlere kolonların ortalamasıni baz alarak\n",
    "#atama yapmamız gerekmez mi??--->Peki bunu nasıl yapacağız"
   ]
  },
  {
   "cell_type": "markdown",
   "id": "5c3d88c5",
   "metadata": {},
   "source": [
    "GROPU BY --->GRUPLANDIRMAK"
   ]
  },
  {
   "cell_type": "markdown",
   "id": "2fa084ef",
   "metadata": {},
   "source": [
    "rowları gruplar\n",
    "Sözlükten dataframe aktarmak kolay oluyor"
   ]
  },
  {
   "cell_type": "code",
   "execution_count": 236,
   "id": "3903bc49",
   "metadata": {},
   "outputs": [],
   "source": [
    "#group by alternatifi multi indextir ancak eğer büyük bir veri seti \n",
    "#üzerinde çalışıyorsak multi indekleme işlemi uzun zaman alabilir\n",
    "#bunun için group bu kullanılır"
   ]
  },
  {
   "cell_type": "code",
   "execution_count": 237,
   "id": "0a0d973b",
   "metadata": {},
   "outputs": [],
   "source": [
    "#önce yeni bir dataframe oluşturmadan önce bir dic oluşturalım\n",
    "salaryDic={\"Department\":[\"Yazılım\",\"Yazılım\",\"Pazarlama\",\"Pazarlama\",\"İK\",\"İK\"],\n",
    "          \"Worker Name\":[\"Ahmet\",\"Mehmet\",\"Atıl\",\"Burak\",\"Zeynep\",\"Fatma\"],\n",
    "          \"Salary\":[5000,6000,4500,3500,3000,2500]}"
   ]
  },
  {
   "cell_type": "code",
   "execution_count": 238,
   "id": "62a0dc15",
   "metadata": {},
   "outputs": [],
   "source": [
    "salaryDataFrame=pd.DataFrame(salaryDic)"
   ]
  },
  {
   "cell_type": "code",
   "execution_count": 239,
   "id": "aa70947e",
   "metadata": {},
   "outputs": [
    {
     "data": {
      "text/html": [
       "<div>\n",
       "<style scoped>\n",
       "    .dataframe tbody tr th:only-of-type {\n",
       "        vertical-align: middle;\n",
       "    }\n",
       "\n",
       "    .dataframe tbody tr th {\n",
       "        vertical-align: top;\n",
       "    }\n",
       "\n",
       "    .dataframe thead th {\n",
       "        text-align: right;\n",
       "    }\n",
       "</style>\n",
       "<table border=\"1\" class=\"dataframe\">\n",
       "  <thead>\n",
       "    <tr style=\"text-align: right;\">\n",
       "      <th></th>\n",
       "      <th>Department</th>\n",
       "      <th>Worker Name</th>\n",
       "      <th>Salary</th>\n",
       "    </tr>\n",
       "  </thead>\n",
       "  <tbody>\n",
       "    <tr>\n",
       "      <th>0</th>\n",
       "      <td>Yazılım</td>\n",
       "      <td>Ahmet</td>\n",
       "      <td>5000</td>\n",
       "    </tr>\n",
       "    <tr>\n",
       "      <th>1</th>\n",
       "      <td>Yazılım</td>\n",
       "      <td>Mehmet</td>\n",
       "      <td>6000</td>\n",
       "    </tr>\n",
       "    <tr>\n",
       "      <th>2</th>\n",
       "      <td>Pazarlama</td>\n",
       "      <td>Atıl</td>\n",
       "      <td>4500</td>\n",
       "    </tr>\n",
       "    <tr>\n",
       "      <th>3</th>\n",
       "      <td>Pazarlama</td>\n",
       "      <td>Burak</td>\n",
       "      <td>3500</td>\n",
       "    </tr>\n",
       "    <tr>\n",
       "      <th>4</th>\n",
       "      <td>İK</td>\n",
       "      <td>Zeynep</td>\n",
       "      <td>3000</td>\n",
       "    </tr>\n",
       "    <tr>\n",
       "      <th>5</th>\n",
       "      <td>İK</td>\n",
       "      <td>Fatma</td>\n",
       "      <td>2500</td>\n",
       "    </tr>\n",
       "  </tbody>\n",
       "</table>\n",
       "</div>"
      ],
      "text/plain": [
       "  Department Worker Name  Salary\n",
       "0    Yazılım       Ahmet    5000\n",
       "1    Yazılım      Mehmet    6000\n",
       "2  Pazarlama        Atıl    4500\n",
       "3  Pazarlama       Burak    3500\n",
       "4         İK      Zeynep    3000\n",
       "5         İK       Fatma    2500"
      ]
     },
     "execution_count": 239,
     "metadata": {},
     "output_type": "execute_result"
    }
   ],
   "source": [
    "salaryDataFrame"
   ]
  },
  {
   "cell_type": "code",
   "execution_count": 240,
   "id": "d57baa05",
   "metadata": {},
   "outputs": [],
   "source": [
    "#eğer departman bazlı olarak satırları gruplamak istersek"
   ]
  },
  {
   "cell_type": "code",
   "execution_count": 241,
   "id": "7821a862",
   "metadata": {},
   "outputs": [],
   "source": [
    "salaryDataFrameGroupBy=salaryDataFrame.groupby(\"Department\")#-->DataFrameGroupBy object oluşturuldu"
   ]
  },
  {
   "cell_type": "code",
   "execution_count": 242,
   "id": "b13ab5a8",
   "metadata": {},
   "outputs": [
    {
     "data": {
      "text/plain": [
       "<pandas.core.groupby.generic.DataFrameGroupBy object at 0x000001394FBB09D0>"
      ]
     },
     "execution_count": 242,
     "metadata": {},
     "output_type": "execute_result"
    }
   ],
   "source": [
    "salaryDataFrameGroupBy#bu bir nesne olduğundan çıktı olarak bir nesne veriyor "
   ]
  },
  {
   "cell_type": "code",
   "execution_count": 243,
   "id": "9610b9c5",
   "metadata": {},
   "outputs": [
    {
     "data": {
      "text/plain": [
       "['Department',\n",
       " 'Salary',\n",
       " '__annotations__',\n",
       " '__class__',\n",
       " '__class_getitem__',\n",
       " '__delattr__',\n",
       " '__dict__',\n",
       " '__dir__',\n",
       " '__doc__',\n",
       " '__eq__',\n",
       " '__format__',\n",
       " '__ge__',\n",
       " '__getattr__',\n",
       " '__getattribute__',\n",
       " '__getitem__',\n",
       " '__gt__',\n",
       " '__hash__',\n",
       " '__init__',\n",
       " '__init_subclass__',\n",
       " '__iter__',\n",
       " '__le__',\n",
       " '__len__',\n",
       " '__lt__',\n",
       " '__module__',\n",
       " '__ne__',\n",
       " '__new__',\n",
       " '__orig_bases__',\n",
       " '__parameters__',\n",
       " '__reduce__',\n",
       " '__reduce_ex__',\n",
       " '__repr__',\n",
       " '__setattr__',\n",
       " '__sizeof__',\n",
       " '__slots__',\n",
       " '__str__',\n",
       " '__subclasshook__',\n",
       " '__weakref__',\n",
       " '_accessors',\n",
       " '_agg_examples_doc',\n",
       " '_agg_general',\n",
       " '_agg_py_fallback',\n",
       " '_aggregate_frame',\n",
       " '_aggregate_item_by_item',\n",
       " '_aggregate_with_numba',\n",
       " '_apply_allowlist',\n",
       " '_apply_filter',\n",
       " '_apply_to_column_groupbys',\n",
       " '_ascending_count',\n",
       " '_bool_agg',\n",
       " '_can_use_transform_fast',\n",
       " '_choose_path',\n",
       " '_concat_objects',\n",
       " '_constructor',\n",
       " '_cumcount_array',\n",
       " '_cython_agg_general',\n",
       " '_cython_transform',\n",
       " '_define_paths',\n",
       " '_descending_count',\n",
       " '_dir_additions',\n",
       " '_dir_deletions',\n",
       " '_fill',\n",
       " '_get_cythonized_result',\n",
       " '_get_data_to_aggregate',\n",
       " '_get_index',\n",
       " '_get_indices',\n",
       " '_gotitem',\n",
       " '_group_selection',\n",
       " '_group_selection_context',\n",
       " '_hidden_attrs',\n",
       " '_indexed_output_to_ndframe',\n",
       " '_insert_inaxis_grouper_inplace',\n",
       " '_internal_names',\n",
       " '_internal_names_set',\n",
       " '_is_protocol',\n",
       " '_iterate_column_groupbys',\n",
       " '_iterate_slices',\n",
       " '_make_mask_from_int',\n",
       " '_make_mask_from_list',\n",
       " '_make_mask_from_positional_indexer',\n",
       " '_make_mask_from_slice',\n",
       " '_make_mask_from_tuple',\n",
       " '_make_wrapper',\n",
       " '_mask_selected_obj',\n",
       " '_numba_agg_general',\n",
       " '_numba_prep',\n",
       " '_obj_1d_constructor',\n",
       " '_obj_with_exclusions',\n",
       " '_positional_selector',\n",
       " '_python_agg_general',\n",
       " '_python_apply_general',\n",
       " '_reindex_output',\n",
       " '_reset_cache',\n",
       " '_reset_group_selection',\n",
       " '_resolve_numeric_only',\n",
       " '_selected_obj',\n",
       " '_selection',\n",
       " '_selection_list',\n",
       " '_set_group_selection',\n",
       " '_set_result_index_ordered',\n",
       " '_transform',\n",
       " '_transform_general',\n",
       " '_transform_item_by_item',\n",
       " '_transform_with_numba',\n",
       " '_wrap_agged_manager',\n",
       " '_wrap_aggregated_output',\n",
       " '_wrap_applied_output',\n",
       " '_wrap_applied_output_series',\n",
       " '_wrap_transform_fast_result',\n",
       " '_wrap_transformed_output',\n",
       " 'agg',\n",
       " 'aggregate',\n",
       " 'all',\n",
       " 'any',\n",
       " 'apply',\n",
       " 'backfill',\n",
       " 'bfill',\n",
       " 'boxplot',\n",
       " 'corr',\n",
       " 'corrwith',\n",
       " 'count',\n",
       " 'cov',\n",
       " 'cumcount',\n",
       " 'cummax',\n",
       " 'cummin',\n",
       " 'cumprod',\n",
       " 'cumsum',\n",
       " 'describe',\n",
       " 'diff',\n",
       " 'dtypes',\n",
       " 'ewm',\n",
       " 'expanding',\n",
       " 'ffill',\n",
       " 'fillna',\n",
       " 'filter',\n",
       " 'first',\n",
       " 'get_group',\n",
       " 'groups',\n",
       " 'head',\n",
       " 'hist',\n",
       " 'idxmax',\n",
       " 'idxmin',\n",
       " 'indices',\n",
       " 'last',\n",
       " 'mad',\n",
       " 'max',\n",
       " 'mean',\n",
       " 'median',\n",
       " 'min',\n",
       " 'ndim',\n",
       " 'ngroup',\n",
       " 'ngroups',\n",
       " 'nth',\n",
       " 'nunique',\n",
       " 'ohlc',\n",
       " 'pad',\n",
       " 'pct_change',\n",
       " 'pipe',\n",
       " 'plot',\n",
       " 'prod',\n",
       " 'quantile',\n",
       " 'rank',\n",
       " 'resample',\n",
       " 'rolling',\n",
       " 'sample',\n",
       " 'sem',\n",
       " 'shift',\n",
       " 'size',\n",
       " 'skew',\n",
       " 'std',\n",
       " 'sum',\n",
       " 'tail',\n",
       " 'take',\n",
       " 'transform',\n",
       " 'tshift',\n",
       " 'value_counts',\n",
       " 'var']"
      ]
     },
     "execution_count": 243,
     "metadata": {},
     "output_type": "execute_result"
    }
   ],
   "source": [
    "dir(salaryDataFrameGroupBy)"
   ]
  },
  {
   "cell_type": "code",
   "execution_count": 244,
   "id": "00e775db",
   "metadata": {},
   "outputs": [
    {
     "data": {
      "text/html": [
       "<div>\n",
       "<style scoped>\n",
       "    .dataframe tbody tr th:only-of-type {\n",
       "        vertical-align: middle;\n",
       "    }\n",
       "\n",
       "    .dataframe tbody tr th {\n",
       "        vertical-align: top;\n",
       "    }\n",
       "\n",
       "    .dataframe thead th {\n",
       "        text-align: right;\n",
       "    }\n",
       "</style>\n",
       "<table border=\"1\" class=\"dataframe\">\n",
       "  <thead>\n",
       "    <tr style=\"text-align: right;\">\n",
       "      <th></th>\n",
       "      <th>Worker Name</th>\n",
       "      <th>Salary</th>\n",
       "    </tr>\n",
       "    <tr>\n",
       "      <th>Department</th>\n",
       "      <th></th>\n",
       "      <th></th>\n",
       "    </tr>\n",
       "  </thead>\n",
       "  <tbody>\n",
       "    <tr>\n",
       "      <th>Pazarlama</th>\n",
       "      <td>2</td>\n",
       "      <td>2</td>\n",
       "    </tr>\n",
       "    <tr>\n",
       "      <th>Yazılım</th>\n",
       "      <td>2</td>\n",
       "      <td>2</td>\n",
       "    </tr>\n",
       "    <tr>\n",
       "      <th>İK</th>\n",
       "      <td>2</td>\n",
       "      <td>2</td>\n",
       "    </tr>\n",
       "  </tbody>\n",
       "</table>\n",
       "</div>"
      ],
      "text/plain": [
       "            Worker Name  Salary\n",
       "Department                     \n",
       "Pazarlama             2       2\n",
       "Yazılım               2       2\n",
       "İK                    2       2"
      ]
     },
     "execution_count": 244,
     "metadata": {},
     "output_type": "execute_result"
    }
   ],
   "source": [
    "salaryDataFrameGroupBy.count()"
   ]
  },
  {
   "cell_type": "code",
   "execution_count": 245,
   "id": "7aa81a7e",
   "metadata": {},
   "outputs": [
    {
     "data": {
      "text/html": [
       "<div>\n",
       "<style scoped>\n",
       "    .dataframe tbody tr th:only-of-type {\n",
       "        vertical-align: middle;\n",
       "    }\n",
       "\n",
       "    .dataframe tbody tr th {\n",
       "        vertical-align: top;\n",
       "    }\n",
       "\n",
       "    .dataframe thead th {\n",
       "        text-align: right;\n",
       "    }\n",
       "</style>\n",
       "<table border=\"1\" class=\"dataframe\">\n",
       "  <thead>\n",
       "    <tr style=\"text-align: right;\">\n",
       "      <th></th>\n",
       "      <th>Salary</th>\n",
       "    </tr>\n",
       "    <tr>\n",
       "      <th>Department</th>\n",
       "      <th></th>\n",
       "    </tr>\n",
       "  </thead>\n",
       "  <tbody>\n",
       "    <tr>\n",
       "      <th>Pazarlama</th>\n",
       "      <td>4000.0</td>\n",
       "    </tr>\n",
       "    <tr>\n",
       "      <th>Yazılım</th>\n",
       "      <td>5500.0</td>\n",
       "    </tr>\n",
       "    <tr>\n",
       "      <th>İK</th>\n",
       "      <td>2750.0</td>\n",
       "    </tr>\n",
       "  </tbody>\n",
       "</table>\n",
       "</div>"
      ],
      "text/plain": [
       "            Salary\n",
       "Department        \n",
       "Pazarlama   4000.0\n",
       "Yazılım     5500.0\n",
       "İK          2750.0"
      ]
     },
     "execution_count": 245,
     "metadata": {},
     "output_type": "execute_result"
    }
   ],
   "source": [
    "salaryDataFrameGroupBy.mean()#bu metot ile ortalama maaş değerleri hesaplanır"
   ]
  },
  {
   "cell_type": "code",
   "execution_count": 246,
   "id": "a8774867",
   "metadata": {},
   "outputs": [],
   "source": [
    "#eğer departman bazlı olarak max ve min maaşları getirmek istersek"
   ]
  },
  {
   "cell_type": "code",
   "execution_count": 247,
   "id": "bb371d7a",
   "metadata": {},
   "outputs": [
    {
     "data": {
      "text/html": [
       "<div>\n",
       "<style scoped>\n",
       "    .dataframe tbody tr th:only-of-type {\n",
       "        vertical-align: middle;\n",
       "    }\n",
       "\n",
       "    .dataframe tbody tr th {\n",
       "        vertical-align: top;\n",
       "    }\n",
       "\n",
       "    .dataframe thead th {\n",
       "        text-align: right;\n",
       "    }\n",
       "</style>\n",
       "<table border=\"1\" class=\"dataframe\">\n",
       "  <thead>\n",
       "    <tr style=\"text-align: right;\">\n",
       "      <th></th>\n",
       "      <th>Worker Name</th>\n",
       "      <th>Salary</th>\n",
       "    </tr>\n",
       "    <tr>\n",
       "      <th>Department</th>\n",
       "      <th></th>\n",
       "      <th></th>\n",
       "    </tr>\n",
       "  </thead>\n",
       "  <tbody>\n",
       "    <tr>\n",
       "      <th>Pazarlama</th>\n",
       "      <td>Burak</td>\n",
       "      <td>4500</td>\n",
       "    </tr>\n",
       "    <tr>\n",
       "      <th>Yazılım</th>\n",
       "      <td>Mehmet</td>\n",
       "      <td>6000</td>\n",
       "    </tr>\n",
       "    <tr>\n",
       "      <th>İK</th>\n",
       "      <td>Zeynep</td>\n",
       "      <td>3000</td>\n",
       "    </tr>\n",
       "  </tbody>\n",
       "</table>\n",
       "</div>"
      ],
      "text/plain": [
       "           Worker Name  Salary\n",
       "Department                    \n",
       "Pazarlama        Burak    4500\n",
       "Yazılım         Mehmet    6000\n",
       "İK              Zeynep    3000"
      ]
     },
     "execution_count": 247,
     "metadata": {},
     "output_type": "execute_result"
    }
   ],
   "source": [
    "salaryDataFrameGroupBy.max()"
   ]
  },
  {
   "cell_type": "code",
   "execution_count": 248,
   "id": "c3a5173e",
   "metadata": {},
   "outputs": [
    {
     "data": {
      "text/html": [
       "<div>\n",
       "<style scoped>\n",
       "    .dataframe tbody tr th:only-of-type {\n",
       "        vertical-align: middle;\n",
       "    }\n",
       "\n",
       "    .dataframe tbody tr th {\n",
       "        vertical-align: top;\n",
       "    }\n",
       "\n",
       "    .dataframe thead th {\n",
       "        text-align: right;\n",
       "    }\n",
       "</style>\n",
       "<table border=\"1\" class=\"dataframe\">\n",
       "  <thead>\n",
       "    <tr style=\"text-align: right;\">\n",
       "      <th></th>\n",
       "      <th>Worker Name</th>\n",
       "      <th>Salary</th>\n",
       "    </tr>\n",
       "    <tr>\n",
       "      <th>Department</th>\n",
       "      <th></th>\n",
       "      <th></th>\n",
       "    </tr>\n",
       "  </thead>\n",
       "  <tbody>\n",
       "    <tr>\n",
       "      <th>Pazarlama</th>\n",
       "      <td>Atıl</td>\n",
       "      <td>3500</td>\n",
       "    </tr>\n",
       "    <tr>\n",
       "      <th>Yazılım</th>\n",
       "      <td>Ahmet</td>\n",
       "      <td>5000</td>\n",
       "    </tr>\n",
       "    <tr>\n",
       "      <th>İK</th>\n",
       "      <td>Fatma</td>\n",
       "      <td>2500</td>\n",
       "    </tr>\n",
       "  </tbody>\n",
       "</table>\n",
       "</div>"
      ],
      "text/plain": [
       "           Worker Name  Salary\n",
       "Department                    \n",
       "Pazarlama         Atıl    3500\n",
       "Yazılım          Ahmet    5000\n",
       "İK               Fatma    2500"
      ]
     },
     "execution_count": 248,
     "metadata": {},
     "output_type": "execute_result"
    }
   ],
   "source": [
    "salaryDataFrameGroupBy.min()"
   ]
  },
  {
   "cell_type": "code",
   "execution_count": 249,
   "id": "0f75dadf",
   "metadata": {},
   "outputs": [],
   "source": [
    "#yukarıdaki bilgilerin hepsini ayrı ayrı yazdırmak yerine \n",
    "#hepsini sadece bir metotla yazdırabiliriz"
   ]
  },
  {
   "cell_type": "code",
   "execution_count": 250,
   "id": "6808bf74",
   "metadata": {},
   "outputs": [
    {
     "data": {
      "text/html": [
       "<div>\n",
       "<style scoped>\n",
       "    .dataframe tbody tr th:only-of-type {\n",
       "        vertical-align: middle;\n",
       "    }\n",
       "\n",
       "    .dataframe tbody tr th {\n",
       "        vertical-align: top;\n",
       "    }\n",
       "\n",
       "    .dataframe thead tr th {\n",
       "        text-align: left;\n",
       "    }\n",
       "\n",
       "    .dataframe thead tr:last-of-type th {\n",
       "        text-align: right;\n",
       "    }\n",
       "</style>\n",
       "<table border=\"1\" class=\"dataframe\">\n",
       "  <thead>\n",
       "    <tr>\n",
       "      <th></th>\n",
       "      <th colspan=\"8\" halign=\"left\">Salary</th>\n",
       "    </tr>\n",
       "    <tr>\n",
       "      <th></th>\n",
       "      <th>count</th>\n",
       "      <th>mean</th>\n",
       "      <th>std</th>\n",
       "      <th>min</th>\n",
       "      <th>25%</th>\n",
       "      <th>50%</th>\n",
       "      <th>75%</th>\n",
       "      <th>max</th>\n",
       "    </tr>\n",
       "    <tr>\n",
       "      <th>Department</th>\n",
       "      <th></th>\n",
       "      <th></th>\n",
       "      <th></th>\n",
       "      <th></th>\n",
       "      <th></th>\n",
       "      <th></th>\n",
       "      <th></th>\n",
       "      <th></th>\n",
       "    </tr>\n",
       "  </thead>\n",
       "  <tbody>\n",
       "    <tr>\n",
       "      <th>Pazarlama</th>\n",
       "      <td>2.0</td>\n",
       "      <td>4000.0</td>\n",
       "      <td>707.106781</td>\n",
       "      <td>3500.0</td>\n",
       "      <td>3750.0</td>\n",
       "      <td>4000.0</td>\n",
       "      <td>4250.0</td>\n",
       "      <td>4500.0</td>\n",
       "    </tr>\n",
       "    <tr>\n",
       "      <th>Yazılım</th>\n",
       "      <td>2.0</td>\n",
       "      <td>5500.0</td>\n",
       "      <td>707.106781</td>\n",
       "      <td>5000.0</td>\n",
       "      <td>5250.0</td>\n",
       "      <td>5500.0</td>\n",
       "      <td>5750.0</td>\n",
       "      <td>6000.0</td>\n",
       "    </tr>\n",
       "    <tr>\n",
       "      <th>İK</th>\n",
       "      <td>2.0</td>\n",
       "      <td>2750.0</td>\n",
       "      <td>353.553391</td>\n",
       "      <td>2500.0</td>\n",
       "      <td>2625.0</td>\n",
       "      <td>2750.0</td>\n",
       "      <td>2875.0</td>\n",
       "      <td>3000.0</td>\n",
       "    </tr>\n",
       "  </tbody>\n",
       "</table>\n",
       "</div>"
      ],
      "text/plain": [
       "           Salary                                                            \n",
       "            count    mean         std     min     25%     50%     75%     max\n",
       "Department                                                                   \n",
       "Pazarlama     2.0  4000.0  707.106781  3500.0  3750.0  4000.0  4250.0  4500.0\n",
       "Yazılım       2.0  5500.0  707.106781  5000.0  5250.0  5500.0  5750.0  6000.0\n",
       "İK            2.0  2750.0  353.553391  2500.0  2625.0  2750.0  2875.0  3000.0"
      ]
     },
     "execution_count": 250,
     "metadata": {},
     "output_type": "execute_result"
    }
   ],
   "source": [
    "salaryDataFrameGroupBy.describe()#--->statndart sapma,ortalama,yüzdelik dilimleri\n",
    "#max ve min değerleri getirilir\n",
    "#describe:betimelemek,tanımlamak"
   ]
  },
  {
   "cell_type": "markdown",
   "id": "05927703",
   "metadata": {},
   "source": [
    "CONCAT"
   ]
  },
  {
   "cell_type": "code",
   "execution_count": 251,
   "id": "5cdcfd73",
   "metadata": {},
   "outputs": [],
   "source": [
    "#bu metodun uygulanabilmesi için dataframelerin tüm kolonları aynı olmalıdır"
   ]
  },
  {
   "cell_type": "code",
   "execution_count": 252,
   "id": "cc117e2b",
   "metadata": {},
   "outputs": [],
   "source": [
    "dataFrameDic1={\"Name\":[\"Ahmet\",\"Mehmet\",\"Zeynep\",\"Atıl\"],\n",
    "              \"Spor\":[\"Yürüyüş\",\"Yüzme\",\"Koşu\",\"Basketbol\"],\n",
    "              \"Calori\":[100,200,250,150]}"
   ]
  },
  {
   "cell_type": "code",
   "execution_count": 253,
   "id": "146756a9",
   "metadata": {},
   "outputs": [],
   "source": [
    "dataFrameDic2={\"Name\":[\"Osman\",\"Levent\",\"Atlas\",\"Fatma\"],\n",
    "              \"Spor\":[\"Yürüyüş\",\"Yüzme\",\"Koşu\",\"Basketbol\"],\n",
    "              \"Calori\":[100,200,250,150]}"
   ]
  },
  {
   "cell_type": "code",
   "execution_count": 254,
   "id": "99666931",
   "metadata": {},
   "outputs": [],
   "source": [
    "dataFrameDic3={\"Name\":[\"Ayşe\",\"Mahmut\",\"Duygu\",\"Nur\"],\n",
    "              \"Spor\":[\"Yürüyüş\",\"Yüzme\",\"Koşu\",\"Basketbol\"],\n",
    "              \"Calori\":[100,200,250,150]}"
   ]
  },
  {
   "cell_type": "code",
   "execution_count": 255,
   "id": "78df7c5d",
   "metadata": {},
   "outputs": [],
   "source": [
    "#şimdi bu dic -->dataframe işlemi gerçekleştirelim"
   ]
  },
  {
   "cell_type": "code",
   "execution_count": 256,
   "id": "d905998d",
   "metadata": {},
   "outputs": [],
   "source": [
    "dataFrame1=pd.DataFrame(data=dataFrameDic1,index=[0,1,2,3])"
   ]
  },
  {
   "cell_type": "code",
   "execution_count": 257,
   "id": "3389b124",
   "metadata": {},
   "outputs": [],
   "source": [
    "dataFrame2=pd.DataFrame(data=dataFrameDic2,index=[4,5,6,7])"
   ]
  },
  {
   "cell_type": "code",
   "execution_count": 258,
   "id": "12c2ab7b",
   "metadata": {},
   "outputs": [],
   "source": [
    "dataFrame3=pd.DataFrame(data=dataFrameDic3,index=[8,9,10,11])"
   ]
  },
  {
   "cell_type": "code",
   "execution_count": 259,
   "id": "e253554b",
   "metadata": {},
   "outputs": [
    {
     "data": {
      "text/html": [
       "<div>\n",
       "<style scoped>\n",
       "    .dataframe tbody tr th:only-of-type {\n",
       "        vertical-align: middle;\n",
       "    }\n",
       "\n",
       "    .dataframe tbody tr th {\n",
       "        vertical-align: top;\n",
       "    }\n",
       "\n",
       "    .dataframe thead th {\n",
       "        text-align: right;\n",
       "    }\n",
       "</style>\n",
       "<table border=\"1\" class=\"dataframe\">\n",
       "  <thead>\n",
       "    <tr style=\"text-align: right;\">\n",
       "      <th></th>\n",
       "      <th>Name</th>\n",
       "      <th>Spor</th>\n",
       "      <th>Calori</th>\n",
       "    </tr>\n",
       "  </thead>\n",
       "  <tbody>\n",
       "    <tr>\n",
       "      <th>0</th>\n",
       "      <td>Ahmet</td>\n",
       "      <td>Yürüyüş</td>\n",
       "      <td>100</td>\n",
       "    </tr>\n",
       "    <tr>\n",
       "      <th>1</th>\n",
       "      <td>Mehmet</td>\n",
       "      <td>Yüzme</td>\n",
       "      <td>200</td>\n",
       "    </tr>\n",
       "    <tr>\n",
       "      <th>2</th>\n",
       "      <td>Zeynep</td>\n",
       "      <td>Koşu</td>\n",
       "      <td>250</td>\n",
       "    </tr>\n",
       "    <tr>\n",
       "      <th>3</th>\n",
       "      <td>Atıl</td>\n",
       "      <td>Basketbol</td>\n",
       "      <td>150</td>\n",
       "    </tr>\n",
       "  </tbody>\n",
       "</table>\n",
       "</div>"
      ],
      "text/plain": [
       "     Name       Spor  Calori\n",
       "0   Ahmet    Yürüyüş     100\n",
       "1  Mehmet      Yüzme     200\n",
       "2  Zeynep       Koşu     250\n",
       "3    Atıl  Basketbol     150"
      ]
     },
     "execution_count": 259,
     "metadata": {},
     "output_type": "execute_result"
    }
   ],
   "source": [
    "dataFrame1"
   ]
  },
  {
   "cell_type": "code",
   "execution_count": 260,
   "id": "da478a7c",
   "metadata": {},
   "outputs": [
    {
     "data": {
      "text/html": [
       "<div>\n",
       "<style scoped>\n",
       "    .dataframe tbody tr th:only-of-type {\n",
       "        vertical-align: middle;\n",
       "    }\n",
       "\n",
       "    .dataframe tbody tr th {\n",
       "        vertical-align: top;\n",
       "    }\n",
       "\n",
       "    .dataframe thead th {\n",
       "        text-align: right;\n",
       "    }\n",
       "</style>\n",
       "<table border=\"1\" class=\"dataframe\">\n",
       "  <thead>\n",
       "    <tr style=\"text-align: right;\">\n",
       "      <th></th>\n",
       "      <th>Name</th>\n",
       "      <th>Spor</th>\n",
       "      <th>Calori</th>\n",
       "    </tr>\n",
       "  </thead>\n",
       "  <tbody>\n",
       "    <tr>\n",
       "      <th>4</th>\n",
       "      <td>Osman</td>\n",
       "      <td>Yürüyüş</td>\n",
       "      <td>100</td>\n",
       "    </tr>\n",
       "    <tr>\n",
       "      <th>5</th>\n",
       "      <td>Levent</td>\n",
       "      <td>Yüzme</td>\n",
       "      <td>200</td>\n",
       "    </tr>\n",
       "    <tr>\n",
       "      <th>6</th>\n",
       "      <td>Atlas</td>\n",
       "      <td>Koşu</td>\n",
       "      <td>250</td>\n",
       "    </tr>\n",
       "    <tr>\n",
       "      <th>7</th>\n",
       "      <td>Fatma</td>\n",
       "      <td>Basketbol</td>\n",
       "      <td>150</td>\n",
       "    </tr>\n",
       "  </tbody>\n",
       "</table>\n",
       "</div>"
      ],
      "text/plain": [
       "     Name       Spor  Calori\n",
       "4   Osman    Yürüyüş     100\n",
       "5  Levent      Yüzme     200\n",
       "6   Atlas       Koşu     250\n",
       "7   Fatma  Basketbol     150"
      ]
     },
     "execution_count": 260,
     "metadata": {},
     "output_type": "execute_result"
    }
   ],
   "source": [
    "dataFrame2"
   ]
  },
  {
   "cell_type": "code",
   "execution_count": 261,
   "id": "b052eb10",
   "metadata": {},
   "outputs": [
    {
     "data": {
      "text/html": [
       "<div>\n",
       "<style scoped>\n",
       "    .dataframe tbody tr th:only-of-type {\n",
       "        vertical-align: middle;\n",
       "    }\n",
       "\n",
       "    .dataframe tbody tr th {\n",
       "        vertical-align: top;\n",
       "    }\n",
       "\n",
       "    .dataframe thead th {\n",
       "        text-align: right;\n",
       "    }\n",
       "</style>\n",
       "<table border=\"1\" class=\"dataframe\">\n",
       "  <thead>\n",
       "    <tr style=\"text-align: right;\">\n",
       "      <th></th>\n",
       "      <th>Name</th>\n",
       "      <th>Spor</th>\n",
       "      <th>Calori</th>\n",
       "    </tr>\n",
       "  </thead>\n",
       "  <tbody>\n",
       "    <tr>\n",
       "      <th>8</th>\n",
       "      <td>Ayşe</td>\n",
       "      <td>Yürüyüş</td>\n",
       "      <td>100</td>\n",
       "    </tr>\n",
       "    <tr>\n",
       "      <th>9</th>\n",
       "      <td>Mahmut</td>\n",
       "      <td>Yüzme</td>\n",
       "      <td>200</td>\n",
       "    </tr>\n",
       "    <tr>\n",
       "      <th>10</th>\n",
       "      <td>Duygu</td>\n",
       "      <td>Koşu</td>\n",
       "      <td>250</td>\n",
       "    </tr>\n",
       "    <tr>\n",
       "      <th>11</th>\n",
       "      <td>Nur</td>\n",
       "      <td>Basketbol</td>\n",
       "      <td>150</td>\n",
       "    </tr>\n",
       "  </tbody>\n",
       "</table>\n",
       "</div>"
      ],
      "text/plain": [
       "      Name       Spor  Calori\n",
       "8     Ayşe    Yürüyüş     100\n",
       "9   Mahmut      Yüzme     200\n",
       "10   Duygu       Koşu     250\n",
       "11     Nur  Basketbol     150"
      ]
     },
     "execution_count": 261,
     "metadata": {},
     "output_type": "execute_result"
    }
   ],
   "source": [
    "dataFrame3"
   ]
  },
  {
   "cell_type": "code",
   "execution_count": 262,
   "id": "292fab70",
   "metadata": {},
   "outputs": [],
   "source": [
    "#şimdi bu 3 dataframe concat işlemi ile birleştirelim"
   ]
  },
  {
   "cell_type": "code",
   "execution_count": 263,
   "id": "bd3c2f75",
   "metadata": {},
   "outputs": [
    {
     "data": {
      "text/html": [
       "<div>\n",
       "<style scoped>\n",
       "    .dataframe tbody tr th:only-of-type {\n",
       "        vertical-align: middle;\n",
       "    }\n",
       "\n",
       "    .dataframe tbody tr th {\n",
       "        vertical-align: top;\n",
       "    }\n",
       "\n",
       "    .dataframe thead th {\n",
       "        text-align: right;\n",
       "    }\n",
       "</style>\n",
       "<table border=\"1\" class=\"dataframe\">\n",
       "  <thead>\n",
       "    <tr style=\"text-align: right;\">\n",
       "      <th></th>\n",
       "      <th>Name</th>\n",
       "      <th>Spor</th>\n",
       "      <th>Calori</th>\n",
       "    </tr>\n",
       "  </thead>\n",
       "  <tbody>\n",
       "    <tr>\n",
       "      <th>0</th>\n",
       "      <td>Ahmet</td>\n",
       "      <td>Yürüyüş</td>\n",
       "      <td>100</td>\n",
       "    </tr>\n",
       "    <tr>\n",
       "      <th>1</th>\n",
       "      <td>Mehmet</td>\n",
       "      <td>Yüzme</td>\n",
       "      <td>200</td>\n",
       "    </tr>\n",
       "    <tr>\n",
       "      <th>2</th>\n",
       "      <td>Zeynep</td>\n",
       "      <td>Koşu</td>\n",
       "      <td>250</td>\n",
       "    </tr>\n",
       "    <tr>\n",
       "      <th>3</th>\n",
       "      <td>Atıl</td>\n",
       "      <td>Basketbol</td>\n",
       "      <td>150</td>\n",
       "    </tr>\n",
       "    <tr>\n",
       "      <th>4</th>\n",
       "      <td>Osman</td>\n",
       "      <td>Yürüyüş</td>\n",
       "      <td>100</td>\n",
       "    </tr>\n",
       "    <tr>\n",
       "      <th>5</th>\n",
       "      <td>Levent</td>\n",
       "      <td>Yüzme</td>\n",
       "      <td>200</td>\n",
       "    </tr>\n",
       "    <tr>\n",
       "      <th>6</th>\n",
       "      <td>Atlas</td>\n",
       "      <td>Koşu</td>\n",
       "      <td>250</td>\n",
       "    </tr>\n",
       "    <tr>\n",
       "      <th>7</th>\n",
       "      <td>Fatma</td>\n",
       "      <td>Basketbol</td>\n",
       "      <td>150</td>\n",
       "    </tr>\n",
       "    <tr>\n",
       "      <th>8</th>\n",
       "      <td>Ayşe</td>\n",
       "      <td>Yürüyüş</td>\n",
       "      <td>100</td>\n",
       "    </tr>\n",
       "    <tr>\n",
       "      <th>9</th>\n",
       "      <td>Mahmut</td>\n",
       "      <td>Yüzme</td>\n",
       "      <td>200</td>\n",
       "    </tr>\n",
       "    <tr>\n",
       "      <th>10</th>\n",
       "      <td>Duygu</td>\n",
       "      <td>Koşu</td>\n",
       "      <td>250</td>\n",
       "    </tr>\n",
       "    <tr>\n",
       "      <th>11</th>\n",
       "      <td>Nur</td>\n",
       "      <td>Basketbol</td>\n",
       "      <td>150</td>\n",
       "    </tr>\n",
       "  </tbody>\n",
       "</table>\n",
       "</div>"
      ],
      "text/plain": [
       "      Name       Spor  Calori\n",
       "0    Ahmet    Yürüyüş     100\n",
       "1   Mehmet      Yüzme     200\n",
       "2   Zeynep       Koşu     250\n",
       "3     Atıl  Basketbol     150\n",
       "4    Osman    Yürüyüş     100\n",
       "5   Levent      Yüzme     200\n",
       "6    Atlas       Koşu     250\n",
       "7    Fatma  Basketbol     150\n",
       "8     Ayşe    Yürüyüş     100\n",
       "9   Mahmut      Yüzme     200\n",
       "10   Duygu       Koşu     250\n",
       "11     Nur  Basketbol     150"
      ]
     },
     "execution_count": 263,
     "metadata": {},
     "output_type": "execute_result"
    }
   ],
   "source": [
    "pd.concat([dataFrame1,dataFrame2,dataFrame3])#parametre giriş yerleri önemli"
   ]
  },
  {
   "cell_type": "code",
   "execution_count": 264,
   "id": "bcd9f936",
   "metadata": {},
   "outputs": [
    {
     "data": {
      "text/html": [
       "<div>\n",
       "<style scoped>\n",
       "    .dataframe tbody tr th:only-of-type {\n",
       "        vertical-align: middle;\n",
       "    }\n",
       "\n",
       "    .dataframe tbody tr th {\n",
       "        vertical-align: top;\n",
       "    }\n",
       "\n",
       "    .dataframe thead th {\n",
       "        text-align: right;\n",
       "    }\n",
       "</style>\n",
       "<table border=\"1\" class=\"dataframe\">\n",
       "  <thead>\n",
       "    <tr style=\"text-align: right;\">\n",
       "      <th></th>\n",
       "      <th>Name</th>\n",
       "      <th>Spor</th>\n",
       "      <th>Calori</th>\n",
       "    </tr>\n",
       "  </thead>\n",
       "  <tbody>\n",
       "    <tr>\n",
       "      <th>4</th>\n",
       "      <td>Osman</td>\n",
       "      <td>Yürüyüş</td>\n",
       "      <td>100</td>\n",
       "    </tr>\n",
       "    <tr>\n",
       "      <th>5</th>\n",
       "      <td>Levent</td>\n",
       "      <td>Yüzme</td>\n",
       "      <td>200</td>\n",
       "    </tr>\n",
       "    <tr>\n",
       "      <th>6</th>\n",
       "      <td>Atlas</td>\n",
       "      <td>Koşu</td>\n",
       "      <td>250</td>\n",
       "    </tr>\n",
       "    <tr>\n",
       "      <th>7</th>\n",
       "      <td>Fatma</td>\n",
       "      <td>Basketbol</td>\n",
       "      <td>150</td>\n",
       "    </tr>\n",
       "    <tr>\n",
       "      <th>8</th>\n",
       "      <td>Ayşe</td>\n",
       "      <td>Yürüyüş</td>\n",
       "      <td>100</td>\n",
       "    </tr>\n",
       "    <tr>\n",
       "      <th>9</th>\n",
       "      <td>Mahmut</td>\n",
       "      <td>Yüzme</td>\n",
       "      <td>200</td>\n",
       "    </tr>\n",
       "    <tr>\n",
       "      <th>10</th>\n",
       "      <td>Duygu</td>\n",
       "      <td>Koşu</td>\n",
       "      <td>250</td>\n",
       "    </tr>\n",
       "    <tr>\n",
       "      <th>11</th>\n",
       "      <td>Nur</td>\n",
       "      <td>Basketbol</td>\n",
       "      <td>150</td>\n",
       "    </tr>\n",
       "    <tr>\n",
       "      <th>0</th>\n",
       "      <td>Ahmet</td>\n",
       "      <td>Yürüyüş</td>\n",
       "      <td>100</td>\n",
       "    </tr>\n",
       "    <tr>\n",
       "      <th>1</th>\n",
       "      <td>Mehmet</td>\n",
       "      <td>Yüzme</td>\n",
       "      <td>200</td>\n",
       "    </tr>\n",
       "    <tr>\n",
       "      <th>2</th>\n",
       "      <td>Zeynep</td>\n",
       "      <td>Koşu</td>\n",
       "      <td>250</td>\n",
       "    </tr>\n",
       "    <tr>\n",
       "      <th>3</th>\n",
       "      <td>Atıl</td>\n",
       "      <td>Basketbol</td>\n",
       "      <td>150</td>\n",
       "    </tr>\n",
       "  </tbody>\n",
       "</table>\n",
       "</div>"
      ],
      "text/plain": [
       "      Name       Spor  Calori\n",
       "4    Osman    Yürüyüş     100\n",
       "5   Levent      Yüzme     200\n",
       "6    Atlas       Koşu     250\n",
       "7    Fatma  Basketbol     150\n",
       "8     Ayşe    Yürüyüş     100\n",
       "9   Mahmut      Yüzme     200\n",
       "10   Duygu       Koşu     250\n",
       "11     Nur  Basketbol     150\n",
       "0    Ahmet    Yürüyüş     100\n",
       "1   Mehmet      Yüzme     200\n",
       "2   Zeynep       Koşu     250\n",
       "3     Atıl  Basketbol     150"
      ]
     },
     "execution_count": 264,
     "metadata": {},
     "output_type": "execute_result"
    }
   ],
   "source": [
    "pd.concat([dataFrame2,dataFrame3,dataFrame1])"
   ]
  },
  {
   "cell_type": "markdown",
   "id": "26f6c349",
   "metadata": {},
   "source": [
    "MERGE"
   ]
  },
  {
   "cell_type": "code",
   "execution_count": 265,
   "id": "f46ddf0f",
   "metadata": {},
   "outputs": [],
   "source": [
    "#eğer en az bir ortak kolona sahip fakat tüm kolonları aynı olmayan \n",
    "#kolonları birleştirmek istersek bunun için merge metodunu kullanırız"
   ]
  },
  {
   "cell_type": "code",
   "execution_count": 266,
   "id": "90cca786",
   "metadata": {},
   "outputs": [],
   "source": [
    "mergeDic1={\"Name\":[\"Ahmet\",\"Mehmet\",\"Zeynep\",\"Atıl\"],\n",
    "          \"Spor\":[\"Yürüyüş\",\"Yüzme\",\"Koşu\",\"Basketbol\"]}"
   ]
  },
  {
   "cell_type": "code",
   "execution_count": 267,
   "id": "707e4600",
   "metadata": {},
   "outputs": [],
   "source": [
    "mergeDic2={\"Name\":[\"Ahmet\",\"Mehmet\",\"Zeynep\",\"Atıl\"],\n",
    "          \"Calori\":[100,200,250,150]}"
   ]
  },
  {
   "cell_type": "code",
   "execution_count": 268,
   "id": "affbf414",
   "metadata": {},
   "outputs": [],
   "source": [
    "#dic-->dataframe işlemini gerçekleştirelim"
   ]
  },
  {
   "cell_type": "code",
   "execution_count": 269,
   "id": "d2e96930",
   "metadata": {},
   "outputs": [],
   "source": [
    "mergeDataFrame1=pd.DataFrame(data=mergeDic1)"
   ]
  },
  {
   "cell_type": "code",
   "execution_count": 270,
   "id": "c0ff91b4",
   "metadata": {},
   "outputs": [
    {
     "data": {
      "text/html": [
       "<div>\n",
       "<style scoped>\n",
       "    .dataframe tbody tr th:only-of-type {\n",
       "        vertical-align: middle;\n",
       "    }\n",
       "\n",
       "    .dataframe tbody tr th {\n",
       "        vertical-align: top;\n",
       "    }\n",
       "\n",
       "    .dataframe thead th {\n",
       "        text-align: right;\n",
       "    }\n",
       "</style>\n",
       "<table border=\"1\" class=\"dataframe\">\n",
       "  <thead>\n",
       "    <tr style=\"text-align: right;\">\n",
       "      <th></th>\n",
       "      <th>Name</th>\n",
       "      <th>Spor</th>\n",
       "    </tr>\n",
       "  </thead>\n",
       "  <tbody>\n",
       "    <tr>\n",
       "      <th>0</th>\n",
       "      <td>Ahmet</td>\n",
       "      <td>Yürüyüş</td>\n",
       "    </tr>\n",
       "    <tr>\n",
       "      <th>1</th>\n",
       "      <td>Mehmet</td>\n",
       "      <td>Yüzme</td>\n",
       "    </tr>\n",
       "    <tr>\n",
       "      <th>2</th>\n",
       "      <td>Zeynep</td>\n",
       "      <td>Koşu</td>\n",
       "    </tr>\n",
       "    <tr>\n",
       "      <th>3</th>\n",
       "      <td>Atıl</td>\n",
       "      <td>Basketbol</td>\n",
       "    </tr>\n",
       "  </tbody>\n",
       "</table>\n",
       "</div>"
      ],
      "text/plain": [
       "     Name       Spor\n",
       "0   Ahmet    Yürüyüş\n",
       "1  Mehmet      Yüzme\n",
       "2  Zeynep       Koşu\n",
       "3    Atıl  Basketbol"
      ]
     },
     "execution_count": 270,
     "metadata": {},
     "output_type": "execute_result"
    }
   ],
   "source": [
    "mergeDataFrame1"
   ]
  },
  {
   "cell_type": "code",
   "execution_count": 271,
   "id": "f5cbfbd8",
   "metadata": {},
   "outputs": [],
   "source": [
    "mergeDataFrame2=pd.DataFrame(data=mergeDic2)"
   ]
  },
  {
   "cell_type": "code",
   "execution_count": 272,
   "id": "9a6f7b17",
   "metadata": {},
   "outputs": [
    {
     "data": {
      "text/html": [
       "<div>\n",
       "<style scoped>\n",
       "    .dataframe tbody tr th:only-of-type {\n",
       "        vertical-align: middle;\n",
       "    }\n",
       "\n",
       "    .dataframe tbody tr th {\n",
       "        vertical-align: top;\n",
       "    }\n",
       "\n",
       "    .dataframe thead th {\n",
       "        text-align: right;\n",
       "    }\n",
       "</style>\n",
       "<table border=\"1\" class=\"dataframe\">\n",
       "  <thead>\n",
       "    <tr style=\"text-align: right;\">\n",
       "      <th></th>\n",
       "      <th>Name</th>\n",
       "      <th>Calori</th>\n",
       "    </tr>\n",
       "  </thead>\n",
       "  <tbody>\n",
       "    <tr>\n",
       "      <th>0</th>\n",
       "      <td>Ahmet</td>\n",
       "      <td>100</td>\n",
       "    </tr>\n",
       "    <tr>\n",
       "      <th>1</th>\n",
       "      <td>Mehmet</td>\n",
       "      <td>200</td>\n",
       "    </tr>\n",
       "    <tr>\n",
       "      <th>2</th>\n",
       "      <td>Zeynep</td>\n",
       "      <td>250</td>\n",
       "    </tr>\n",
       "    <tr>\n",
       "      <th>3</th>\n",
       "      <td>Atıl</td>\n",
       "      <td>150</td>\n",
       "    </tr>\n",
       "  </tbody>\n",
       "</table>\n",
       "</div>"
      ],
      "text/plain": [
       "     Name  Calori\n",
       "0   Ahmet     100\n",
       "1  Mehmet     200\n",
       "2  Zeynep     250\n",
       "3    Atıl     150"
      ]
     },
     "execution_count": 272,
     "metadata": {},
     "output_type": "execute_result"
    }
   ],
   "source": [
    "mergeDataFrame2"
   ]
  },
  {
   "cell_type": "code",
   "execution_count": 273,
   "id": "2be439c4",
   "metadata": {},
   "outputs": [],
   "source": [
    "#bu iki dataframede Name kolonları aynı\n",
    "#bu kolonları baz alarak merge işlemini gerçekleştirelim"
   ]
  },
  {
   "cell_type": "markdown",
   "id": "ae1186c3",
   "metadata": {},
   "source": [
    "Kullanımı:\n",
    "    pd.merge(birleştirilecek 1.dataframe,2.dataframe,on=\"ortak kolon adı\")"
   ]
  },
  {
   "cell_type": "code",
   "execution_count": 274,
   "id": "170a5ae2",
   "metadata": {},
   "outputs": [
    {
     "data": {
      "text/html": [
       "<div>\n",
       "<style scoped>\n",
       "    .dataframe tbody tr th:only-of-type {\n",
       "        vertical-align: middle;\n",
       "    }\n",
       "\n",
       "    .dataframe tbody tr th {\n",
       "        vertical-align: top;\n",
       "    }\n",
       "\n",
       "    .dataframe thead th {\n",
       "        text-align: right;\n",
       "    }\n",
       "</style>\n",
       "<table border=\"1\" class=\"dataframe\">\n",
       "  <thead>\n",
       "    <tr style=\"text-align: right;\">\n",
       "      <th></th>\n",
       "      <th>Name</th>\n",
       "      <th>Spor</th>\n",
       "      <th>Calori</th>\n",
       "    </tr>\n",
       "  </thead>\n",
       "  <tbody>\n",
       "    <tr>\n",
       "      <th>0</th>\n",
       "      <td>Ahmet</td>\n",
       "      <td>Yürüyüş</td>\n",
       "      <td>100</td>\n",
       "    </tr>\n",
       "    <tr>\n",
       "      <th>1</th>\n",
       "      <td>Mehmet</td>\n",
       "      <td>Yüzme</td>\n",
       "      <td>200</td>\n",
       "    </tr>\n",
       "    <tr>\n",
       "      <th>2</th>\n",
       "      <td>Zeynep</td>\n",
       "      <td>Koşu</td>\n",
       "      <td>250</td>\n",
       "    </tr>\n",
       "    <tr>\n",
       "      <th>3</th>\n",
       "      <td>Atıl</td>\n",
       "      <td>Basketbol</td>\n",
       "      <td>150</td>\n",
       "    </tr>\n",
       "  </tbody>\n",
       "</table>\n",
       "</div>"
      ],
      "text/plain": [
       "     Name       Spor  Calori\n",
       "0   Ahmet    Yürüyüş     100\n",
       "1  Mehmet      Yüzme     200\n",
       "2  Zeynep       Koşu     250\n",
       "3    Atıl  Basketbol     150"
      ]
     },
     "execution_count": 274,
     "metadata": {},
     "output_type": "execute_result"
    }
   ],
   "source": [
    "pd.merge(mergeDataFrame1,mergeDataFrame2,on=\"Name\")"
   ]
  },
  {
   "cell_type": "markdown",
   "id": "21cb6fbf",
   "metadata": {},
   "source": [
    "PANDAS İLERİ SEVİYE OPERASYONLAR"
   ]
  },
  {
   "cell_type": "code",
   "execution_count": 275,
   "id": "7ac183d2",
   "metadata": {},
   "outputs": [],
   "source": [
    "salaryDic={\"Name\":[\"Atıl\",\"Zeynep\",\"Ahmet\",\"Mehmet\"],\n",
    "          \"Departmant\":[\"Yazılım\",\"Satış\",\"Pazarlama\",\"Yazılım\"],\n",
    "          \"Salary\":[200,300,400,500]}"
   ]
  },
  {
   "cell_type": "code",
   "execution_count": 276,
   "id": "a0bad365",
   "metadata": {},
   "outputs": [],
   "source": [
    "#dic--->dataframe işlemini gerçeklştirelim"
   ]
  },
  {
   "cell_type": "code",
   "execution_count": 277,
   "id": "39b19dc1",
   "metadata": {},
   "outputs": [],
   "source": [
    "salaryDataFrame=pd.DataFrame(salaryDic)"
   ]
  },
  {
   "cell_type": "code",
   "execution_count": 278,
   "id": "9cfd657e",
   "metadata": {},
   "outputs": [
    {
     "data": {
      "text/html": [
       "<div>\n",
       "<style scoped>\n",
       "    .dataframe tbody tr th:only-of-type {\n",
       "        vertical-align: middle;\n",
       "    }\n",
       "\n",
       "    .dataframe tbody tr th {\n",
       "        vertical-align: top;\n",
       "    }\n",
       "\n",
       "    .dataframe thead th {\n",
       "        text-align: right;\n",
       "    }\n",
       "</style>\n",
       "<table border=\"1\" class=\"dataframe\">\n",
       "  <thead>\n",
       "    <tr style=\"text-align: right;\">\n",
       "      <th></th>\n",
       "      <th>Name</th>\n",
       "      <th>Departmant</th>\n",
       "      <th>Salary</th>\n",
       "    </tr>\n",
       "  </thead>\n",
       "  <tbody>\n",
       "    <tr>\n",
       "      <th>0</th>\n",
       "      <td>Atıl</td>\n",
       "      <td>Yazılım</td>\n",
       "      <td>200</td>\n",
       "    </tr>\n",
       "    <tr>\n",
       "      <th>1</th>\n",
       "      <td>Zeynep</td>\n",
       "      <td>Satış</td>\n",
       "      <td>300</td>\n",
       "    </tr>\n",
       "    <tr>\n",
       "      <th>2</th>\n",
       "      <td>Ahmet</td>\n",
       "      <td>Pazarlama</td>\n",
       "      <td>400</td>\n",
       "    </tr>\n",
       "    <tr>\n",
       "      <th>3</th>\n",
       "      <td>Mehmet</td>\n",
       "      <td>Yazılım</td>\n",
       "      <td>500</td>\n",
       "    </tr>\n",
       "  </tbody>\n",
       "</table>\n",
       "</div>"
      ],
      "text/plain": [
       "     Name Departmant  Salary\n",
       "0    Atıl    Yazılım     200\n",
       "1  Zeynep      Satış     300\n",
       "2   Ahmet  Pazarlama     400\n",
       "3  Mehmet    Yazılım     500"
      ]
     },
     "execution_count": 278,
     "metadata": {},
     "output_type": "execute_result"
    }
   ],
   "source": [
    "salaryDataFrame"
   ]
  },
  {
   "cell_type": "code",
   "execution_count": 279,
   "id": "6ab024bd",
   "metadata": {},
   "outputs": [],
   "source": [
    "#eğer bu dataframe de departmanlar üzerinde tekilleştirme işlemi gerçekleşitrmek istersek"
   ]
  },
  {
   "cell_type": "code",
   "execution_count": 280,
   "id": "c3bd0008",
   "metadata": {},
   "outputs": [
    {
     "data": {
      "text/plain": [
       "array(['Yazılım', 'Satış', 'Pazarlama'], dtype=object)"
      ]
     },
     "execution_count": 280,
     "metadata": {},
     "output_type": "execute_result"
    }
   ],
   "source": [
    "salaryDataFrame[\"Departmant\"].unique()#burada tekilleştirme işlemini gerçekleştirerek\n",
    "#bu bilgileri bir arraye atıyor(array fonk kullanabiliriz demektir)"
   ]
  },
  {
   "cell_type": "code",
   "execution_count": 281,
   "id": "72a02a44",
   "metadata": {},
   "outputs": [],
   "source": [
    "#eğer tekilleştirme işlemi sonucunda departman sayısını öğrenmek istersek"
   ]
  },
  {
   "cell_type": "code",
   "execution_count": 282,
   "id": "1ce4cdf2",
   "metadata": {},
   "outputs": [
    {
     "data": {
      "text/plain": [
       "3"
      ]
     },
     "execution_count": 282,
     "metadata": {},
     "output_type": "execute_result"
    }
   ],
   "source": [
    "salaryDataFrame[\"Departmant\"].nunique()"
   ]
  },
  {
   "cell_type": "code",
   "execution_count": 283,
   "id": "d6955242",
   "metadata": {},
   "outputs": [
    {
     "data": {
      "text/plain": [
       "int"
      ]
     },
     "execution_count": 283,
     "metadata": {},
     "output_type": "execute_result"
    }
   ],
   "source": [
    "type(salaryDataFrame[\"Departmant\"].nunique())"
   ]
  },
  {
   "cell_type": "code",
   "execution_count": 284,
   "id": "8376b565",
   "metadata": {},
   "outputs": [],
   "source": [
    "#eğer departmanlara ait değer sayısını toplayop yazdırmak istersek"
   ]
  },
  {
   "cell_type": "code",
   "execution_count": 285,
   "id": "a4296d65",
   "metadata": {},
   "outputs": [
    {
     "data": {
      "text/plain": [
       "Yazılım      2\n",
       "Satış        1\n",
       "Pazarlama    1\n",
       "Name: Departmant, dtype: int64"
      ]
     },
     "execution_count": 285,
     "metadata": {},
     "output_type": "execute_result"
    }
   ],
   "source": [
    "salaryDataFrame[\"Departmant\"].value_counts()"
   ]
  },
  {
   "cell_type": "code",
   "execution_count": 286,
   "id": "95ef9d3e",
   "metadata": {},
   "outputs": [],
   "source": [
    "#maaşların vergilerini hesaplayan bir fonk yazarsak"
   ]
  },
  {
   "cell_type": "code",
   "execution_count": 287,
   "id": "eac9066d",
   "metadata": {},
   "outputs": [],
   "source": [
    "def vergiHesaplama(maas):\n",
    "    return maas*0.66"
   ]
  },
  {
   "cell_type": "code",
   "execution_count": 288,
   "id": "443d3b59",
   "metadata": {},
   "outputs": [],
   "source": [
    "#şimdi bu fonksiyonu dataframedeki salary kolonuna uygulayalım"
   ]
  },
  {
   "cell_type": "code",
   "execution_count": 289,
   "id": "030559bb",
   "metadata": {},
   "outputs": [
    {
     "data": {
      "text/plain": [
       "0    132.0\n",
       "1    198.0\n",
       "2    264.0\n",
       "3    330.0\n",
       "Name: Salary, dtype: float64"
      ]
     },
     "execution_count": 289,
     "metadata": {},
     "output_type": "execute_result"
    }
   ],
   "source": [
    "salaryDataFrame[\"Salary\"].apply(vergiHesaplama)"
   ]
  },
  {
   "cell_type": "code",
   "execution_count": 290,
   "id": "e8014b69",
   "metadata": {},
   "outputs": [],
   "source": [
    "#bu tabloda null değer olup olmadığını kontrol etmek için:"
   ]
  },
  {
   "cell_type": "code",
   "execution_count": 291,
   "id": "836f7e03",
   "metadata": {},
   "outputs": [
    {
     "data": {
      "text/html": [
       "<div>\n",
       "<style scoped>\n",
       "    .dataframe tbody tr th:only-of-type {\n",
       "        vertical-align: middle;\n",
       "    }\n",
       "\n",
       "    .dataframe tbody tr th {\n",
       "        vertical-align: top;\n",
       "    }\n",
       "\n",
       "    .dataframe thead th {\n",
       "        text-align: right;\n",
       "    }\n",
       "</style>\n",
       "<table border=\"1\" class=\"dataframe\">\n",
       "  <thead>\n",
       "    <tr style=\"text-align: right;\">\n",
       "      <th></th>\n",
       "      <th>Name</th>\n",
       "      <th>Departmant</th>\n",
       "      <th>Salary</th>\n",
       "    </tr>\n",
       "  </thead>\n",
       "  <tbody>\n",
       "    <tr>\n",
       "      <th>0</th>\n",
       "      <td>False</td>\n",
       "      <td>False</td>\n",
       "      <td>False</td>\n",
       "    </tr>\n",
       "    <tr>\n",
       "      <th>1</th>\n",
       "      <td>False</td>\n",
       "      <td>False</td>\n",
       "      <td>False</td>\n",
       "    </tr>\n",
       "    <tr>\n",
       "      <th>2</th>\n",
       "      <td>False</td>\n",
       "      <td>False</td>\n",
       "      <td>False</td>\n",
       "    </tr>\n",
       "    <tr>\n",
       "      <th>3</th>\n",
       "      <td>False</td>\n",
       "      <td>False</td>\n",
       "      <td>False</td>\n",
       "    </tr>\n",
       "  </tbody>\n",
       "</table>\n",
       "</div>"
      ],
      "text/plain": [
       "    Name  Departmant  Salary\n",
       "0  False       False   False\n",
       "1  False       False   False\n",
       "2  False       False   False\n",
       "3  False       False   False"
      ]
     },
     "execution_count": 291,
     "metadata": {},
     "output_type": "execute_result"
    }
   ],
   "source": [
    "salaryDataFrame.isnull()"
   ]
  },
  {
   "cell_type": "code",
   "execution_count": 292,
   "id": "c0daad4d",
   "metadata": {},
   "outputs": [],
   "source": [
    "#eğer multi indexde yaptığımız gibi nir gruplama yapmak istersek\n",
    "#ama bunu pivot(excelde özet tablo oluşturmak için kullandığımız):"
   ]
  },
  {
   "cell_type": "code",
   "execution_count": 293,
   "id": "15bf5b75",
   "metadata": {},
   "outputs": [],
   "source": [
    "karakterDic={\"Karakter Sınıfı\":[\"Marvel\",\"Marvel\",\"DC\",\"DC\"],\n",
    "           \"Karakter İsmi\":[\"Spiderman\",\"Ironma\",\"Superman\",\"Batman\"],\n",
    "           \"Karakter Yas\":[23,2,32,43]}\n",
    "karakterDF=pd.DataFrame(karakterDic)\n"
   ]
  },
  {
   "cell_type": "code",
   "execution_count": 294,
   "id": "c6b6458e",
   "metadata": {},
   "outputs": [
    {
     "data": {
      "text/html": [
       "<div>\n",
       "<style scoped>\n",
       "    .dataframe tbody tr th:only-of-type {\n",
       "        vertical-align: middle;\n",
       "    }\n",
       "\n",
       "    .dataframe tbody tr th {\n",
       "        vertical-align: top;\n",
       "    }\n",
       "\n",
       "    .dataframe thead th {\n",
       "        text-align: right;\n",
       "    }\n",
       "</style>\n",
       "<table border=\"1\" class=\"dataframe\">\n",
       "  <thead>\n",
       "    <tr style=\"text-align: right;\">\n",
       "      <th></th>\n",
       "      <th>Karakter Sınıfı</th>\n",
       "      <th>Karakter İsmi</th>\n",
       "      <th>Karakter Yas</th>\n",
       "    </tr>\n",
       "  </thead>\n",
       "  <tbody>\n",
       "    <tr>\n",
       "      <th>0</th>\n",
       "      <td>Marvel</td>\n",
       "      <td>Spiderman</td>\n",
       "      <td>23</td>\n",
       "    </tr>\n",
       "    <tr>\n",
       "      <th>1</th>\n",
       "      <td>Marvel</td>\n",
       "      <td>Ironma</td>\n",
       "      <td>2</td>\n",
       "    </tr>\n",
       "    <tr>\n",
       "      <th>2</th>\n",
       "      <td>DC</td>\n",
       "      <td>Superman</td>\n",
       "      <td>32</td>\n",
       "    </tr>\n",
       "    <tr>\n",
       "      <th>3</th>\n",
       "      <td>DC</td>\n",
       "      <td>Batman</td>\n",
       "      <td>43</td>\n",
       "    </tr>\n",
       "  </tbody>\n",
       "</table>\n",
       "</div>"
      ],
      "text/plain": [
       "  Karakter Sınıfı Karakter İsmi  Karakter Yas\n",
       "0          Marvel     Spiderman            23\n",
       "1          Marvel        Ironma             2\n",
       "2              DC      Superman            32\n",
       "3              DC        Batman            43"
      ]
     },
     "execution_count": 294,
     "metadata": {},
     "output_type": "execute_result"
    }
   ],
   "source": [
    "karakterDF"
   ]
  },
  {
   "cell_type": "code",
   "execution_count": 295,
   "id": "5bbc5f69",
   "metadata": {},
   "outputs": [],
   "source": [
    "#pivot kullanarak gruplandırma işlemi"
   ]
  },
  {
   "cell_type": "code",
   "execution_count": 296,
   "id": "f7bd864f",
   "metadata": {},
   "outputs": [
    {
     "data": {
      "text/html": [
       "<div>\n",
       "<style scoped>\n",
       "    .dataframe tbody tr th:only-of-type {\n",
       "        vertical-align: middle;\n",
       "    }\n",
       "\n",
       "    .dataframe tbody tr th {\n",
       "        vertical-align: top;\n",
       "    }\n",
       "\n",
       "    .dataframe thead th {\n",
       "        text-align: right;\n",
       "    }\n",
       "</style>\n",
       "<table border=\"1\" class=\"dataframe\">\n",
       "  <thead>\n",
       "    <tr style=\"text-align: right;\">\n",
       "      <th></th>\n",
       "      <th></th>\n",
       "      <th>Karakter Yas</th>\n",
       "    </tr>\n",
       "    <tr>\n",
       "      <th>Karakter Sınıfı</th>\n",
       "      <th>Karakter İsmi</th>\n",
       "      <th></th>\n",
       "    </tr>\n",
       "  </thead>\n",
       "  <tbody>\n",
       "    <tr>\n",
       "      <th rowspan=\"2\" valign=\"top\">DC</th>\n",
       "      <th>Batman</th>\n",
       "      <td>43</td>\n",
       "    </tr>\n",
       "    <tr>\n",
       "      <th>Superman</th>\n",
       "      <td>32</td>\n",
       "    </tr>\n",
       "    <tr>\n",
       "      <th rowspan=\"2\" valign=\"top\">Marvel</th>\n",
       "      <th>Ironma</th>\n",
       "      <td>2</td>\n",
       "    </tr>\n",
       "    <tr>\n",
       "      <th>Spiderman</th>\n",
       "      <td>23</td>\n",
       "    </tr>\n",
       "  </tbody>\n",
       "</table>\n",
       "</div>"
      ],
      "text/plain": [
       "                               Karakter Yas\n",
       "Karakter Sınıfı Karakter İsmi              \n",
       "DC              Batman                   43\n",
       "                Superman                 32\n",
       "Marvel          Ironma                    2\n",
       "                Spiderman                23"
      ]
     },
     "execution_count": 296,
     "metadata": {},
     "output_type": "execute_result"
    }
   ],
   "source": [
    "karakterDF.pivot_table(values=\"Karakter Yas\",index=[\"Karakter Sınıfı\",\"Karakter İsmi\"])"
   ]
  },
  {
   "cell_type": "markdown",
   "id": "a82e5d6c",
   "metadata": {},
   "source": [
    "EXCELLE ÇALIŞMAK"
   ]
  },
  {
   "cell_type": "markdown",
   "id": "2349215b",
   "metadata": {},
   "source": [
    "bunun için önce jupyter ile yazılam defterlerle aynı dizinde bir excel tablosu tanımlamamız lazım sonra bu excel dosyası içindeki bilgileri okumak için:\n",
    "excelDataFrame= pd.read_excel(\"dosya adi.xlsx\") yazmamız lazım\n",
    "sonra excelDataFrame üzerinde yaptığımız değişiklikleri başka bir excel dosyasına kaydetmek için:\n",
    "excelDataFrame.to_excel(\"Dosyaadi.xlsx\") komutunu yazmamız gerekir\n",
    "\n",
    "\n",
    "eğer excel dosyası csv formatında ise yani veriler kolonla değilde virgülle ayrılmışsa o dosyayı okumak için:\n",
    "read_csv\n",
    "yapılan değişiklikleri başka bir dosyaya kaydetmek için:\n",
    "to_csv fonk kullanılır"
   ]
  },
  {
   "cell_type": "code",
   "execution_count": null,
   "id": "8d5174c5",
   "metadata": {},
   "outputs": [],
   "source": []
  },
  {
   "cell_type": "code",
   "execution_count": null,
   "id": "4cab73ea",
   "metadata": {},
   "outputs": [],
   "source": []
  }
 ],
 "metadata": {
  "kernelspec": {
   "display_name": "Python 3 (ipykernel)",
   "language": "python",
   "name": "python3"
  },
  "language_info": {
   "codemirror_mode": {
    "name": "ipython",
    "version": 3
   },
   "file_extension": ".py",
   "mimetype": "text/x-python",
   "name": "python",
   "nbconvert_exporter": "python",
   "pygments_lexer": "ipython3",
   "version": "3.9.13"
  }
 },
 "nbformat": 4,
 "nbformat_minor": 5
}
