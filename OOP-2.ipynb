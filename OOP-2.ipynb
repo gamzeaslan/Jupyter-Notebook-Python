{
 "cells": [
  {
   "cell_type": "code",
   "execution_count": 15,
   "id": "7137e94e",
   "metadata": {},
   "outputs": [],
   "source": [
    "class Fruit():\n",
    "    def __init__(self,name,calori):\n",
    "        self.name=name\n",
    "        self.calori=calori\n",
    "        \n",
    "    def featureWriting(self):\n",
    "        print(f\"Meyve adı: {self.name} ---> meyve kalorisi: {self.calori}\")\n",
    "        \n",
    "    def __str__(self):\n",
    "        return self.name\n",
    "    \n",
    "    def __len__(self):\n",
    "        return self.calori\n",
    "    "
   ]
  },
  {
   "cell_type": "code",
   "execution_count": 16,
   "id": "8c34cf58",
   "metadata": {},
   "outputs": [
    {
     "name": "stdout",
     "output_type": "stream",
     "text": [
      "Meyve adı: Muz ---> meyve kalorisi: 100\n"
     ]
    }
   ],
   "source": [
    "muz=Fruit(\"Muz\",100)\n",
    "muz.featureWriting()"
   ]
  },
  {
   "cell_type": "code",
   "execution_count": 17,
   "id": "55dd5779",
   "metadata": {},
   "outputs": [
    {
     "name": "stdout",
     "output_type": "stream",
     "text": [
      "Muz\n"
     ]
    }
   ],
   "source": [
    "print(str(muz))"
   ]
  },
  {
   "cell_type": "code",
   "execution_count": 18,
   "id": "813f2544",
   "metadata": {},
   "outputs": [
    {
     "name": "stdout",
     "output_type": "stream",
     "text": [
      "100\n"
     ]
    }
   ],
   "source": [
    "print(len(muz))"
   ]
  },
  {
   "cell_type": "markdown",
   "id": "6e1d2301",
   "metadata": {},
   "source": [
    "magic method==special method"
   ]
  },
  {
   "cell_type": "code",
   "execution_count": null,
   "id": "aa1218aa",
   "metadata": {},
   "outputs": [],
   "source": []
  }
 ],
 "metadata": {
  "kernelspec": {
   "display_name": "Python 3 (ipykernel)",
   "language": "python",
   "name": "python3"
  },
  "language_info": {
   "codemirror_mode": {
    "name": "ipython",
    "version": 3
   },
   "file_extension": ".py",
   "mimetype": "text/x-python",
   "name": "python",
   "nbconvert_exporter": "python",
   "pygments_lexer": "ipython3",
   "version": "3.9.13"
  }
 },
 "nbformat": 4,
 "nbformat_minor": 5
}
